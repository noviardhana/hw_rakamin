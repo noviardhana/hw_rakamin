{
 "cells": [
  {
   "cell_type": "code",
   "execution_count": 1,
   "id": "df8b93d1-d997-4e2d-8acb-74590ccd53ab",
   "metadata": {},
   "outputs": [],
   "source": [
    "import pandas as pd"
   ]
  },
  {
   "cell_type": "markdown",
   "id": "52e03249-ec8b-4190-8558-72bcb7e8c008",
   "metadata": {
    "tags": []
   },
   "source": [
    "# A. Introduction to Pandas DataFrame and Transformation (45pts)"
   ]
  },
  {
   "cell_type": "markdown",
   "id": "168543d6-877d-4bfb-9831-9bf1c6834fa7",
   "metadata": {
    "tags": []
   },
   "source": [
    "## Beginner"
   ]
  },
  {
   "cell_type": "markdown",
   "id": "306f4342-1d9d-44c8-92c6-908d60c2e305",
   "metadata": {
    "tags": []
   },
   "source": [
    "### 1. Membuat DataFrame Manual (5pts)\n",
    "\n",
    "Buatlah dataframe secara manual seperti gambar dibawah ini.\n",
    "\n",
    "**Expected Result:**\n",
    "\n",
    "![Expected Result](assets/homework_exercise_1_result.png)"
   ]
  },
  {
   "cell_type": "code",
   "execution_count": 2,
   "id": "8f9e7905-9173-44a9-b12d-46f2ec551a81",
   "metadata": {},
   "outputs": [],
   "source": [
    "## Your code below here\n",
    "\n",
    "\n",
    "\n",
    "\n",
    "\n",
    "\n",
    "\n",
    "\n"
   ]
  },
  {
   "cell_type": "markdown",
   "id": "2777472d-eea5-4b61-9814-48bce5efa7a9",
   "metadata": {
    "tags": []
   },
   "source": [
    "### 2. Analisa Sederhana DataFrame (10pts)\n",
    "\n",
    "Lakukan import `application_processed.csv` data kedalam notebook (5pts) dan carilah beberapa informasi pada dataset `application_processed` (5pts) dan jawablah beberapa pertanyaan sebagai berikut:\n",
    "\n",
    "a. Column apa saja yang memiliki nilai NaN / None?\n",
    "b. Berapa rata-rata pada column `amount_income_total`?\n",
    "c. Berapa median pada column `amount_income_total`?\n",
    "\n",
    "**Hint**:\n",
    "- Menggunakan operasi dasar DataFrame pada topik Introduction Pandas DataFrame and Transformation\n"
   ]
  },
  {
   "cell_type": "code",
   "execution_count": 3,
   "id": "9823d0cc-1551-45c1-bb97-db2e681b74dc",
   "metadata": {},
   "outputs": [],
   "source": [
    "## Your code below here\n",
    "\n",
    "\n",
    "\n",
    "\n",
    "\n",
    "\n",
    "\n",
    "\n"
   ]
  },
  {
   "cell_type": "markdown",
   "id": "eaad73a5-af53-4a5c-a0c8-5c8866483d70",
   "metadata": {
    "tags": []
   },
   "source": [
    "## Intermediate"
   ]
  },
  {
   "cell_type": "markdown",
   "id": "72ac1872-a655-40f2-8153-784dfed25d56",
   "metadata": {},
   "source": [
    "### 3. Mengolah Dataset (30pts)\n",
    "\n",
    "Dengan menggunakan dataset `application_processed.csv` buatlah dataframe baru dengan ketentuan:\n",
    "1. Ambil semua users yang memiliki `email`. (ditandai dengan nilai pada column `flag_email` = 1) dan tidak memilik data `duplicates`. (5pts)\n",
    "2. Buatlah column baru bernama `has_car_and_property` dimana nilainya merupakan range dari `0-1`. `1` apabila `flag_own_car` bernilai `1` dan `flag_own_property` bernilai `1`. `0` apabila terdapat atau semua nilai pada column `flag_own_car` dan `flag_own_property` terdapat angka 0. (5pts)\n",
    "3. Ambil column yang diperlukan yaitu `id`, `gender`, `has_car_and_property`, `income_type`, `education_type`, `family_status`, `housing_type`, `occupation_type`, `amount_income_total`. (5pts)\n",
    "4. Lakukan filter dengan ketentuan sebagai berikut: (5pts)\n",
    "    - Memiliki `car` dan `property`\n",
    "    - Tidak ada nilai null pada column `occupation_type`\n",
    "    - Memiliki value pada column `occupation_type` dengan pola `staff`.\n",
    "5. Sudah dilakukan sorting berdasarkan `income_type` dari `A-Z` dan `amount_income_total` dari `besar ke kecil`. (5pts)\n",
    "6. Simpan kedalam bentuk `.csv` dengan nama `homework_3_result.csv`. (5pts)\n",
    "\n",
    "**Expected Result:**\n",
    "\n",
    "![Expected Result](assets/homework_exercise_3_result.png)"
   ]
  },
  {
   "cell_type": "code",
   "execution_count": 4,
   "id": "7ac1c77d-7c8d-4174-99b3-ec9dddde15eb",
   "metadata": {},
   "outputs": [],
   "source": [
    "## Your code below here\n",
    "\n",
    "\n",
    "\n",
    "\n",
    "\n",
    "\n",
    "\n",
    "\n"
   ]
  },
  {
   "cell_type": "markdown",
   "id": "1d26b6c7-1e20-47a9-bf4e-6ed74b04a237",
   "metadata": {
    "tags": []
   },
   "source": [
    "# B.DataFrame Aggregation (25pts)"
   ]
  },
  {
   "cell_type": "markdown",
   "id": "2ba1cb33-978c-4c65-bcb6-bcec082c9217",
   "metadata": {
    "tags": []
   },
   "source": [
    "## Intermediate"
   ]
  },
  {
   "cell_type": "markdown",
   "id": "80f6c274-66bd-48fd-9cd7-6d2bc4d95a28",
   "metadata": {
    "tags": []
   },
   "source": [
    "### 4. Group By and Aggregate (10pts)\n",
    "\n",
    "Dengan menggunakan data `titanic.csv`, buatlah dataframe untuk melihat informasi `max` dan `min` pada column `Age` dan juga informasi `mean` dan `median` pada column `Fare` pada masing-masing PassengerClass atau `Pclass`.\n",
    "\n",
    "**Expected Result:**\n",
    "\n",
    "![Expected Result](assets/homework_exercise_4_result.png)"
   ]
  },
  {
   "cell_type": "code",
   "execution_count": 5,
   "id": "87c3bf6f-5460-433f-8820-8189f21d60fb",
   "metadata": {},
   "outputs": [],
   "source": [
    "## Your code below here\n",
    "\n",
    "\n",
    "\n",
    "\n",
    "\n",
    "\n",
    "\n",
    "\n"
   ]
  },
  {
   "cell_type": "markdown",
   "id": "84dd9e90-c915-40a5-9c58-b3f8208f1477",
   "metadata": {
    "tags": []
   },
   "source": [
    "### 5. Memanfaatkan Pivot Tabel (15pts)\n",
    "\n",
    "Buatlah dataframe baru menggunakan fungsi pivot table untuk melihat `Embarked` apa saja yang `average_female_ticket_price` lebih besar daripada `average_male_ticket_price`. Informasi `average_female_ticket_price` dan `average_male_ticket_price` didapatkan dari rata-rata pada column `Fare`.\n",
    "\n",
    "**Hint:**\n",
    "1. menggunakan pivot table\n",
    "2. dapat dilihat pada topik `DataFrame Aggregation` bagian `Pivot Table | Reshape Columns and Rows`\n",
    "\n",
    "**Expected Result:**\n",
    "\n",
    "![Expected Result](assets/homework_exercise_5_result.png)"
   ]
  },
  {
   "cell_type": "code",
   "execution_count": 6,
   "id": "9795af38-7762-415a-a1e0-8ec6413195bd",
   "metadata": {},
   "outputs": [],
   "source": [
    "## Your code below here\n",
    "\n",
    "\n",
    "\n",
    "\n",
    "\n",
    "\n",
    "\n",
    "\n"
   ]
  },
  {
   "cell_type": "markdown",
   "id": "b30fccf3-ffe8-44e2-b876-b1bf2b5dfdf9",
   "metadata": {
    "tags": []
   },
   "source": [
    "# C. DataFrame Combination (30pts)"
   ]
  },
  {
   "cell_type": "markdown",
   "id": "1a71f163-7370-4de3-b8e1-f9b0cef705f8",
   "metadata": {
    "tags": []
   },
   "source": [
    "## 6. Melakukan Append pada DataFrame (5pts)\n",
    "\n",
    "Buatlah DataFrame seperti pada soal `no.1`. Kemudian tambahkan data tersebut dengan data users yang baru seperti gambar dibawah berikut.\n",
    "\n",
    "**New Users Data:**\n",
    "\n",
    "![Expected Result](assets/homework_exercise_6_new.png)\n",
    "\n",
    "**Expected Result:**\n",
    "\n",
    "![Expected Result](assets/homework_exercise_6_result.png)"
   ]
  },
  {
   "cell_type": "code",
   "execution_count": 7,
   "id": "d10a9626-79a1-4e61-a162-35446e082ae2",
   "metadata": {},
   "outputs": [],
   "source": [
    "## Your code below here\n",
    "\n",
    "\n",
    "\n",
    "\n",
    "\n",
    "\n",
    "\n",
    "\n"
   ]
  },
  {
   "cell_type": "markdown",
   "id": "0b8eb6b5-c02b-4366-b27b-240b3f0ae571",
   "metadata": {},
   "source": [
    "### 7. Merge DataFrame (25pts)\n",
    "\n",
    "Buatlah 2 dataframe mengikuti petunjuk berikut:\n",
    "\n",
    "df_1 :  Filter dataset 01 telecom_revenue.csv dengan multiple kondisi (5pts)\n",
    "- MonthlyRevenue > 10 \n",
    "- Occupation terdiri dari Professional, Student, and Crafts\n",
    "\n",
    "df_2 :  Filter dataset 02 telecom_usage.csv dengan multiple kondisi (5pt)\n",
    "- nilai UnansweredCalls > BlockedCalls\n",
    "\n",
    "Jawablah pertanyaan berikut ini:\n",
    "1. Hitunglah total CustomerID dan rata-rata DroppedCalls untuk masing-masing occupation. (10 Points)\n",
    "2. Pada occupation apa, rata-rata DroppedCalls paling besar? (5 Points)\n",
    "\n",
    "**Expected Result:**\n",
    "\n",
    "![Expected Result](assets/homework_exercise_7_result.png)"
   ]
  },
  {
   "cell_type": "code",
   "execution_count": 8,
   "id": "b1ad3786-32e3-4a8e-a904-efba30414e88",
   "metadata": {},
   "outputs": [],
   "source": [
    "## Your code below here\n",
    "\n",
    "\n",
    "\n",
    "\n",
    "\n",
    "\n",
    "\n",
    "\n"
   ]
  }
 ],
 "metadata": {
  "kernelspec": {
   "display_name": "Python [conda env:ml-practice]",
   "language": "python",
   "name": "conda-env-ml-practice-py"
  },
  "language_info": {
   "codemirror_mode": {
    "name": "ipython",
    "version": 3
   },
   "file_extension": ".py",
   "mimetype": "text/x-python",
   "name": "python",
   "nbconvert_exporter": "python",
   "pygments_lexer": "ipython3",
   "version": "3.7.6"
  }
 },
 "nbformat": 4,
 "nbformat_minor": 5
}
