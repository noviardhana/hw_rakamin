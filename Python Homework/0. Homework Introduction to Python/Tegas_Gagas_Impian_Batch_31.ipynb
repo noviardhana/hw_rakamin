{
 "cells": [
  {
   "cell_type": "markdown",
   "metadata": {
    "heading_collapsed": true,
    "id": "IQZPHNVGE0jj"
   },
   "source": [
    "# Homework Introduction to Python"
   ]
  },
  {
   "cell_type": "markdown",
   "metadata": {
    "hidden": true,
    "id": "yKMR8ypqE0jn"
   },
   "source": [
    "$\\textbf{Ubah nama di bawah yaa!}$"
   ]
  },
  {
   "cell_type": "markdown",
   "metadata": {
    "hidden": true,
    "id": "bQ7VJlKEE0jo"
   },
   "source": [
    "- Nama: Tegas Gagas Impian Prahita N, S.Si, M.Si.\n",
    "- IPK / Nilai Rapot: 3.95 / 9.8"
   ]
  },
  {
   "cell_type": "code",
   "execution_count": 1,
   "metadata": {
    "ExecuteTime": {
     "end_time": "2020-11-12T13:26:22.209983Z",
     "start_time": "2020-11-12T13:26:21.360470Z"
    },
    "hidden": true,
    "id": "4g2oLkevE0jo"
   },
   "outputs": [],
   "source": [
    "import numpy as np\n",
    "\n",
    "# please import as much as you need"
   ]
  },
  {
   "cell_type": "markdown",
   "metadata": {
    "id": "cgd-tTOjE0jr"
   },
   "source": [
    "# Normal"
   ]
  },
  {
   "cell_type": "markdown",
   "metadata": {
    "heading_collapsed": true,
    "id": "ed8OiWGeE0jr"
   },
   "source": [
    "## 1. Operasi Variabel\n",
    "\n",
    "> Misal kita memiliki toko sepatu. Modal membeli 1 kodi sepatu adalah Rp 1.000.000. Setiap sepatu dijual seharga Rp 80.000. Buatlah variabel modal, kuantitas, dan harga_jual sesuai informasi di atas. Hitung profit yang didapatkan jika semua sepatu berhasil terjual, dan masukkan ke variabel profit.\n",
    "\n",
    "Saran langkah-langkah pengerjaan\n",
    "1. Convert terlebih dahulu kodi dalam jumlah barang (1 kodi = xyz buah sepatu)\n",
    "2. Gunakan operasi matematika sederhana untuk menghitung profit menggunakan tiga buah variabel yang sudah ditentukan"
   ]
  },
  {
   "cell_type": "code",
   "execution_count": 2,
   "metadata": {
    "ExecuteTime": {
     "end_time": "2021-10-23T10:20:16.843127Z",
     "start_time": "2021-10-23T10:20:16.835236Z"
    },
    "hidden": true,
    "id": "ThOB9tEME0js",
    "scrolled": true
   },
   "outputs": [
    {
     "name": "stdout",
     "output_type": "stream",
     "text": [
      "profit yang didapat yaitu Rp.600000.0\n"
     ]
    }
   ],
   "source": [
    "# your code goes here!\n",
    "\n",
    "#1\n",
    "modal = 1e6\n",
    "kuantitas = 20\n",
    "harga_jual = 8e4\n",
    "\n",
    "profit = harga_jual * kuantitas - modal\n",
    "print(f\"profit yang didapat yaitu Rp.{profit}\")"
   ]
  },
  {
   "cell_type": "markdown",
   "metadata": {
    "hidden": true,
    "id": "8GaDbS89E0js"
   },
   "source": [
    "Jadi, dari profit di atas, dapat disimpulkan bahwa Toko Sepatu mengalami keuntungan Rp.600.000,-"
   ]
  },
  {
   "cell_type": "markdown",
   "metadata": {
    "id": "5oTZCAI4E0ju"
   },
   "source": [
    "## 2. Package Python dan Dictionary\n",
    "\n",
    "> Kita akan coba mengakses data scientific article dari PLOS corpus\n",
    "    Menggunakan API request dengan kode berikut : \n",
    "```\n",
    "import requests\n",
    "response = requests.get('http://api.plos.org/search?q=title:\"Drosophila\" AND body:\"RNA\"&fl=id,abstract')\n",
    "```\n",
    "**perhatikan tanda kutipnya tidak salah ketika meng-copy ke dalam python\n",
    "\n",
    "Pertanyaannya : \n",
    "Convert response.content dari request tersebut dari JSON Format ke dalam Dictionary, dan print-kan key di dalamnya apa saja\n",
    "\n",
    "Saran langkah-langkah pengerjaan\n",
    "1. Ikuti code dari soal, kemudian ekstrak value dari variable response menggunakan dot (.) content menjadi sebuah variabel baru (dictionary)\n",
    "2. Gunakan library json, convert hasil content menggunakan json.loads\n",
    "3. Print keys dari dictionary tersebut\n"
   ]
  },
  {
   "cell_type": "code",
   "execution_count": 3,
   "metadata": {
    "ExecuteTime": {
     "end_time": "2021-10-23T10:20:40.890513Z",
     "start_time": "2021-10-23T10:20:40.882963Z"
    },
    "id": "RY1kdZAUE0ju"
   },
   "outputs": [
    {
     "name": "stdout",
     "output_type": "stream",
     "text": [
      "<Response [200]>\n",
      "Isi keys dari 'Dictionary' :['response']\n"
     ]
    }
   ],
   "source": [
    "# your code goes here!\n",
    "import json\n",
    "import requests\n",
    "\n",
    "r = requests.get('http://api.plos.org/search?q=title:\"Drosophila\" AND body:\"RNA\"&fl=id,abstract')\n",
    "print(r)\n",
    "\n",
    "dictionary = json.loads(r.content)\n",
    "\n",
    "dictionary.keys()\n",
    "\n",
    "print(f\"Isi keys dari 'Dictionary' :{list(dictionary.keys())}\")"
   ]
  },
  {
   "cell_type": "markdown",
   "metadata": {
    "id": "rvQnd_NgE0jv"
   },
   "source": [
    "Jadi, dari url link di atas, kami menyimpulkan bahwa memiliki keys/columns response"
   ]
  },
  {
   "cell_type": "markdown",
   "metadata": {
    "id": "wWstgpwIPDwR"
   },
   "source": [
    "# Intermediate"
   ]
  },
  {
   "cell_type": "markdown",
   "metadata": {
    "id": "AI0lJNgDE0jv"
   },
   "source": [
    "## 3. Operasi dalam List\n",
    "\n",
    "> Buatlah list dengan 10 nama kota di indonesia, kemudian:\n",
    "1. Urutkan nama kota di dalam list berdasarkan abjad (a)\n",
    "2. Ambil 4 kota pertama dari list tersebut (yang telah diurutkan) (b)\n",
    "3. Ambil 3 kota terakhir dari list tersebut (yang telah diurutkan) (c)\n",
    "\n",
    "Saran langkah-langkah pengerjaan\n",
    "1. Tidak ada ketentuan nama kota (misal berdasarkan provinsi X atau pulau Y), dibebaskan untuk memilih. Buat nama-nama kota tersebut dalam sebuah list.\n",
    "2. Gunakan fungsi sorted(X) untuk mengurutkan secara kecil-ke-besar (sesuai abjad), dimana X adalah contoh variabel list pada langkah (a)\n",
    "3. Gunakan hasil poin (a), urutkan nama kota di dalam list berdasarkan abjad, untuk mengerjakan poin (b) dan (c). "
   ]
  },
  {
   "cell_type": "code",
   "execution_count": 4,
   "metadata": {
    "ExecuteTime": {
     "end_time": "2021-10-23T10:20:47.306584Z",
     "start_time": "2021-10-23T10:20:47.299827Z"
    },
    "id": "piGxWfIAE0jw",
    "scrolled": true
   },
   "outputs": [
    {
     "name": "stdout",
     "output_type": "stream",
     "text": [
      "Hasil urutan nama kota berdasarkan abjad ['Ambon', 'Bandung', 'Cirebon', 'Depok', 'Ende', 'Fakfak', 'Gorontalo', 'Halmahera tengah', 'Indramayu', 'Jakarta']\n",
      "Hasil 4 kota pertama ['Ambon', 'Bandung', 'Cirebon', 'Depok']\n",
      "Hasil 3 kota terakhir ['Halmahera tengah', 'Indramayu', 'Jakarta']\n"
     ]
    }
   ],
   "source": [
    "# your code goes here!\n",
    "\n",
    "nama_kota = ['Jakarta','Bandung','Depok','Fakfak','Ende','Halmahera tengah','Indramayu','Ambon','Cirebon','Gorontalo']\n",
    "\n",
    "# (a) Urutkan nama kota di dalam list berdasarkan abjad\n",
    "a = sorted(nama_kota)\n",
    "print(f\"Hasil urutan nama kota berdasarkan abjad {a}\")\n",
    "\n",
    "# (b) Ambil 4 kota pertama dari list tersebut (yang telah diurutkan)\n",
    "b = a[:4]\n",
    "print(f\"Hasil 4 kota pertama {b}\")\n",
    "\n",
    "\n",
    "# (c) Ambil 3 kota terakhir dari list tersebut (yang telah diurutkan)\n",
    "c = a[-3:]\n",
    "print(f\"Hasil 3 kota terakhir {c}\")"
   ]
  },
  {
   "cell_type": "markdown",
   "metadata": {
    "id": "FpbGs5EaE0jw"
   },
   "source": [
    "Jadi, dari operasi list di atas, dapat disimpulkan bahwa urutan nama kota yaitu Ambon, Bandung, Cirebon, Depok, Ende, Fakfak, Gorontalo, Halmahera tengah, Indramayu, Jakarta."
   ]
  },
  {
   "cell_type": "markdown",
   "metadata": {
    "id": "6nanVjCCE0jx"
   },
   "source": [
    "## 4. Function dalam List\n",
    "\n",
    "> Team sales memiliki list total transaksi dari 10 merchant pada bulan Juni 2020, yaitu: \n",
    "```\n",
    "total_transaksi = [ 19, 35, 23, 25, 10, 15, 33, 45, 21, 30 ]\n",
    "```\n",
    "1. Trx minimum\n",
    "2. Rata-rata \n",
    "3. Trx maksimal\n",
    "\n",
    "Saran langkah-langkah pengerjaan\n",
    "1. Copy variabel total_transaksi yang ada di soal ke notebook kita (atau ketik ulang boleh)\n",
    "2. Kemudian, hitung menggunakan function operasi dalam list yang telah dipelajari di kelas pada topik list. Print hasilnya setiap poin (a), (b), dan (c)"
   ]
  },
  {
   "cell_type": "code",
   "execution_count": 5,
   "metadata": {
    "ExecuteTime": {
     "end_time": "2021-10-23T10:20:52.903045Z",
     "start_time": "2021-10-23T10:20:52.894900Z"
    },
    "id": "HxvjrB2RE0jx",
    "scrolled": true
   },
   "outputs": [
    {
     "name": "stdout",
     "output_type": "stream",
     "text": [
      "Transaksi paling rendah yaitu 10\n",
      "Rata-rata transaksi yaitu 25.6\n",
      "Transaksi paling tinggi yaitu 45\n"
     ]
    }
   ],
   "source": [
    "# your code goes here!\n",
    "\n",
    "total_transaksi = [ 19, 35, 23, 25, 10, 15, 33, 45, 21, 30 ]\n",
    "\n",
    "# Trx minimum\n",
    "transaksi_paling_rendah = min(total_transaksi)\n",
    "print(f\"Transaksi paling rendah yaitu {transaksi_paling_rendah}\")\n",
    "\n",
    "# Rata-rata\n",
    "rerata_transaksi = sum(total_transaksi)/len(total_transaksi)\n",
    "print(f\"Rata-rata transaksi yaitu {rerata_transaksi}\")\n",
    "\n",
    "# Trx maksimal\n",
    "transaksi_paling_tinggi = max(total_transaksi)\n",
    "print(f\"Transaksi paling tinggi yaitu {transaksi_paling_tinggi}\")\n"
   ]
  },
  {
   "cell_type": "markdown",
   "metadata": {
    "id": "UgHXbAOqE0jx"
   },
   "source": [
    "Jadi, dari hasil operasi list di atas, dapat disimpulkan bahwa nilai minimal, maksimal, dan rata-rata yaitu 10, 45, dan 25.6"
   ]
  },
  {
   "cell_type": "markdown",
   "metadata": {
    "id": "f4EkwISgE0jx"
   },
   "source": [
    "# Advanced"
   ]
  },
  {
   "cell_type": "markdown",
   "metadata": {
    "id": "fmaX-pu5E0jy"
   },
   "source": [
    "## 5. NumPy Array\n",
    "\n",
    "> Buatlah array dari 5 bilangan ganjil pertama (dimulai dari 1), Kemudian lakukan perintah berikut : \n",
    "1. Kali-kan array tersebut dengan 10\n",
    "2. Bagi-kan array (hasil dari bagian a) dengan 3\n",
    "3. Kali-kan array (hasil dari bagian b) dengan array baru :\n",
    "`[-45, 43, 3, 56, 5]`\n",
    "4. Carilah pada index ke-berapa nilai tertinggi dan terendah dari array (hasil dari bagian c) \n",
    "\n",
    "Saran langkah-langkah pengerjaan\n",
    "1. HATI-HATI dalam pengerjaan, karena apabila poin sebelumnya salah, maka selanjutnya akan kebawa salah (misal (b) salah, maka poin (c) sampai (d) akan salah)\n",
    "2. Untuk array 5 bilangan ganjil pertama boleh manual boleh menggunakan fungsi, dimulai dari 1\n",
    "3. Ikuti perintah soal, gunakan numpy array, jangan list. Sesuaikan dengan permintaan soal pada setiap butir.\n",
    "\n"
   ]
  },
  {
   "cell_type": "code",
   "execution_count": 6,
   "metadata": {
    "ExecuteTime": {
     "end_time": "2021-10-23T10:20:59.988806Z",
     "start_time": "2021-10-23T10:20:59.980744Z"
    },
    "id": "VTTOjU8wE0jy",
    "scrolled": true
   },
   "outputs": [
    {
     "name": "stdout",
     "output_type": "stream",
     "text": [
      "[10 30 50 70 90]\n",
      "[ 3.33333333 10.         16.66666667 23.33333333 30.        ]\n",
      "[-150.          430.           50.         1306.66666667  150.        ]\n",
      "Indeks nilai tertinggi yaitu 3 dengan nilai 1306.6666666666665\n",
      "Indeks nilai terendah yaitu 0 dengan nilai -150.0\n"
     ]
    }
   ],
   "source": [
    "# your code goes here!\n",
    "\n",
    "odd_num = np.arange(1,10,2)\n",
    "\n",
    "# Kali-kan array tersebut dengan 10\n",
    "a = odd_num * 10\n",
    "print(a)\n",
    "\n",
    "# Bagi-kan array (hasil dari bagian a) dengan 3\n",
    "b = a / 3\n",
    "print(b)\n",
    "\n",
    "# Kali-kan array (hasil dari bagian b) dengan array baru : [-45, 43, 3, 56, 5]\n",
    "new = np.array([-45, 43, 3, 56, 5])\n",
    "c = b * new\n",
    "print(c)\n",
    "\n",
    "# Carilah pada index ke-berapa nilai tertinggi dan terendah dari array (hasil dari bagian c)\n",
    "print(f\"Indeks nilai tertinggi yaitu {np.argmax(c)} dengan nilai {c[np.argmax(c)]}\")\n",
    "print(f\"Indeks nilai terendah yaitu {np.argmin(c)} dengan nilai {c[np.argmin(c)]}\")"
   ]
  },
  {
   "cell_type": "markdown",
   "metadata": {
    "id": "wTkMvK_EE0jy"
   },
   "source": [
    "Jadi, dari hasil operasi numpy di atas, dapat disimpulkan bahwa nilai terendah dan tertinggi yaitu -150.0 dan 1306.667 pada indeks 0 dan 3"
   ]
  },
  {
   "cell_type": "markdown",
   "metadata": {
    "id": "LLIlxgN3Pmwj"
   },
   "source": [
    "# Terimakasih, salam dari bandung"
   ]
  }
 ],
 "metadata": {
  "colab": {
   "provenance": []
  },
  "kernelspec": {
   "display_name": "Python 3 (ipykernel)",
   "language": "python",
   "name": "python3"
  },
  "language_info": {
   "codemirror_mode": {
    "name": "ipython",
    "version": 3
   },
   "file_extension": ".py",
   "mimetype": "text/x-python",
   "name": "python",
   "nbconvert_exporter": "python",
   "pygments_lexer": "ipython3",
   "version": "3.9.13"
  },
  "toc": {
   "base_numbering": 1,
   "nav_menu": {},
   "number_sections": true,
   "sideBar": true,
   "skip_h1_title": false,
   "title_cell": "Table of Contents",
   "title_sidebar": "Contents",
   "toc_cell": false,
   "toc_position": {},
   "toc_section_display": true,
   "toc_window_display": true
  }
 },
 "nbformat": 4,
 "nbformat_minor": 1
}
