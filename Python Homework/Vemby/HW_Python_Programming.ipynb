{
 "cells": [
  {
   "cell_type": "code",
   "execution_count": null,
   "metadata": {
    "id": "-tHjthgLl8mE"
   },
   "outputs": [],
   "source": [
    "import numpy as np\n",
    "import pandas as pd"
   ]
  },
  {
   "cell_type": "markdown",
   "metadata": {
    "id": "CkwSGcNTd97D"
   },
   "source": [
    "## Jawaban soal no.1\n",
    "\n",
    "Menentukan jumlah plat genap dan ganjil"
   ]
  },
  {
   "cell_type": "code",
   "execution_count": null,
   "metadata": {
    "id": "RhlQkOadmFjN"
   },
   "outputs": [],
   "source": [
    "list_plat_mobil = ['B 1234 AB', 'B 6721 TY', 'B 1233 AY', 'B 6629 DD', 'B 1111 AM', 'B 6726 D', 'D 11223 KJ', 'AE 44677 GH', 'AE 67269 AA']"
   ]
  },
  {
   "cell_type": "code",
   "execution_count": null,
   "metadata": {
    "id": "ib9-ovm7XLDn"
   },
   "outputs": [],
   "source": [
    "# Function to deffinition odd and event plat\n",
    "def check(x):\n",
    "    x = int(x.split()[1]) # Get numerical values from 'number plate'\n",
    "    result = 'genap' if x % 2 == 0 else 'ganjil'\n",
    "    return result;"
   ]
  },
  {
   "cell_type": "code",
   "execution_count": null,
   "metadata": {
    "colab": {
     "base_uri": "https://localhost:8080/"
    },
    "id": "FVLbtYeA4ZSJ",
    "outputId": "3a5967c0-dfae-4785-a69d-38d616c4e0cf"
   },
   "outputs": [
    {
     "name": "stdout",
     "output_type": "stream",
     "text": [
      "Jumlah plat Ganjil adalah 7 dan Genap adalah 2\n"
     ]
    }
   ],
   "source": [
    "# Initiation values\n",
    "even = 0\n",
    "odd = 0\n",
    "\n",
    "# Itteration\n",
    "for x in list_plat_mobil:\n",
    "    plat = x\n",
    "    if check(x) == 'genap': # Conditional statments counting odd and even plate\n",
    "        even += 1\n",
    "    else:\n",
    "        odd += 1\n",
    "  # print(f'plat {plat} adalah {cek(x)}')\n",
    "\n",
    "print(f'Jumlah plat Ganjil adalah {odd} dan Genap adalah {even}')"
   ]
  },
  {
   "cell_type": "markdown",
   "metadata": {
    "id": "z0FyVBfXgaZg"
   },
   "source": [
    "## Jawaban soal no.2\n",
    "\n",
    "Deret Fibbonanci"
   ]
  },
  {
   "cell_type": "code",
   "execution_count": null,
   "metadata": {
    "id": "TKJ4xY4Kj7mU"
   },
   "outputs": [],
   "source": [
    "# Function fibbonanci from (2, 3)\n",
    "def fibonacci(n):\n",
    "    sequence = [2, 3] # Initial values\n",
    "    while len(sequence) < n:\n",
    "        next_value = sequence[len(sequence) - 1] + sequence[len(sequence) - 2]\n",
    "        sequence.append(next_value)\n",
    "    return sequence;"
   ]
  },
  {
   "cell_type": "code",
   "execution_count": null,
   "metadata": {
    "colab": {
     "base_uri": "https://localhost:8080/"
    },
    "id": "rlvrZ6O-zZeg",
    "outputId": "b8c70549-129a-4bd2-b14e-9ea5724f33f9"
   },
   "outputs": [
    {
     "name": "stdout",
     "output_type": "stream",
     "text": [
      "12 angka pertama dalam deret Fibonacci:\n",
      "[2, 3, 5, 8, 13, 21, 34, 55, 89, 144, 233, 377]\n"
     ]
    }
   ],
   "source": [
    "print(\"12 angka pertama dalam deret Fibonacci:\")\n",
    "print(fibonacci(12))\n"
   ]
  },
  {
   "cell_type": "markdown",
   "metadata": {
    "id": "12Uz2aWp13ZB"
   },
   "source": [
    "## Jawaban soal no.3\n",
    "\n",
    "Team Campaign PT ABC membuat promo *bundling category product*"
   ]
  },
  {
   "cell_type": "code",
   "execution_count": null,
   "metadata": {
    "id": "OFpryG1i2OR2"
   },
   "outputs": [],
   "source": [
    "list_id_category = ['c1', 'c2', 'c3', 'c4', 'c5', 'c6', 'c7' , 'c8', 'c9', 'c10']"
   ]
  },
  {
   "cell_type": "code",
   "execution_count": null,
   "metadata": {
    "id": "JD1jblGJ2cHD"
   },
   "outputs": [],
   "source": [
    "# Empty list\n",
    "combination = []\n",
    "\n",
    "# Function to calculate combination from 10 parameter\n",
    "def comb(L, count=0):\n",
    "    for i in list_id_category:\n",
    "        for j in list_id_category:\n",
    "            for k in list_id_category:\n",
    "              list_loop = sorted([i, j, k])    \n",
    "              if list_loop not in combination and i != j != k:  \n",
    "              # Check if parameter in the indexesare not same \n",
    "                 combination.append(list_loop)\n",
    "                 count += 1 # Count combination of parameter\n",
    "    return print(f'terdapat {count} jumlah kemungkinan kombinasi');                "
   ]
  },
  {
   "cell_type": "code",
   "execution_count": null,
   "metadata": {
    "colab": {
     "base_uri": "https://localhost:8080/"
    },
    "id": "nDm6K9LiWp38",
    "outputId": "f8eb7a0f-323b-4136-aac7-14050428df66"
   },
   "outputs": [
    {
     "name": "stdout",
     "output_type": "stream",
     "text": [
      "terdapat 210 jumlah kemungkinan kombinasi\n"
     ]
    }
   ],
   "source": [
    "comb(list_id_category)"
   ]
  },
  {
   "cell_type": "markdown",
   "metadata": {
    "id": "ItBDhsYvOAZY"
   },
   "source": [
    "## Jawaban soal no.4\n",
    "\n",
    "function *string_processor*"
   ]
  },
  {
   "cell_type": "code",
   "execution_count": null,
   "metadata": {
    "id": "2zKUEw1IKxNg"
   },
   "outputs": [],
   "source": [
    "# Function string processor\n",
    "def string_processor(x, process = 'Num_vowels'):\n",
    "    process = process.lower()\n",
    "    x = x.lower()\n",
    "    if process == 'first_char':\n",
    "      hasil = x[0]\n",
    "    elif process == 'last_char':\n",
    "      hasil = x[-1]\n",
    "    elif process == 'num_chars':\n",
    "      hasil = len(x)\n",
    "    elif process == 'num_vowels':\n",
    "      hasil = num_vowels(x)\n",
    "    return hasil;\n",
    "\n",
    "# Devine vowel\n",
    "def num_vowels(x):\n",
    "  count = 0\n",
    "  vowels = [\"a\", \"e\", \"i\", \"o\", \"u\"]\n",
    "  for i in range(len(x)):\n",
    "    if x[i] in vowels:\n",
    "        count += 1\n",
    "  return count;"
   ]
  },
  {
   "cell_type": "code",
   "execution_count": null,
   "metadata": {
    "colab": {
     "base_uri": "https://localhost:8080/"
    },
    "id": "K3DxkHq0ECJ1",
    "outputId": "1a6f0b0c-fd8f-44d9-cdd9-7d08862a3751"
   },
   "outputs": [
    {
     "data": {
      "text/plain": [
       "11"
      ]
     },
     "execution_count": 11,
     "metadata": {},
     "output_type": "execute_result"
    }
   ],
   "source": [
    "string_processor('The Quick Brown Fox Jumps Over The Lazy Dog')"
   ]
  },
  {
   "cell_type": "markdown",
   "metadata": {
    "id": "PsNqkn2-UR29"
   },
   "source": [
    "## Jawaban soal no.5\n",
    "\n",
    "user yang menggunakan email gmail pada tahun 2018"
   ]
  },
  {
   "cell_type": "code",
   "execution_count": null,
   "metadata": {
    "colab": {
     "base_uri": "https://localhost:8080/"
    },
    "id": "Nw_n0bYgYR-j",
    "outputId": "9279ef72-e72f-4294-c52b-fefbc5025200"
   },
   "outputs": [
    {
     "name": "stdout",
     "output_type": "stream",
     "text": [
      "<class 'pandas.core.frame.DataFrame'>\n",
      "RangeIndex: 126 entries, 0 to 125\n",
      "Data columns (total 8 columns):\n",
      " #   Column        Non-Null Count  Dtype \n",
      "---  ------        --------------  ----- \n",
      " 0   month         126 non-null    object\n",
      " 1   user_id       126 non-null    int64 \n",
      " 2   username      126 non-null    object\n",
      " 3   email         126 non-null    object\n",
      " 4   kota          126 non-null    object\n",
      " 5   total_visit   126 non-null    int64 \n",
      " 6   total_order   126 non-null    int64 \n",
      " 7   total_amount  126 non-null    int64 \n",
      "dtypes: int64(4), object(4)\n",
      "memory usage: 8.0+ KB\n"
     ]
    }
   ],
   "source": [
    "df = pd.read_csv('/content/drive/MyDrive/0. Rakamin/rakamin_store_city_monthly.csv', delimiter = ';')\n",
    "df.info()"
   ]
  },
  {
   "cell_type": "code",
   "execution_count": null,
   "metadata": {
    "id": "JFXvUh6bkJTU"
   },
   "outputs": [],
   "source": [
    "# Create new coloumn 'is_gmail' and 'year'\n",
    "\n",
    "df['is_gmail'] = df['email'].apply(lambda x: True if (x.split('@')[1]).split('.')[0] == 'gmail' else False)\n",
    "df['year'] = df['month'].apply(lambda x: x[:4])"
   ]
  },
  {
   "cell_type": "code",
   "execution_count": null,
   "metadata": {
    "colab": {
     "base_uri": "https://localhost:8080/",
     "height": 112
    },
    "id": "Qzs89Eugn_R-",
    "outputId": "3c47d77d-c3c7-444b-93f4-67552ae8047c"
   },
   "outputs": [
    {
     "data": {
      "text/html": [
       "\n",
       "  <div id=\"df-b93c35a7-737c-42de-a43a-619d6fb48b23\">\n",
       "    <div class=\"colab-df-container\">\n",
       "      <div>\n",
       "<style scoped>\n",
       "    .dataframe tbody tr th:only-of-type {\n",
       "        vertical-align: middle;\n",
       "    }\n",
       "\n",
       "    .dataframe tbody tr th {\n",
       "        vertical-align: top;\n",
       "    }\n",
       "\n",
       "    .dataframe thead th {\n",
       "        text-align: right;\n",
       "    }\n",
       "</style>\n",
       "<table border=\"1\" class=\"dataframe\">\n",
       "  <thead>\n",
       "    <tr style=\"text-align: right;\">\n",
       "      <th></th>\n",
       "      <th>is_gmail</th>\n",
       "      <th>user_id</th>\n",
       "    </tr>\n",
       "  </thead>\n",
       "  <tbody>\n",
       "    <tr>\n",
       "      <th>0</th>\n",
       "      <td>False</td>\n",
       "      <td>14</td>\n",
       "    </tr>\n",
       "    <tr>\n",
       "      <th>1</th>\n",
       "      <td>True</td>\n",
       "      <td>3</td>\n",
       "    </tr>\n",
       "  </tbody>\n",
       "</table>\n",
       "</div>\n",
       "      <button class=\"colab-df-convert\" onclick=\"convertToInteractive('df-b93c35a7-737c-42de-a43a-619d6fb48b23')\"\n",
       "              title=\"Convert this dataframe to an interactive table.\"\n",
       "              style=\"display:none;\">\n",
       "        \n",
       "  <svg xmlns=\"http://www.w3.org/2000/svg\" height=\"24px\"viewBox=\"0 0 24 24\"\n",
       "       width=\"24px\">\n",
       "    <path d=\"M0 0h24v24H0V0z\" fill=\"none\"/>\n",
       "    <path d=\"M18.56 5.44l.94 2.06.94-2.06 2.06-.94-2.06-.94-.94-2.06-.94 2.06-2.06.94zm-11 1L8.5 8.5l.94-2.06 2.06-.94-2.06-.94L8.5 2.5l-.94 2.06-2.06.94zm10 10l.94 2.06.94-2.06 2.06-.94-2.06-.94-.94-2.06-.94 2.06-2.06.94z\"/><path d=\"M17.41 7.96l-1.37-1.37c-.4-.4-.92-.59-1.43-.59-.52 0-1.04.2-1.43.59L10.3 9.45l-7.72 7.72c-.78.78-.78 2.05 0 2.83L4 21.41c.39.39.9.59 1.41.59.51 0 1.02-.2 1.41-.59l7.78-7.78 2.81-2.81c.8-.78.8-2.07 0-2.86zM5.41 20L4 18.59l7.72-7.72 1.47 1.35L5.41 20z\"/>\n",
       "  </svg>\n",
       "      </button>\n",
       "      \n",
       "  <style>\n",
       "    .colab-df-container {\n",
       "      display:flex;\n",
       "      flex-wrap:wrap;\n",
       "      gap: 12px;\n",
       "    }\n",
       "\n",
       "    .colab-df-convert {\n",
       "      background-color: #E8F0FE;\n",
       "      border: none;\n",
       "      border-radius: 50%;\n",
       "      cursor: pointer;\n",
       "      display: none;\n",
       "      fill: #1967D2;\n",
       "      height: 32px;\n",
       "      padding: 0 0 0 0;\n",
       "      width: 32px;\n",
       "    }\n",
       "\n",
       "    .colab-df-convert:hover {\n",
       "      background-color: #E2EBFA;\n",
       "      box-shadow: 0px 1px 2px rgba(60, 64, 67, 0.3), 0px 1px 3px 1px rgba(60, 64, 67, 0.15);\n",
       "      fill: #174EA6;\n",
       "    }\n",
       "\n",
       "    [theme=dark] .colab-df-convert {\n",
       "      background-color: #3B4455;\n",
       "      fill: #D2E3FC;\n",
       "    }\n",
       "\n",
       "    [theme=dark] .colab-df-convert:hover {\n",
       "      background-color: #434B5C;\n",
       "      box-shadow: 0px 1px 3px 1px rgba(0, 0, 0, 0.15);\n",
       "      filter: drop-shadow(0px 1px 2px rgba(0, 0, 0, 0.3));\n",
       "      fill: #FFFFFF;\n",
       "    }\n",
       "  </style>\n",
       "\n",
       "      <script>\n",
       "        const buttonEl =\n",
       "          document.querySelector('#df-b93c35a7-737c-42de-a43a-619d6fb48b23 button.colab-df-convert');\n",
       "        buttonEl.style.display =\n",
       "          google.colab.kernel.accessAllowed ? 'block' : 'none';\n",
       "\n",
       "        async function convertToInteractive(key) {\n",
       "          const element = document.querySelector('#df-b93c35a7-737c-42de-a43a-619d6fb48b23');\n",
       "          const dataTable =\n",
       "            await google.colab.kernel.invokeFunction('convertToInteractive',\n",
       "                                                     [key], {});\n",
       "          if (!dataTable) return;\n",
       "\n",
       "          const docLinkHtml = 'Like what you see? Visit the ' +\n",
       "            '<a target=\"_blank\" href=https://colab.research.google.com/notebooks/data_table.ipynb>data table notebook</a>'\n",
       "            + ' to learn more about interactive tables.';\n",
       "          element.innerHTML = '';\n",
       "          dataTable['output_type'] = 'display_data';\n",
       "          await google.colab.output.renderOutput(dataTable, element);\n",
       "          const docLink = document.createElement('div');\n",
       "          docLink.innerHTML = docLinkHtml;\n",
       "          element.appendChild(docLink);\n",
       "        }\n",
       "      </script>\n",
       "    </div>\n",
       "  </div>\n",
       "  "
      ],
      "text/plain": [
       "   is_gmail  user_id\n",
       "0     False       14\n",
       "1      True        3"
      ]
     },
     "execution_count": 14,
     "metadata": {},
     "output_type": "execute_result"
    }
   ],
   "source": [
    "# Calculate gmail user in 2018\n",
    "\n",
    "tmp = df[df.year == '2018'].groupby(df.is_gmail)['user_id'].nunique().reset_index()\n",
    "tmp"
   ]
  },
  {
   "cell_type": "code",
   "execution_count": null,
   "metadata": {
    "colab": {
     "base_uri": "https://localhost:8080/"
    },
    "id": "C7GvTkq0oooK",
    "outputId": "bfd005ca-d0f0-4675-efa0-5ac224416122"
   },
   "outputs": [
    {
     "name": "stdout",
     "output_type": "stream",
     "text": [
      "Jumlah user yang menggunakan email gmail pada tahun 2018 adalah 3\n"
     ]
    }
   ],
   "source": [
    "print(f\"Jumlah user yang menggunakan email gmail pada tahun 2018 adalah {tmp.loc[1,'user_id']}\")"
   ]
  },
  {
   "cell_type": "markdown",
   "metadata": {
    "id": "zVgkjYIhu0Vh"
   },
   "source": [
    "## Jawaban soal no.6\n",
    "\n",
    "function menghitung Jumlah Sales dan Profit"
   ]
  },
  {
   "cell_type": "code",
   "execution_count": null,
   "metadata": {
    "id": "uy3HIp0Au-Sq"
   },
   "outputs": [],
   "source": [
    "df = pd.read_excel('/content/drive/MyDrive/0. Rakamin/superstore.xls')"
   ]
  },
  {
   "cell_type": "code",
   "execution_count": null,
   "metadata": {
    "colab": {
     "base_uri": "https://localhost:8080/",
     "height": 551
    },
    "id": "gZ1mYg7NYUM1",
    "outputId": "41d8c427-89c9-46b8-a807-73f072e05818"
   },
   "outputs": [
    {
     "data": {
      "text/html": [
       "\n",
       "  <div id=\"df-712481a1-b5f4-4790-9ef8-b7ce09d42452\">\n",
       "    <div class=\"colab-df-container\">\n",
       "      <div>\n",
       "<style scoped>\n",
       "    .dataframe tbody tr th:only-of-type {\n",
       "        vertical-align: middle;\n",
       "    }\n",
       "\n",
       "    .dataframe tbody tr th {\n",
       "        vertical-align: top;\n",
       "    }\n",
       "\n",
       "    .dataframe thead th {\n",
       "        text-align: right;\n",
       "    }\n",
       "</style>\n",
       "<table border=\"1\" class=\"dataframe\">\n",
       "  <thead>\n",
       "    <tr style=\"text-align: right;\">\n",
       "      <th></th>\n",
       "      <th>Year</th>\n",
       "      <th>Region</th>\n",
       "      <th>Sales</th>\n",
       "      <th>Profit</th>\n",
       "    </tr>\n",
       "  </thead>\n",
       "  <tbody>\n",
       "    <tr>\n",
       "      <th>0</th>\n",
       "      <td>2014</td>\n",
       "      <td>Central</td>\n",
       "      <td>103838.1646</td>\n",
       "      <td>539.5534</td>\n",
       "    </tr>\n",
       "    <tr>\n",
       "      <th>1</th>\n",
       "      <td>2014</td>\n",
       "      <td>East</td>\n",
       "      <td>128680.4570</td>\n",
       "      <td>17059.6095</td>\n",
       "    </tr>\n",
       "    <tr>\n",
       "      <th>2</th>\n",
       "      <td>2014</td>\n",
       "      <td>South</td>\n",
       "      <td>103845.8435</td>\n",
       "      <td>11879.1200</td>\n",
       "    </tr>\n",
       "    <tr>\n",
       "      <th>3</th>\n",
       "      <td>2014</td>\n",
       "      <td>West</td>\n",
       "      <td>147883.0330</td>\n",
       "      <td>20065.6912</td>\n",
       "    </tr>\n",
       "    <tr>\n",
       "      <th>4</th>\n",
       "      <td>2015</td>\n",
       "      <td>Central</td>\n",
       "      <td>102874.2220</td>\n",
       "      <td>11716.8020</td>\n",
       "    </tr>\n",
       "    <tr>\n",
       "      <th>5</th>\n",
       "      <td>2015</td>\n",
       "      <td>East</td>\n",
       "      <td>156332.0570</td>\n",
       "      <td>21091.0130</td>\n",
       "    </tr>\n",
       "    <tr>\n",
       "      <th>6</th>\n",
       "      <td>2015</td>\n",
       "      <td>South</td>\n",
       "      <td>71359.9805</td>\n",
       "      <td>8318.5940</td>\n",
       "    </tr>\n",
       "    <tr>\n",
       "      <th>7</th>\n",
       "      <td>2015</td>\n",
       "      <td>West</td>\n",
       "      <td>139966.2495</td>\n",
       "      <td>20492.1947</td>\n",
       "    </tr>\n",
       "    <tr>\n",
       "      <th>8</th>\n",
       "      <td>2016</td>\n",
       "      <td>Central</td>\n",
       "      <td>147429.3760</td>\n",
       "      <td>19899.1629</td>\n",
       "    </tr>\n",
       "    <tr>\n",
       "      <th>9</th>\n",
       "      <td>2016</td>\n",
       "      <td>East</td>\n",
       "      <td>180685.8220</td>\n",
       "      <td>20141.5961</td>\n",
       "    </tr>\n",
       "    <tr>\n",
       "      <th>10</th>\n",
       "      <td>2016</td>\n",
       "      <td>South</td>\n",
       "      <td>93610.2235</td>\n",
       "      <td>17702.8084</td>\n",
       "    </tr>\n",
       "    <tr>\n",
       "      <th>11</th>\n",
       "      <td>2016</td>\n",
       "      <td>West</td>\n",
       "      <td>187480.1765</td>\n",
       "      <td>24051.6069</td>\n",
       "    </tr>\n",
       "    <tr>\n",
       "      <th>12</th>\n",
       "      <td>2017</td>\n",
       "      <td>Central</td>\n",
       "      <td>147098.1282</td>\n",
       "      <td>7550.8442</td>\n",
       "    </tr>\n",
       "    <tr>\n",
       "      <th>13</th>\n",
       "      <td>2017</td>\n",
       "      <td>East</td>\n",
       "      <td>213082.9040</td>\n",
       "      <td>33230.5614</td>\n",
       "    </tr>\n",
       "    <tr>\n",
       "      <th>14</th>\n",
       "      <td>2017</td>\n",
       "      <td>South</td>\n",
       "      <td>122905.8575</td>\n",
       "      <td>8848.9079</td>\n",
       "    </tr>\n",
       "    <tr>\n",
       "      <th>15</th>\n",
       "      <td>2017</td>\n",
       "      <td>West</td>\n",
       "      <td>250128.3655</td>\n",
       "      <td>43808.9561</td>\n",
       "    </tr>\n",
       "  </tbody>\n",
       "</table>\n",
       "</div>\n",
       "      <button class=\"colab-df-convert\" onclick=\"convertToInteractive('df-712481a1-b5f4-4790-9ef8-b7ce09d42452')\"\n",
       "              title=\"Convert this dataframe to an interactive table.\"\n",
       "              style=\"display:none;\">\n",
       "        \n",
       "  <svg xmlns=\"http://www.w3.org/2000/svg\" height=\"24px\"viewBox=\"0 0 24 24\"\n",
       "       width=\"24px\">\n",
       "    <path d=\"M0 0h24v24H0V0z\" fill=\"none\"/>\n",
       "    <path d=\"M18.56 5.44l.94 2.06.94-2.06 2.06-.94-2.06-.94-.94-2.06-.94 2.06-2.06.94zm-11 1L8.5 8.5l.94-2.06 2.06-.94-2.06-.94L8.5 2.5l-.94 2.06-2.06.94zm10 10l.94 2.06.94-2.06 2.06-.94-2.06-.94-.94-2.06-.94 2.06-2.06.94z\"/><path d=\"M17.41 7.96l-1.37-1.37c-.4-.4-.92-.59-1.43-.59-.52 0-1.04.2-1.43.59L10.3 9.45l-7.72 7.72c-.78.78-.78 2.05 0 2.83L4 21.41c.39.39.9.59 1.41.59.51 0 1.02-.2 1.41-.59l7.78-7.78 2.81-2.81c.8-.78.8-2.07 0-2.86zM5.41 20L4 18.59l7.72-7.72 1.47 1.35L5.41 20z\"/>\n",
       "  </svg>\n",
       "      </button>\n",
       "      \n",
       "  <style>\n",
       "    .colab-df-container {\n",
       "      display:flex;\n",
       "      flex-wrap:wrap;\n",
       "      gap: 12px;\n",
       "    }\n",
       "\n",
       "    .colab-df-convert {\n",
       "      background-color: #E8F0FE;\n",
       "      border: none;\n",
       "      border-radius: 50%;\n",
       "      cursor: pointer;\n",
       "      display: none;\n",
       "      fill: #1967D2;\n",
       "      height: 32px;\n",
       "      padding: 0 0 0 0;\n",
       "      width: 32px;\n",
       "    }\n",
       "\n",
       "    .colab-df-convert:hover {\n",
       "      background-color: #E2EBFA;\n",
       "      box-shadow: 0px 1px 2px rgba(60, 64, 67, 0.3), 0px 1px 3px 1px rgba(60, 64, 67, 0.15);\n",
       "      fill: #174EA6;\n",
       "    }\n",
       "\n",
       "    [theme=dark] .colab-df-convert {\n",
       "      background-color: #3B4455;\n",
       "      fill: #D2E3FC;\n",
       "    }\n",
       "\n",
       "    [theme=dark] .colab-df-convert:hover {\n",
       "      background-color: #434B5C;\n",
       "      box-shadow: 0px 1px 3px 1px rgba(0, 0, 0, 0.15);\n",
       "      filter: drop-shadow(0px 1px 2px rgba(0, 0, 0, 0.3));\n",
       "      fill: #FFFFFF;\n",
       "    }\n",
       "  </style>\n",
       "\n",
       "      <script>\n",
       "        const buttonEl =\n",
       "          document.querySelector('#df-712481a1-b5f4-4790-9ef8-b7ce09d42452 button.colab-df-convert');\n",
       "        buttonEl.style.display =\n",
       "          google.colab.kernel.accessAllowed ? 'block' : 'none';\n",
       "\n",
       "        async function convertToInteractive(key) {\n",
       "          const element = document.querySelector('#df-712481a1-b5f4-4790-9ef8-b7ce09d42452');\n",
       "          const dataTable =\n",
       "            await google.colab.kernel.invokeFunction('convertToInteractive',\n",
       "                                                     [key], {});\n",
       "          if (!dataTable) return;\n",
       "\n",
       "          const docLinkHtml = 'Like what you see? Visit the ' +\n",
       "            '<a target=\"_blank\" href=https://colab.research.google.com/notebooks/data_table.ipynb>data table notebook</a>'\n",
       "            + ' to learn more about interactive tables.';\n",
       "          element.innerHTML = '';\n",
       "          dataTable['output_type'] = 'display_data';\n",
       "          await google.colab.output.renderOutput(dataTable, element);\n",
       "          const docLink = document.createElement('div');\n",
       "          docLink.innerHTML = docLinkHtml;\n",
       "          element.appendChild(docLink);\n",
       "        }\n",
       "      </script>\n",
       "    </div>\n",
       "  </div>\n",
       "  "
      ],
      "text/plain": [
       "    Year   Region        Sales      Profit\n",
       "0   2014  Central  103838.1646    539.5534\n",
       "1   2014     East  128680.4570  17059.6095\n",
       "2   2014    South  103845.8435  11879.1200\n",
       "3   2014     West  147883.0330  20065.6912\n",
       "4   2015  Central  102874.2220  11716.8020\n",
       "5   2015     East  156332.0570  21091.0130\n",
       "6   2015    South   71359.9805   8318.5940\n",
       "7   2015     West  139966.2495  20492.1947\n",
       "8   2016  Central  147429.3760  19899.1629\n",
       "9   2016     East  180685.8220  20141.5961\n",
       "10  2016    South   93610.2235  17702.8084\n",
       "11  2016     West  187480.1765  24051.6069\n",
       "12  2017  Central  147098.1282   7550.8442\n",
       "13  2017     East  213082.9040  33230.5614\n",
       "14  2017    South  122905.8575   8848.9079\n",
       "15  2017     West  250128.3655  43808.9561"
      ]
     },
     "execution_count": 17,
     "metadata": {},
     "output_type": "execute_result"
    }
   ],
   "source": [
    "df['Year'] = df['Order Date'].apply(lambda x: x.year) # Create cloumn Year\n",
    "\n",
    "df.groupby([df.Year, df.Region]).agg({'Sales' : 'sum','Profit' : 'sum'}).reset_index() # Aggregation Year and Region"
   ]
  },
  {
   "cell_type": "code",
   "execution_count": null,
   "metadata": {
    "id": "fO17uzpgBsWY"
   },
   "outputs": [],
   "source": [
    "# Create function to calculate sales and profit\n",
    "\n",
    "def func(x, y = 2017):\n",
    "  df_n = df.groupby([df.Year == y, df.Region == x]).agg({'Sales' : 'sum','Profit' : 'sum'}).reset_index()\n",
    "\n",
    "  sales = df_n.loc[3]['Sales']\n",
    "  profit = df_n.loc[3]['Profit']\n",
    "\n",
    "  return print(f\"Pada {y} di {x} region, sales {sales} dan profit {profit}\") "
   ]
  },
  {
   "cell_type": "code",
   "execution_count": null,
   "metadata": {
    "colab": {
     "base_uri": "https://localhost:8080/"
    },
    "id": "JQoFGK6qhj9X",
    "outputId": "f97e06c7-4730-4619-f33b-c086a497d771"
   },
   "outputs": [
    {
     "name": "stdout",
     "output_type": "stream",
     "text": [
      "Region : east\n",
      "Tahun : 2015\n",
      "Pada 2015 di East region, sales 156332.057 dan profit 21091.012999999995\n"
     ]
    }
   ],
   "source": [
    "a = input('Region : ')\n",
    "region = str(a)\n",
    "b = input('Tahun : ')\n",
    "tahun = int(b)\n",
    "\n",
    "region = region.capitalize()\n",
    "\n",
    "try:\n",
    "  if (tahun == None):\n",
    "    func(region)\n",
    "  else:\n",
    "    func(region,tahun)\n",
    "except:\n",
    "  print('region or year erorr')"
   ]
  },
  {
   "cell_type": "markdown",
   "metadata": {
    "id": "ypOqA3nZXyFy"
   },
   "source": [
    "## Jawaban soal no.7\n",
    "\n",
    "Kelompok 'segment' (high, medium, dan low) berdasarkan performance Sales"
   ]
  },
  {
   "cell_type": "code",
   "execution_count": null,
   "metadata": {
    "colab": {
     "base_uri": "https://localhost:8080/"
    },
    "id": "0V_vUX6RYYlq",
    "outputId": "d690de2c-c2e5-4d1d-c7bb-7d9ec4c2d6ca"
   },
   "outputs": [
    {
     "name": "stdout",
     "output_type": "stream",
     "text": [
      "<class 'pandas.core.frame.DataFrame'>\n",
      "RangeIndex: 9994 entries, 0 to 9993\n",
      "Data columns (total 22 columns):\n",
      " #   Column         Non-Null Count  Dtype         \n",
      "---  ------         --------------  -----         \n",
      " 0   Row ID         9994 non-null   int64         \n",
      " 1   Order ID       9994 non-null   object        \n",
      " 2   Order Date     9994 non-null   datetime64[ns]\n",
      " 3   Ship Date      9994 non-null   datetime64[ns]\n",
      " 4   Ship Mode      9994 non-null   object        \n",
      " 5   Customer ID    9994 non-null   object        \n",
      " 6   Customer Name  9994 non-null   object        \n",
      " 7   Segment        9994 non-null   object        \n",
      " 8   Country        9994 non-null   object        \n",
      " 9   City           9994 non-null   object        \n",
      " 10  State          9994 non-null   object        \n",
      " 11  Postal Code    9994 non-null   int64         \n",
      " 12  Region         9994 non-null   object        \n",
      " 13  Product ID     9994 non-null   object        \n",
      " 14  Category       9994 non-null   object        \n",
      " 15  Sub-Category   9994 non-null   object        \n",
      " 16  Product Name   9994 non-null   object        \n",
      " 17  Sales          9994 non-null   float64       \n",
      " 18  Quantity       9994 non-null   int64         \n",
      " 19  Discount       9994 non-null   float64       \n",
      " 20  Profit         9994 non-null   float64       \n",
      " 21  Year           9994 non-null   int64         \n",
      "dtypes: datetime64[ns](2), float64(3), int64(4), object(13)\n",
      "memory usage: 1.7+ MB\n"
     ]
    }
   ],
   "source": [
    "df = pd.read_excel('/content/drive/MyDrive/0. Rakamin/superstore.xls')\n",
    "\n",
    "df['Year'] = df['Order Date'].apply(lambda x: x.year) # Create column Year\n",
    "\n",
    "df.info()"
   ]
  },
  {
   "cell_type": "code",
   "execution_count": null,
   "metadata": {
    "colab": {
     "base_uri": "https://localhost:8080/"
    },
    "id": "HMJ1Rh2Vsm_e",
    "outputId": "29e95866-50c6-4b72-ef76-20f17db02298"
   },
   "outputs": [
    {
     "name": "stdout",
     "output_type": "stream",
     "text": [
      "user dibagi berdasarkan persentil, low dibawah 50% yaitu 472.044, med dibawah 75% yaitu 1171.928\n"
     ]
    }
   ],
   "source": [
    "df_n = df.groupby(['Year', 'Customer ID', 'Customer Name', 'Segment']).agg({'Sales' : ['sum'], 'Profit' : ['sum']}).reset_index()\n",
    "\n",
    "df_n.columns = ['Year', 'Customer ID', 'Customer Name', 'Segment', 'Sales Total', 'Profit Total']\n",
    "\n",
    "# Segmentation user by percentile Sales Total, low < 50%, med < 75%, else high\n",
    "\n",
    "df_n['User_segment'] = df_n['Sales Total'].apply(lambda x: 'Low' if x < df_n['Sales Total'].quantile(.5) else 'Med' if x < df_n['Sales Total'].quantile(.75) else 'High')\n",
    "\n",
    "print(f\"user dibagi berdasarkan persentil, low dibawah 50% yaitu {round(df_n['Sales Total'].quantile(.5), 3)}, med dibawah 75% yaitu {round(df_n['Sales Total'].quantile(.75), 3)}\")"
   ]
  },
  {
   "cell_type": "code",
   "execution_count": null,
   "metadata": {
    "colab": {
     "base_uri": "https://localhost:8080/",
     "height": 143
    },
    "id": "K9Rh7E9F1-OO",
    "outputId": "1e17192e-1106-4ed1-970f-4a4adc9ae5b3"
   },
   "outputs": [
    {
     "data": {
      "text/html": [
       "\n",
       "  <div id=\"df-33a81530-04c4-4127-8bcd-01351998c0a8\">\n",
       "    <div class=\"colab-df-container\">\n",
       "      <div>\n",
       "<style scoped>\n",
       "    .dataframe tbody tr th:only-of-type {\n",
       "        vertical-align: middle;\n",
       "    }\n",
       "\n",
       "    .dataframe tbody tr th {\n",
       "        vertical-align: top;\n",
       "    }\n",
       "\n",
       "    .dataframe thead th {\n",
       "        text-align: right;\n",
       "    }\n",
       "</style>\n",
       "<table border=\"1\" class=\"dataframe\">\n",
       "  <thead>\n",
       "    <tr style=\"text-align: right;\">\n",
       "      <th></th>\n",
       "      <th>index</th>\n",
       "      <th>User_segment</th>\n",
       "    </tr>\n",
       "  </thead>\n",
       "  <tbody>\n",
       "    <tr>\n",
       "      <th>0</th>\n",
       "      <td>Low</td>\n",
       "      <td>292</td>\n",
       "    </tr>\n",
       "    <tr>\n",
       "      <th>1</th>\n",
       "      <td>High</td>\n",
       "      <td>201</td>\n",
       "    </tr>\n",
       "    <tr>\n",
       "      <th>2</th>\n",
       "      <td>Med</td>\n",
       "      <td>200</td>\n",
       "    </tr>\n",
       "  </tbody>\n",
       "</table>\n",
       "</div>\n",
       "      <button class=\"colab-df-convert\" onclick=\"convertToInteractive('df-33a81530-04c4-4127-8bcd-01351998c0a8')\"\n",
       "              title=\"Convert this dataframe to an interactive table.\"\n",
       "              style=\"display:none;\">\n",
       "        \n",
       "  <svg xmlns=\"http://www.w3.org/2000/svg\" height=\"24px\"viewBox=\"0 0 24 24\"\n",
       "       width=\"24px\">\n",
       "    <path d=\"M0 0h24v24H0V0z\" fill=\"none\"/>\n",
       "    <path d=\"M18.56 5.44l.94 2.06.94-2.06 2.06-.94-2.06-.94-.94-2.06-.94 2.06-2.06.94zm-11 1L8.5 8.5l.94-2.06 2.06-.94-2.06-.94L8.5 2.5l-.94 2.06-2.06.94zm10 10l.94 2.06.94-2.06 2.06-.94-2.06-.94-.94-2.06-.94 2.06-2.06.94z\"/><path d=\"M17.41 7.96l-1.37-1.37c-.4-.4-.92-.59-1.43-.59-.52 0-1.04.2-1.43.59L10.3 9.45l-7.72 7.72c-.78.78-.78 2.05 0 2.83L4 21.41c.39.39.9.59 1.41.59.51 0 1.02-.2 1.41-.59l7.78-7.78 2.81-2.81c.8-.78.8-2.07 0-2.86zM5.41 20L4 18.59l7.72-7.72 1.47 1.35L5.41 20z\"/>\n",
       "  </svg>\n",
       "      </button>\n",
       "      \n",
       "  <style>\n",
       "    .colab-df-container {\n",
       "      display:flex;\n",
       "      flex-wrap:wrap;\n",
       "      gap: 12px;\n",
       "    }\n",
       "\n",
       "    .colab-df-convert {\n",
       "      background-color: #E8F0FE;\n",
       "      border: none;\n",
       "      border-radius: 50%;\n",
       "      cursor: pointer;\n",
       "      display: none;\n",
       "      fill: #1967D2;\n",
       "      height: 32px;\n",
       "      padding: 0 0 0 0;\n",
       "      width: 32px;\n",
       "    }\n",
       "\n",
       "    .colab-df-convert:hover {\n",
       "      background-color: #E2EBFA;\n",
       "      box-shadow: 0px 1px 2px rgba(60, 64, 67, 0.3), 0px 1px 3px 1px rgba(60, 64, 67, 0.15);\n",
       "      fill: #174EA6;\n",
       "    }\n",
       "\n",
       "    [theme=dark] .colab-df-convert {\n",
       "      background-color: #3B4455;\n",
       "      fill: #D2E3FC;\n",
       "    }\n",
       "\n",
       "    [theme=dark] .colab-df-convert:hover {\n",
       "      background-color: #434B5C;\n",
       "      box-shadow: 0px 1px 3px 1px rgba(0, 0, 0, 0.15);\n",
       "      filter: drop-shadow(0px 1px 2px rgba(0, 0, 0, 0.3));\n",
       "      fill: #FFFFFF;\n",
       "    }\n",
       "  </style>\n",
       "\n",
       "      <script>\n",
       "        const buttonEl =\n",
       "          document.querySelector('#df-33a81530-04c4-4127-8bcd-01351998c0a8 button.colab-df-convert');\n",
       "        buttonEl.style.display =\n",
       "          google.colab.kernel.accessAllowed ? 'block' : 'none';\n",
       "\n",
       "        async function convertToInteractive(key) {\n",
       "          const element = document.querySelector('#df-33a81530-04c4-4127-8bcd-01351998c0a8');\n",
       "          const dataTable =\n",
       "            await google.colab.kernel.invokeFunction('convertToInteractive',\n",
       "                                                     [key], {});\n",
       "          if (!dataTable) return;\n",
       "\n",
       "          const docLinkHtml = 'Like what you see? Visit the ' +\n",
       "            '<a target=\"_blank\" href=https://colab.research.google.com/notebooks/data_table.ipynb>data table notebook</a>'\n",
       "            + ' to learn more about interactive tables.';\n",
       "          element.innerHTML = '';\n",
       "          dataTable['output_type'] = 'display_data';\n",
       "          await google.colab.output.renderOutput(dataTable, element);\n",
       "          const docLink = document.createElement('div');\n",
       "          docLink.innerHTML = docLinkHtml;\n",
       "          element.appendChild(docLink);\n",
       "        }\n",
       "      </script>\n",
       "    </div>\n",
       "  </div>\n",
       "  "
      ],
      "text/plain": [
       "  index  User_segment\n",
       "0   Low           292\n",
       "1  High           201\n",
       "2   Med           200"
      ]
     },
     "execution_count": 22,
     "metadata": {},
     "output_type": "execute_result"
    }
   ],
   "source": [
    "df_n[df_n.Year == 2017]['User_segment'].value_counts().reset_index()"
   ]
  },
  {
   "cell_type": "markdown",
   "metadata": {
    "id": "QnJiNrp27Y1M"
   },
   "source": [
    "## Jawaban soal no.8\n",
    "\n",
    "Membuat module bebas"
   ]
  },
  {
   "cell_type": "code",
   "execution_count": null,
   "metadata": {
    "id": "VLt4XjTU70xI"
   },
   "outputs": [],
   "source": []
  }
 ],
 "metadata": {
  "colab": {
   "provenance": []
  },
  "kernelspec": {
   "display_name": "Python 3 (ipykernel)",
   "language": "python",
   "name": "python3"
  },
  "language_info": {
   "codemirror_mode": {
    "name": "ipython",
    "version": 3
   },
   "file_extension": ".py",
   "mimetype": "text/x-python",
   "name": "python",
   "nbconvert_exporter": "python",
   "pygments_lexer": "ipython3",
   "version": "3.9.13"
  }
 },
 "nbformat": 4,
 "nbformat_minor": 1
}
