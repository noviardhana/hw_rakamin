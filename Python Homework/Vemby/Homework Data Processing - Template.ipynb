{
 "cells": [
  {
   "cell_type": "markdown",
   "id": "f8b12927",
   "metadata": {},
   "source": [
    "Nama : (Tuliskan Nama Lengkap Kalian Disini)"
   ]
  },
  {
   "cell_type": "markdown",
   "id": "378bea5c",
   "metadata": {},
   "source": [
    "# Soal Beginner"
   ]
  },
  {
   "cell_type": "markdown",
   "id": "ea5fc9a5",
   "metadata": {},
   "source": [
    "## No.1"
   ]
  },
  {
   "cell_type": "code",
   "execution_count": 2,
   "id": "59eb80dc",
   "metadata": {},
   "outputs": [],
   "source": [
    "# Masukan syntax jawaban di sini"
   ]
  },
  {
   "cell_type": "markdown",
   "id": "693e9bfa",
   "metadata": {},
   "source": [
    "## No.2 "
   ]
  },
  {
   "cell_type": "code",
   "execution_count": 4,
   "id": "18cd3ef3",
   "metadata": {},
   "outputs": [],
   "source": [
    "# Masukan sytnax jawaban di sini"
   ]
  },
  {
   "cell_type": "markdown",
   "id": "6392ea4d",
   "metadata": {},
   "source": [
    "## No.3"
   ]
  },
  {
   "cell_type": "code",
   "execution_count": 5,
   "id": "c4abae92",
   "metadata": {},
   "outputs": [],
   "source": [
    "# Masukan syntax jawaban di sini"
   ]
  },
  {
   "cell_type": "markdown",
   "id": "81f5232d",
   "metadata": {},
   "source": [
    "## No.4"
   ]
  },
  {
   "cell_type": "code",
   "execution_count": 6,
   "id": "49f86ba8",
   "metadata": {},
   "outputs": [],
   "source": [
    "# Masukan syntax jawaban di sini"
   ]
  },
  {
   "cell_type": "markdown",
   "id": "14508ae8",
   "metadata": {},
   "source": [
    "## No.5"
   ]
  },
  {
   "cell_type": "code",
   "execution_count": 7,
   "id": "9ad9f02a",
   "metadata": {},
   "outputs": [],
   "source": [
    "# Masukan syntax jawaban di sini"
   ]
  },
  {
   "cell_type": "markdown",
   "id": "fce11967",
   "metadata": {},
   "source": [
    "# Soal Intermediate"
   ]
  },
  {
   "cell_type": "markdown",
   "id": "b2a929ae",
   "metadata": {},
   "source": [
    "## No.6"
   ]
  },
  {
   "cell_type": "code",
   "execution_count": 8,
   "id": "a30f7fb7",
   "metadata": {},
   "outputs": [],
   "source": [
    "# Masukan syntax jawaban di sini"
   ]
  },
  {
   "cell_type": "markdown",
   "id": "8b28e07e",
   "metadata": {},
   "source": [
    "## No.7"
   ]
  },
  {
   "cell_type": "code",
   "execution_count": 9,
   "id": "a0a0fcd3",
   "metadata": {},
   "outputs": [],
   "source": [
    "# Masukan syntax jawaban di sini"
   ]
  },
  {
   "cell_type": "markdown",
   "id": "a80f0713",
   "metadata": {},
   "source": [
    "# Soal Advanced"
   ]
  },
  {
   "cell_type": "markdown",
   "id": "b5937f28",
   "metadata": {},
   "source": [
    "## No.8"
   ]
  },
  {
   "cell_type": "code",
   "execution_count": 10,
   "id": "710a40e1",
   "metadata": {},
   "outputs": [],
   "source": [
    "# Masukan syntax jawaban di sini"
   ]
  }
 ],
 "metadata": {
  "kernelspec": {
   "display_name": "Python 3 (ipykernel)",
   "language": "python",
   "name": "python3"
  },
  "language_info": {
   "codemirror_mode": {
    "name": "ipython",
    "version": 3
   },
   "file_extension": ".py",
   "mimetype": "text/x-python",
   "name": "python",
   "nbconvert_exporter": "python",
   "pygments_lexer": "ipython3",
   "version": "3.9.13"
  },
  "toc": {
   "base_numbering": 1,
   "nav_menu": {},
   "number_sections": false,
   "sideBar": true,
   "skip_h1_title": false,
   "title_cell": "Table of Contents",
   "title_sidebar": "Contents",
   "toc_cell": false,
   "toc_position": {},
   "toc_section_display": true,
   "toc_window_display": true
  }
 },
 "nbformat": 4,
 "nbformat_minor": 5
}
