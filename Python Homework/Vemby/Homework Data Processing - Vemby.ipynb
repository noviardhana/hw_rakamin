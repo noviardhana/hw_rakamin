{
 "cells": [
  {
   "cell_type": "markdown",
   "id": "f8b12927",
   "metadata": {},
   "source": [
    "Nama : Tegas Gagas Impian Prahita N"
   ]
  },
  {
   "cell_type": "code",
   "execution_count": 1,
   "id": "ae223aef",
   "metadata": {},
   "outputs": [],
   "source": [
    "import pandas as pd"
   ]
  },
  {
   "cell_type": "markdown",
   "id": "378bea5c",
   "metadata": {},
   "source": [
    "# Soal Beginner"
   ]
  },
  {
   "cell_type": "markdown",
   "id": "ea5fc9a5",
   "metadata": {},
   "source": [
    "## No.1"
   ]
  },
  {
   "cell_type": "code",
   "execution_count": 2,
   "id": "59eb80dc",
   "metadata": {},
   "outputs": [
    {
     "data": {
      "text/html": [
       "<div>\n",
       "<style scoped>\n",
       "    .dataframe tbody tr th:only-of-type {\n",
       "        vertical-align: middle;\n",
       "    }\n",
       "\n",
       "    .dataframe tbody tr th {\n",
       "        vertical-align: top;\n",
       "    }\n",
       "\n",
       "    .dataframe thead th {\n",
       "        text-align: right;\n",
       "    }\n",
       "</style>\n",
       "<table border=\"1\" class=\"dataframe\">\n",
       "  <thead>\n",
       "    <tr style=\"text-align: right;\">\n",
       "      <th></th>\n",
       "      <th>no</th>\n",
       "      <th>nama_siswa</th>\n",
       "      <th>umur</th>\n",
       "      <th>email</th>\n",
       "      <th>score_matematika</th>\n",
       "      <th>score_ekonomi</th>\n",
       "      <th>score_olahraga</th>\n",
       "    </tr>\n",
       "  </thead>\n",
       "  <tbody>\n",
       "    <tr>\n",
       "      <th>0</th>\n",
       "      <td>1</td>\n",
       "      <td>Adi</td>\n",
       "      <td>15.0</td>\n",
       "      <td>andi@gmail.com</td>\n",
       "      <td>80</td>\n",
       "      <td>90.0</td>\n",
       "      <td>97</td>\n",
       "    </tr>\n",
       "    <tr>\n",
       "      <th>1</th>\n",
       "      <td>2</td>\n",
       "      <td>Budi</td>\n",
       "      <td>16.0</td>\n",
       "      <td>budi@gmail.com</td>\n",
       "      <td>90</td>\n",
       "      <td>95.0</td>\n",
       "      <td>95</td>\n",
       "    </tr>\n",
       "    <tr>\n",
       "      <th>2</th>\n",
       "      <td>3</td>\n",
       "      <td>Carli</td>\n",
       "      <td>14.0</td>\n",
       "      <td>carli@gmail.com</td>\n",
       "      <td>100</td>\n",
       "      <td>100.0</td>\n",
       "      <td>96</td>\n",
       "    </tr>\n",
       "    <tr>\n",
       "      <th>3</th>\n",
       "      <td>4</td>\n",
       "      <td>Dadan</td>\n",
       "      <td>NaN</td>\n",
       "      <td>dadan@gmail.com</td>\n",
       "      <td>95</td>\n",
       "      <td>86.0</td>\n",
       "      <td>100</td>\n",
       "    </tr>\n",
       "    <tr>\n",
       "      <th>4</th>\n",
       "      <td>5</td>\n",
       "      <td>Endang</td>\n",
       "      <td>16.0</td>\n",
       "      <td>endang@gmail.com</td>\n",
       "      <td>97</td>\n",
       "      <td>NaN</td>\n",
       "      <td>94</td>\n",
       "    </tr>\n",
       "  </tbody>\n",
       "</table>\n",
       "</div>"
      ],
      "text/plain": [
       "   no nama_siswa  umur             email  score_matematika  score_ekonomi  \\\n",
       "0   1        Adi  15.0    andi@gmail.com                80           90.0   \n",
       "1   2       Budi  16.0    budi@gmail.com                90           95.0   \n",
       "2   3      Carli  14.0   carli@gmail.com               100          100.0   \n",
       "3   4      Dadan   NaN   dadan@gmail.com                95           86.0   \n",
       "4   5     Endang  16.0  endang@gmail.com                97            NaN   \n",
       "\n",
       "   score_olahraga  \n",
       "0              97  \n",
       "1              95  \n",
       "2              96  \n",
       "3             100  \n",
       "4              94  "
      ]
     },
     "execution_count": 2,
     "metadata": {},
     "output_type": "execute_result"
    }
   ],
   "source": [
    "# Masukan syntax jawaban di sini\n",
    "\n",
    "data = pd.DataFrame({'no'    : [1, 2, 3, 4, 5],\n",
    "                     'nama_siswa'  : ['Adi', 'Budi', 'Carli', 'Dadan', 'Endang'],\n",
    "                     'umur': [15, 16, 14, None, 16],\n",
    "                     'email'  : ['andi@gmail.com', 'budi@gmail.com', 'carli@gmail.com', 'dadan@gmail.com', 'endang@gmail.com'],\n",
    "                     'score_matematika'  : [80, 90, 100, 95, 97],\n",
    "                     'score_ekonomi'  : [90, 95, 100, 86, None],\n",
    "                     'score_olahraga'  : [97, 95, 96, 100, 94]\n",
    "                    })\n",
    "\n",
    "data"
   ]
  },
  {
   "cell_type": "markdown",
   "id": "693e9bfa",
   "metadata": {},
   "source": [
    "## No.2 "
   ]
  },
  {
   "cell_type": "code",
   "execution_count": 3,
   "id": "743f025f",
   "metadata": {},
   "outputs": [
    {
     "name": "stdout",
     "output_type": "stream",
     "text": [
      "Nama siswa dengan score_matematika terkecil adalah Adi\n"
     ]
    }
   ],
   "source": [
    "# Masukan sytnax jawaban di sini\n",
    "\n",
    "data_sorted = data.sort_values('score_matematika', ascending=False)\n",
    "\n",
    "data_lowest_score = data_sorted.tail(1)\n",
    "\n",
    "print(f\"Nama siswa dengan score_matematika terkecil adalah {data_lowest_score.at[0,'nama_siswa']}\")"
   ]
  },
  {
   "cell_type": "markdown",
   "id": "6392ea4d",
   "metadata": {},
   "source": [
    "## No.3"
   ]
  },
  {
   "cell_type": "code",
   "execution_count": 4,
   "id": "c4abae92",
   "metadata": {},
   "outputs": [
    {
     "name": "stdout",
     "output_type": "stream",
     "text": [
      "Umur rata-rata dari siswa di 'data_siswa_gmail' adalah 15.0\n"
     ]
    }
   ],
   "source": [
    "# Masukan syntax jawaban di sini\n",
    "\n",
    "data_siswa_gmail = data[data.email.astype(str).str.lower().str.contains(\"gmail\") & data.score_ekonomi.notnull()]\n",
    "\n",
    "umur_mean = data_siswa_gmail.umur.mean()\n",
    "\n",
    "print(f\"Umur rata-rata dari siswa di 'data_siswa_gmail' adalah {umur_mean}\")"
   ]
  },
  {
   "cell_type": "markdown",
   "id": "81f5232d",
   "metadata": {},
   "source": [
    "## No.4"
   ]
  },
  {
   "cell_type": "code",
   "execution_count": 5,
   "id": "49f86ba8",
   "metadata": {},
   "outputs": [
    {
     "name": "stdout",
     "output_type": "stream",
     "text": [
      "Median umur mereka sekarang adalah 15.5\n"
     ]
    }
   ],
   "source": [
    "# Masukan syntax jawaban di sini\n",
    "\n",
    "additional_data = pd.DataFrame({'no'    : [6, 7],\n",
    "                     'nama_siswa'  : ['Fauzan', 'Guntur'],\n",
    "                     'umur': [15, 16],\n",
    "                     'email'  : ['fauzan@gmail.com', 'guntur@gmail.com'],\n",
    "                     'score_matematika'  : [80, 90],\n",
    "                     'score_ekonomi'  : [90, 95],\n",
    "                     'score_olahraga'  : [97, 95]\n",
    "                    })\n",
    "\n",
    "# new_data = data.append(additional_data, ignore_index=True)\n",
    "new_data = pd.concat([data, additional_data], ignore_index=True)\n",
    "# print(new_data)\n",
    "\n",
    "umur_med = new_data.umur.median()\n",
    "\n",
    "print(f\"Median umur mereka sekarang adalah {umur_med}\")"
   ]
  },
  {
   "cell_type": "markdown",
   "id": "14508ae8",
   "metadata": {},
   "source": [
    "## No.5"
   ]
  },
  {
   "cell_type": "code",
   "execution_count": 6,
   "id": "f79b3c92",
   "metadata": {},
   "outputs": [
    {
     "name": "stdout",
     "output_type": "stream",
     "text": [
      "Umur rata-rata mereka yang paling kecil pada alamat  DKI Jakarta\n"
     ]
    }
   ],
   "source": [
    "##### Masukan syntax jawaban di sini\n",
    "\n",
    "data_address = pd.DataFrame({'nama'    : ['Adi', 'Budi', 'Dadan', 'Endang', 'Guntur', 'Halim'],\n",
    "                     'alamat'  : ['DKI Jakarta', 'DKI Jakarta', 'Banten', 'Banten', 'Jawa Barat', 'Aceh']\n",
    "                    })\n",
    "\n",
    "\n",
    "# merge data frame “new_data”\n",
    "data_merge = new_data.merge(data_address, left_on='nama_siswa', right_on='nama', how='outer')\n",
    "\n",
    "# umur rata-rata siswa per alamat mereka berasal\n",
    "umur_add_mean = data_merge.groupby('alamat').agg({'umur' : 'mean'})\n",
    "\n",
    "# x = umur_add_mean.reset_index()\n",
    "\n",
    "# y = umur_add_mean.umur.min()\n",
    "\n",
    "# z = x.loc[x['umur'] == y]['alamat'].values.tolist()\n",
    "\n",
    "print(f\"Umur rata-rata mereka yang paling kecil pada alamat  {umur_add_mean['umur'].idxmin()}\")"
   ]
  },
  {
   "cell_type": "markdown",
   "id": "fce11967",
   "metadata": {},
   "source": [
    "# Soal Intermediate"
   ]
  },
  {
   "cell_type": "markdown",
   "id": "b2a929ae",
   "metadata": {},
   "source": [
    "## No.6"
   ]
  },
  {
   "cell_type": "code",
   "execution_count": 7,
   "id": "a30f7fb7",
   "metadata": {},
   "outputs": [],
   "source": [
    "# Masukan syntax jawaban di sini\n",
    "\n",
    "airlines = pd.read_excel(r'C:\\Users\\tegas\\Documents\\rakamin\\Homework\\Vemby\\data_airlines.xlsx')\n",
    "airports = pd.read_excel(r'C:\\Users\\tegas\\Documents\\rakamin\\Homework\\Vemby\\data_airports.xlsx')\n",
    "flights = pd.read_excel(r'C:\\Users\\tegas\\Documents\\rakamin\\Homework\\Vemby\\data_flights.xlsx')"
   ]
  },
  {
   "cell_type": "code",
   "execution_count": null,
   "id": "f0578fed",
   "metadata": {},
   "outputs": [],
   "source": [
    "flights.head()\n",
    "# flights.FLIGHT_NUMBER.value_counts()"
   ]
  },
  {
   "cell_type": "code",
   "execution_count": 8,
   "id": "78569cb4",
   "metadata": {},
   "outputs": [
    {
     "data": {
      "text/html": [
       "<div>\n",
       "<style scoped>\n",
       "    .dataframe tbody tr th:only-of-type {\n",
       "        vertical-align: middle;\n",
       "    }\n",
       "\n",
       "    .dataframe tbody tr th {\n",
       "        vertical-align: top;\n",
       "    }\n",
       "\n",
       "    .dataframe thead th {\n",
       "        text-align: right;\n",
       "    }\n",
       "</style>\n",
       "<table border=\"1\" class=\"dataframe\">\n",
       "  <thead>\n",
       "    <tr style=\"text-align: right;\">\n",
       "      <th></th>\n",
       "      <th>bulan</th>\n",
       "      <th>total_penerbangan</th>\n",
       "      <th>total_pembatalan</th>\n",
       "      <th>waktu_tempuh_rerata</th>\n",
       "      <th>waktu_tempuh_max</th>\n",
       "      <th>waktu_tempuh_min</th>\n",
       "    </tr>\n",
       "  </thead>\n",
       "  <tbody>\n",
       "    <tr>\n",
       "      <th>0</th>\n",
       "      <td>1</td>\n",
       "      <td>798</td>\n",
       "      <td>20</td>\n",
       "      <td>132.153548</td>\n",
       "      <td>428.0</td>\n",
       "      <td>31.0</td>\n",
       "    </tr>\n",
       "    <tr>\n",
       "      <th>1</th>\n",
       "      <td>2</td>\n",
       "      <td>715</td>\n",
       "      <td>30</td>\n",
       "      <td>140.375731</td>\n",
       "      <td>408.0</td>\n",
       "      <td>24.0</td>\n",
       "    </tr>\n",
       "    <tr>\n",
       "      <th>2</th>\n",
       "      <td>3</td>\n",
       "      <td>877</td>\n",
       "      <td>22</td>\n",
       "      <td>142.357562</td>\n",
       "      <td>622.0</td>\n",
       "      <td>30.0</td>\n",
       "    </tr>\n",
       "    <tr>\n",
       "      <th>3</th>\n",
       "      <td>4</td>\n",
       "      <td>824</td>\n",
       "      <td>9</td>\n",
       "      <td>138.420859</td>\n",
       "      <td>570.0</td>\n",
       "      <td>31.0</td>\n",
       "    </tr>\n",
       "    <tr>\n",
       "      <th>4</th>\n",
       "      <td>5</td>\n",
       "      <td>840</td>\n",
       "      <td>5</td>\n",
       "      <td>136.516827</td>\n",
       "      <td>466.0</td>\n",
       "      <td>34.0</td>\n",
       "    </tr>\n",
       "    <tr>\n",
       "      <th>5</th>\n",
       "      <td>6</td>\n",
       "      <td>839</td>\n",
       "      <td>18</td>\n",
       "      <td>139.057317</td>\n",
       "      <td>398.0</td>\n",
       "      <td>32.0</td>\n",
       "    </tr>\n",
       "    <tr>\n",
       "      <th>6</th>\n",
       "      <td>7</td>\n",
       "      <td>937</td>\n",
       "      <td>14</td>\n",
       "      <td>141.110990</td>\n",
       "      <td>511.0</td>\n",
       "      <td>30.0</td>\n",
       "    </tr>\n",
       "    <tr>\n",
       "      <th>7</th>\n",
       "      <td>8</td>\n",
       "      <td>887</td>\n",
       "      <td>8</td>\n",
       "      <td>142.948689</td>\n",
       "      <td>655.0</td>\n",
       "      <td>27.0</td>\n",
       "    </tr>\n",
       "    <tr>\n",
       "      <th>8</th>\n",
       "      <td>9</td>\n",
       "      <td>787</td>\n",
       "      <td>1</td>\n",
       "      <td>137.667516</td>\n",
       "      <td>495.0</td>\n",
       "      <td>34.0</td>\n",
       "    </tr>\n",
       "    <tr>\n",
       "      <th>9</th>\n",
       "      <td>10</td>\n",
       "      <td>856</td>\n",
       "      <td>2</td>\n",
       "      <td>134.366940</td>\n",
       "      <td>388.0</td>\n",
       "      <td>31.0</td>\n",
       "    </tr>\n",
       "    <tr>\n",
       "      <th>10</th>\n",
       "      <td>11</td>\n",
       "      <td>822</td>\n",
       "      <td>8</td>\n",
       "      <td>139.198032</td>\n",
       "      <td>392.0</td>\n",
       "      <td>32.0</td>\n",
       "    </tr>\n",
       "    <tr>\n",
       "      <th>11</th>\n",
       "      <td>12</td>\n",
       "      <td>818</td>\n",
       "      <td>17</td>\n",
       "      <td>144.340426</td>\n",
       "      <td>453.0</td>\n",
       "      <td>33.0</td>\n",
       "    </tr>\n",
       "  </tbody>\n",
       "</table>\n",
       "</div>"
      ],
      "text/plain": [
       "    bulan  total_penerbangan  total_pembatalan  waktu_tempuh_rerata  \\\n",
       "0       1                798                20           132.153548   \n",
       "1       2                715                30           140.375731   \n",
       "2       3                877                22           142.357562   \n",
       "3       4                824                 9           138.420859   \n",
       "4       5                840                 5           136.516827   \n",
       "5       6                839                18           139.057317   \n",
       "6       7                937                14           141.110990   \n",
       "7       8                887                 8           142.948689   \n",
       "8       9                787                 1           137.667516   \n",
       "9      10                856                 2           134.366940   \n",
       "10     11                822                 8           139.198032   \n",
       "11     12                818                17           144.340426   \n",
       "\n",
       "    waktu_tempuh_max  waktu_tempuh_min  \n",
       "0              428.0              31.0  \n",
       "1              408.0              24.0  \n",
       "2              622.0              30.0  \n",
       "3              570.0              31.0  \n",
       "4              466.0              34.0  \n",
       "5              398.0              32.0  \n",
       "6              511.0              30.0  \n",
       "7              655.0              27.0  \n",
       "8              495.0              34.0  \n",
       "9              388.0              31.0  \n",
       "10             392.0              32.0  \n",
       "11             453.0              33.0  "
      ]
     },
     "execution_count": 8,
     "metadata": {},
     "output_type": "execute_result"
    }
   ],
   "source": [
    "df = flights.groupby('MONTH').agg({'FLIGHT_NUMBER' : 'count',\n",
    "                                    'CANCELLED' : 'sum',\n",
    "                                    'ELAPSED_TIME' : ['mean', 'max', 'min']}).reset_index()\n",
    "\n",
    "df.columns = ['bulan','total_penerbangan','total_pembatalan','waktu_tempuh_rerata','waktu_tempuh_max','waktu_tempuh_min']\n",
    "\n",
    "df"
   ]
  },
  {
   "cell_type": "markdown",
   "id": "6c22013b",
   "metadata": {},
   "source": [
    "**Insight**\n",
    "\n",
    "Selama tahun 2015, pada bulan Juli memiliki jadwal penerbangan tersibuk yaitu 937 dan bulan Februari memiliki jadwal penerbangan paling sedikit yaitu 715. Ketika bulan Februari juga terdapat pembatalan penerbangan yang paling banyak dibandingkan bulan lainnya. Bulan September hampir seluruh penerbangan diberangkatkan dan hanya terdapat 1 pembatalan saja.\n",
    "\n",
    "Penerbangan pada bulan Juli merupakan yang teramai dikarenakan puncak libur musim panas sehingga customer banyak melakukan berpergian. Pada bulan Januari - Maret memiliki jumlah pembatalan penerbangan yang relatif lebih besar dibandingkan bulan lainnya (diatas 20 kali). Hal ini dimungkinkan karena adanya cuaca buruk saat penerbangan di musim dingin.\n",
    "\n",
    "Waktu tempuh penerbangan (elapsed time) secara umum konstan untuk setiap bulan berkisar 140 menit, dengan waktu terpendek berkisar 30 menit dan waktu terpanjang berkisar 380 hingga 650 menit. Waktu tempuh yang bervariasi bergantung terhadap beberapa kodisi seperti cuaca dan tingkat kepadatan bandara."
   ]
  },
  {
   "cell_type": "markdown",
   "id": "8b28e07e",
   "metadata": {},
   "source": [
    "## No.7"
   ]
  },
  {
   "cell_type": "code",
   "execution_count": null,
   "id": "d884cc73",
   "metadata": {},
   "outputs": [],
   "source": [
    "# Masukan syntax jawaban di sini\n",
    "airports[airports.IATA_CODE.astype(str).str.contains(\"JFK\")].head()"
   ]
  },
  {
   "cell_type": "code",
   "execution_count": null,
   "id": "f08fc257",
   "metadata": {},
   "outputs": [],
   "source": [
    "airports[airports.IATA_CODE.astype(str).str.contains(\"ECP\")].head()"
   ]
  },
  {
   "cell_type": "code",
   "execution_count": 9,
   "id": "e8032646",
   "metadata": {},
   "outputs": [
    {
     "data": {
      "text/plain": [
       "False"
      ]
     },
     "execution_count": 9,
     "metadata": {},
     "output_type": "execute_result"
    }
   ],
   "source": [
    "airports.AIRPORT.isnull().any()"
   ]
  },
  {
   "cell_type": "code",
   "execution_count": 10,
   "id": "a0a0fcd3",
   "metadata": {},
   "outputs": [
    {
     "data": {
      "text/html": [
       "<div>\n",
       "<style scoped>\n",
       "    .dataframe tbody tr th:only-of-type {\n",
       "        vertical-align: middle;\n",
       "    }\n",
       "\n",
       "    .dataframe tbody tr th {\n",
       "        vertical-align: top;\n",
       "    }\n",
       "\n",
       "    .dataframe thead th {\n",
       "        text-align: right;\n",
       "    }\n",
       "</style>\n",
       "<table border=\"1\" class=\"dataframe\">\n",
       "  <thead>\n",
       "    <tr style=\"text-align: right;\">\n",
       "      <th></th>\n",
       "      <th>AIRLINE</th>\n",
       "      <th>FLIGHT_NUMBER</th>\n",
       "      <th>ORI_AIRPORT</th>\n",
       "      <th>DEST_AIRPORT</th>\n",
       "    </tr>\n",
       "  </thead>\n",
       "  <tbody>\n",
       "    <tr>\n",
       "      <th>0</th>\n",
       "      <td>UA</td>\n",
       "      <td>1475</td>\n",
       "      <td>Chicago O'Hare International Airport</td>\n",
       "      <td>Orlando International Airport</td>\n",
       "    </tr>\n",
       "    <tr>\n",
       "      <th>1</th>\n",
       "      <td>AA</td>\n",
       "      <td>227</td>\n",
       "      <td>Dallas/Fort Worth International Airport</td>\n",
       "      <td>Minneapolis-Saint Paul International Airport</td>\n",
       "    </tr>\n",
       "    <tr>\n",
       "      <th>2</th>\n",
       "      <td>AA</td>\n",
       "      <td>357</td>\n",
       "      <td>Baltimore-Washington International Airport</td>\n",
       "      <td>Miami International Airport</td>\n",
       "    </tr>\n",
       "    <tr>\n",
       "      <th>3</th>\n",
       "      <td>MQ</td>\n",
       "      <td>3459</td>\n",
       "      <td>Miami International Airport</td>\n",
       "      <td>Pensacola International Airport (Pensacola Gul...</td>\n",
       "    </tr>\n",
       "    <tr>\n",
       "      <th>4</th>\n",
       "      <td>OO</td>\n",
       "      <td>6559</td>\n",
       "      <td>Phoenix Sky Harbor International Airport</td>\n",
       "      <td>Palm Springs International Airport</td>\n",
       "    </tr>\n",
       "    <tr>\n",
       "      <th>...</th>\n",
       "      <td>...</td>\n",
       "      <td>...</td>\n",
       "      <td>...</td>\n",
       "      <td>...</td>\n",
       "    </tr>\n",
       "    <tr>\n",
       "      <th>9995</th>\n",
       "      <td>AS</td>\n",
       "      <td>579</td>\n",
       "      <td>San Diego International Airport (Lindbergh Field)</td>\n",
       "      <td>Portland International Airport</td>\n",
       "    </tr>\n",
       "    <tr>\n",
       "      <th>9996</th>\n",
       "      <td>DL</td>\n",
       "      <td>2172</td>\n",
       "      <td>Tampa International Airport</td>\n",
       "      <td>Hartsfield-Jackson Atlanta International Airport</td>\n",
       "    </tr>\n",
       "    <tr>\n",
       "      <th>9997</th>\n",
       "      <td>NK</td>\n",
       "      <td>801</td>\n",
       "      <td>Detroit Metropolitan Airport</td>\n",
       "      <td>Orlando International Airport</td>\n",
       "    </tr>\n",
       "    <tr>\n",
       "      <th>9998</th>\n",
       "      <td>EV</td>\n",
       "      <td>4093</td>\n",
       "      <td>Savannah/Hilton Head International Airport</td>\n",
       "      <td>Chicago O'Hare International Airport</td>\n",
       "    </tr>\n",
       "    <tr>\n",
       "      <th>9999</th>\n",
       "      <td>WN</td>\n",
       "      <td>5119</td>\n",
       "      <td>Portland International Airport</td>\n",
       "      <td>John Wayne Airport (Orange County Airport)</td>\n",
       "    </tr>\n",
       "  </tbody>\n",
       "</table>\n",
       "<p>10000 rows × 4 columns</p>\n",
       "</div>"
      ],
      "text/plain": [
       "     AIRLINE  FLIGHT_NUMBER  \\\n",
       "0         UA           1475   \n",
       "1         AA            227   \n",
       "2         AA            357   \n",
       "3         MQ           3459   \n",
       "4         OO           6559   \n",
       "...      ...            ...   \n",
       "9995      AS            579   \n",
       "9996      DL           2172   \n",
       "9997      NK            801   \n",
       "9998      EV           4093   \n",
       "9999      WN           5119   \n",
       "\n",
       "                                            ORI_AIRPORT  \\\n",
       "0                  Chicago O'Hare International Airport   \n",
       "1               Dallas/Fort Worth International Airport   \n",
       "2            Baltimore-Washington International Airport   \n",
       "3                           Miami International Airport   \n",
       "4              Phoenix Sky Harbor International Airport   \n",
       "...                                                 ...   \n",
       "9995  San Diego International Airport (Lindbergh Field)   \n",
       "9996                        Tampa International Airport   \n",
       "9997                       Detroit Metropolitan Airport   \n",
       "9998         Savannah/Hilton Head International Airport   \n",
       "9999                     Portland International Airport   \n",
       "\n",
       "                                           DEST_AIRPORT  \n",
       "0                         Orlando International Airport  \n",
       "1          Minneapolis-Saint Paul International Airport  \n",
       "2                           Miami International Airport  \n",
       "3     Pensacola International Airport (Pensacola Gul...  \n",
       "4                    Palm Springs International Airport  \n",
       "...                                                 ...  \n",
       "9995                     Portland International Airport  \n",
       "9996   Hartsfield-Jackson Atlanta International Airport  \n",
       "9997                      Orlando International Airport  \n",
       "9998               Chicago O'Hare International Airport  \n",
       "9999         John Wayne Airport (Orange County Airport)  \n",
       "\n",
       "[10000 rows x 4 columns]"
      ]
     },
     "execution_count": 10,
     "metadata": {},
     "output_type": "execute_result"
    }
   ],
   "source": [
    "tmp = flights.merge(airports, left_on='ORIGIN_AIRPORT',right_on='IATA_CODE', how='left')\n",
    "df = tmp.merge(airports, left_on='DESTINATION_AIRPORT',right_on='IATA_CODE', how='left')\n",
    "\n",
    "df = df.rename(columns = {'AIRPORT_x' : 'ORI_AIRPORT', 'AIRPORT_y' : 'DEST_AIRPORT'})\n",
    "\n",
    "df[['AIRLINE', 'FLIGHT_NUMBER', 'ORI_AIRPORT', 'DEST_AIRPORT']]"
   ]
  },
  {
   "cell_type": "code",
   "execution_count": 11,
   "id": "f42c6bb4",
   "metadata": {},
   "outputs": [
    {
     "data": {
      "text/plain": [
       "False"
      ]
     },
     "execution_count": 11,
     "metadata": {},
     "output_type": "execute_result"
    }
   ],
   "source": [
    "df.duplicated().any()"
   ]
  },
  {
   "cell_type": "code",
   "execution_count": 12,
   "id": "79ce1db7",
   "metadata": {},
   "outputs": [
    {
     "data": {
      "text/html": [
       "<div>\n",
       "<style scoped>\n",
       "    .dataframe tbody tr th:only-of-type {\n",
       "        vertical-align: middle;\n",
       "    }\n",
       "\n",
       "    .dataframe tbody tr th {\n",
       "        vertical-align: top;\n",
       "    }\n",
       "\n",
       "    .dataframe thead th {\n",
       "        text-align: right;\n",
       "    }\n",
       "</style>\n",
       "<table border=\"1\" class=\"dataframe\">\n",
       "  <thead>\n",
       "    <tr style=\"text-align: right;\">\n",
       "      <th></th>\n",
       "      <th>AIRLINE</th>\n",
       "      <th>FLIGHT_NUMBER</th>\n",
       "      <th>ORI_AIRPORT</th>\n",
       "      <th>DEST_AIRPORT</th>\n",
       "    </tr>\n",
       "  </thead>\n",
       "  <tbody>\n",
       "    <tr>\n",
       "      <th>44</th>\n",
       "      <td>AA</td>\n",
       "      <td>1275</td>\n",
       "      <td>John F. Kennedy International Airport (New Yor...</td>\n",
       "      <td>Cyril E. King Airport</td>\n",
       "    </tr>\n",
       "    <tr>\n",
       "      <th>50</th>\n",
       "      <td>B6</td>\n",
       "      <td>353</td>\n",
       "      <td>John F. Kennedy International Airport (New Yor...</td>\n",
       "      <td>Palm Beach International Airport</td>\n",
       "    </tr>\n",
       "    <tr>\n",
       "      <th>86</th>\n",
       "      <td>UA</td>\n",
       "      <td>445</td>\n",
       "      <td>John F. Kennedy International Airport (New Yor...</td>\n",
       "      <td>Los Angeles International Airport</td>\n",
       "    </tr>\n",
       "    <tr>\n",
       "      <th>163</th>\n",
       "      <td>AA</td>\n",
       "      <td>1</td>\n",
       "      <td>John F. Kennedy International Airport (New Yor...</td>\n",
       "      <td>Los Angeles International Airport</td>\n",
       "    </tr>\n",
       "    <tr>\n",
       "      <th>235</th>\n",
       "      <td>MQ</td>\n",
       "      <td>3378</td>\n",
       "      <td>John F. Kennedy International Airport (New Yor...</td>\n",
       "      <td>Ronald Reagan Washington National Airport</td>\n",
       "    </tr>\n",
       "    <tr>\n",
       "      <th>...</th>\n",
       "      <td>...</td>\n",
       "      <td>...</td>\n",
       "      <td>...</td>\n",
       "      <td>...</td>\n",
       "    </tr>\n",
       "    <tr>\n",
       "      <th>9808</th>\n",
       "      <td>AA</td>\n",
       "      <td>19</td>\n",
       "      <td>John F. Kennedy International Airport (New Yor...</td>\n",
       "      <td>Los Angeles International Airport</td>\n",
       "    </tr>\n",
       "    <tr>\n",
       "      <th>9896</th>\n",
       "      <td>DL</td>\n",
       "      <td>435</td>\n",
       "      <td>John F. Kennedy International Airport (New Yor...</td>\n",
       "      <td>San Francisco International Airport</td>\n",
       "    </tr>\n",
       "    <tr>\n",
       "      <th>9902</th>\n",
       "      <td>B6</td>\n",
       "      <td>1983</td>\n",
       "      <td>John F. Kennedy International Airport (New Yor...</td>\n",
       "      <td>Orlando International Airport</td>\n",
       "    </tr>\n",
       "    <tr>\n",
       "      <th>9903</th>\n",
       "      <td>B6</td>\n",
       "      <td>518</td>\n",
       "      <td>John F. Kennedy International Airport (New Yor...</td>\n",
       "      <td>Gen. Edward Lawrence Logan International Airport</td>\n",
       "    </tr>\n",
       "    <tr>\n",
       "      <th>9952</th>\n",
       "      <td>AA</td>\n",
       "      <td>2445</td>\n",
       "      <td>John F. Kennedy International Airport (New Yor...</td>\n",
       "      <td>Orlando International Airport</td>\n",
       "    </tr>\n",
       "  </tbody>\n",
       "</table>\n",
       "<p>181 rows × 4 columns</p>\n",
       "</div>"
      ],
      "text/plain": [
       "     AIRLINE  FLIGHT_NUMBER  \\\n",
       "44        AA           1275   \n",
       "50        B6            353   \n",
       "86        UA            445   \n",
       "163       AA              1   \n",
       "235       MQ           3378   \n",
       "...      ...            ...   \n",
       "9808      AA             19   \n",
       "9896      DL            435   \n",
       "9902      B6           1983   \n",
       "9903      B6            518   \n",
       "9952      AA           2445   \n",
       "\n",
       "                                            ORI_AIRPORT  \\\n",
       "44    John F. Kennedy International Airport (New Yor...   \n",
       "50    John F. Kennedy International Airport (New Yor...   \n",
       "86    John F. Kennedy International Airport (New Yor...   \n",
       "163   John F. Kennedy International Airport (New Yor...   \n",
       "235   John F. Kennedy International Airport (New Yor...   \n",
       "...                                                 ...   \n",
       "9808  John F. Kennedy International Airport (New Yor...   \n",
       "9896  John F. Kennedy International Airport (New Yor...   \n",
       "9902  John F. Kennedy International Airport (New Yor...   \n",
       "9903  John F. Kennedy International Airport (New Yor...   \n",
       "9952  John F. Kennedy International Airport (New Yor...   \n",
       "\n",
       "                                          DEST_AIRPORT  \n",
       "44                               Cyril E. King Airport  \n",
       "50                    Palm Beach International Airport  \n",
       "86                   Los Angeles International Airport  \n",
       "163                  Los Angeles International Airport  \n",
       "235          Ronald Reagan Washington National Airport  \n",
       "...                                                ...  \n",
       "9808                 Los Angeles International Airport  \n",
       "9896               San Francisco International Airport  \n",
       "9902                     Orlando International Airport  \n",
       "9903  Gen. Edward Lawrence Logan International Airport  \n",
       "9952                     Orlando International Airport  \n",
       "\n",
       "[181 rows x 4 columns]"
      ]
     },
     "execution_count": 12,
     "metadata": {},
     "output_type": "execute_result"
    }
   ],
   "source": [
    "df_n = df[df.ORI_AIRPORT.isin(['John F. Kennedy International Airport (New York International Airport)',\n",
    "                               'Northwest Florida Beaches International Airport'])]\n",
    "\n",
    "df_n[['AIRLINE', 'FLIGHT_NUMBER', 'ORI_AIRPORT', 'DEST_AIRPORT']]"
   ]
  },
  {
   "cell_type": "code",
   "execution_count": 13,
   "id": "fcab91ec",
   "metadata": {},
   "outputs": [
    {
     "data": {
      "text/html": [
       "<div>\n",
       "<style scoped>\n",
       "    .dataframe tbody tr th:only-of-type {\n",
       "        vertical-align: middle;\n",
       "    }\n",
       "\n",
       "    .dataframe tbody tr th {\n",
       "        vertical-align: top;\n",
       "    }\n",
       "\n",
       "    .dataframe thead th {\n",
       "        text-align: right;\n",
       "    }\n",
       "</style>\n",
       "<table border=\"1\" class=\"dataframe\">\n",
       "  <thead>\n",
       "    <tr style=\"text-align: right;\">\n",
       "      <th></th>\n",
       "      <th>asal</th>\n",
       "      <th>tujuan</th>\n",
       "      <th>total_penerbangan</th>\n",
       "      <th>jarak_rerata</th>\n",
       "    </tr>\n",
       "  </thead>\n",
       "  <tbody>\n",
       "    <tr>\n",
       "      <th>36</th>\n",
       "      <td>John F. Kennedy International Airport (New Yor...</td>\n",
       "      <td>San Francisco International Airport</td>\n",
       "      <td>23</td>\n",
       "      <td>2586.0</td>\n",
       "    </tr>\n",
       "    <tr>\n",
       "      <th>37</th>\n",
       "      <td>John F. Kennedy International Airport (New Yor...</td>\n",
       "      <td>Seattle-Tacoma International Airport</td>\n",
       "      <td>3</td>\n",
       "      <td>2422.0</td>\n",
       "    </tr>\n",
       "    <tr>\n",
       "      <th>38</th>\n",
       "      <td>John F. Kennedy International Airport (New Yor...</td>\n",
       "      <td>Southwest Florida International Airport</td>\n",
       "      <td>3</td>\n",
       "      <td>1074.0</td>\n",
       "    </tr>\n",
       "    <tr>\n",
       "      <th>39</th>\n",
       "      <td>John F. Kennedy International Airport (New Yor...</td>\n",
       "      <td>Tampa International Airport</td>\n",
       "      <td>7</td>\n",
       "      <td>1005.0</td>\n",
       "    </tr>\n",
       "    <tr>\n",
       "      <th>40</th>\n",
       "      <td>John F. Kennedy International Airport (New Yor...</td>\n",
       "      <td>Washington Dulles International Airport</td>\n",
       "      <td>1</td>\n",
       "      <td>228.0</td>\n",
       "    </tr>\n",
       "    <tr>\n",
       "      <th>41</th>\n",
       "      <td>Northwest Florida Beaches International Airport</td>\n",
       "      <td>Dallas Love Field</td>\n",
       "      <td>2</td>\n",
       "      <td>674.0</td>\n",
       "    </tr>\n",
       "    <tr>\n",
       "      <th>42</th>\n",
       "      <td>Northwest Florida Beaches International Airport</td>\n",
       "      <td>George Bush Intercontinental Airport</td>\n",
       "      <td>1</td>\n",
       "      <td>572.0</td>\n",
       "    </tr>\n",
       "    <tr>\n",
       "      <th>43</th>\n",
       "      <td>Northwest Florida Beaches International Airport</td>\n",
       "      <td>Hartsfield-Jackson Atlanta International Airport</td>\n",
       "      <td>3</td>\n",
       "      <td>240.0</td>\n",
       "    </tr>\n",
       "    <tr>\n",
       "      <th>44</th>\n",
       "      <td>Northwest Florida Beaches International Airport</td>\n",
       "      <td>Nashville International Airport</td>\n",
       "      <td>1</td>\n",
       "      <td>401.0</td>\n",
       "    </tr>\n",
       "    <tr>\n",
       "      <th>45</th>\n",
       "      <td>Northwest Florida Beaches International Airport</td>\n",
       "      <td>William P. Hobby Airport</td>\n",
       "      <td>1</td>\n",
       "      <td>571.0</td>\n",
       "    </tr>\n",
       "  </tbody>\n",
       "</table>\n",
       "</div>"
      ],
      "text/plain": [
       "                                                 asal  \\\n",
       "36  John F. Kennedy International Airport (New Yor...   \n",
       "37  John F. Kennedy International Airport (New Yor...   \n",
       "38  John F. Kennedy International Airport (New Yor...   \n",
       "39  John F. Kennedy International Airport (New Yor...   \n",
       "40  John F. Kennedy International Airport (New Yor...   \n",
       "41    Northwest Florida Beaches International Airport   \n",
       "42    Northwest Florida Beaches International Airport   \n",
       "43    Northwest Florida Beaches International Airport   \n",
       "44    Northwest Florida Beaches International Airport   \n",
       "45    Northwest Florida Beaches International Airport   \n",
       "\n",
       "                                              tujuan  total_penerbangan  \\\n",
       "36               San Francisco International Airport                 23   \n",
       "37              Seattle-Tacoma International Airport                  3   \n",
       "38           Southwest Florida International Airport                  3   \n",
       "39                       Tampa International Airport                  7   \n",
       "40           Washington Dulles International Airport                  1   \n",
       "41                                 Dallas Love Field                  2   \n",
       "42              George Bush Intercontinental Airport                  1   \n",
       "43  Hartsfield-Jackson Atlanta International Airport                  3   \n",
       "44                   Nashville International Airport                  1   \n",
       "45                          William P. Hobby Airport                  1   \n",
       "\n",
       "    jarak_rerata  \n",
       "36        2586.0  \n",
       "37        2422.0  \n",
       "38        1074.0  \n",
       "39        1005.0  \n",
       "40         228.0  \n",
       "41         674.0  \n",
       "42         572.0  \n",
       "43         240.0  \n",
       "44         401.0  \n",
       "45         571.0  "
      ]
     },
     "execution_count": 13,
     "metadata": {},
     "output_type": "execute_result"
    }
   ],
   "source": [
    "df_cl = df_n.groupby(['ORI_AIRPORT','DEST_AIRPORT']).agg({'FLIGHT_NUMBER' : 'count','DISTANCE' : 'mean'}).reset_index()\n",
    "\n",
    "df_cl.columns = ['asal','tujuan','total_penerbangan','jarak_rerata']\n",
    "\n",
    "df_cl.tail(10)"
   ]
  },
  {
   "cell_type": "code",
   "execution_count": 14,
   "id": "0cb048bf",
   "metadata": {},
   "outputs": [],
   "source": [
    "tmp = pd.pivot_table(df_cl, \n",
    "                     index = ['tujuan'],\n",
    "                     columns = ['asal'],\n",
    "                     values = ['total_penerbangan','jarak_rerata']\n",
    "                    )\n",
    "\n",
    "tmp.columns = ['jarak_rerata_jfk', 'jarak_rerata_ecp', 'total_penerbangan_jfk', 'total_penerbangan_ecp']"
   ]
  },
  {
   "cell_type": "code",
   "execution_count": 15,
   "id": "da7cac50",
   "metadata": {},
   "outputs": [
    {
     "name": "stdout",
     "output_type": "stream",
     "text": [
      "Destinasi airport mana yang paling banyak jumlah penerbangannya dari JFK yaitu: San Francisco International Airport\n",
      "Destinasi airport mana yang paling banyak jumlah penerbangannya dari ECP yaitu: Hartsfield-Jackson Atlanta International Airport\n"
     ]
    }
   ],
   "source": [
    "idx_jfk_max = tmp.total_penerbangan_jfk.idxmax()\n",
    "idx_ecp_max = tmp.total_penerbangan_ecp.idxmax()\n",
    "\n",
    "print(f\"Destinasi airport mana yang paling banyak jumlah penerbangannya dari JFK yaitu: {idx_jfk_max}\")\n",
    "print(f\"Destinasi airport mana yang paling banyak jumlah penerbangannya dari ECP yaitu: {idx_ecp_max}\")"
   ]
  },
  {
   "cell_type": "markdown",
   "id": "87c6f890",
   "metadata": {},
   "source": [
    "Destinasi airport mana yang paling banyak jumlah penerbangannya yaitu:\n",
    "\n",
    "| Asal | Tujuan | Jumlah | Jarak tempuh |\n",
    "|---|---|---|---|\n",
    "| John F. Kennedy | San Francisco | 23 | 2586.0 |\n",
    "| Northwest Florida Beaches | Hartsfield-Jackson Atlanta | 3 | 240.0 |"
   ]
  },
  {
   "cell_type": "markdown",
   "id": "a80f0713",
   "metadata": {},
   "source": [
    "# Soal Advanced"
   ]
  },
  {
   "cell_type": "markdown",
   "id": "b5937f28",
   "metadata": {},
   "source": [
    "## No.8"
   ]
  },
  {
   "cell_type": "code",
   "execution_count": 16,
   "id": "710a40e1",
   "metadata": {},
   "outputs": [],
   "source": [
    "# Masukan syntax jawaban di sini\n",
    "\n",
    "df_a = pd.read_csv(r'C:\\Users\\tegas\\Documents\\rakamin\\Homework\\Vemby\\01 telecom_revenue.csv')\n",
    "df_b = pd.read_csv(r'C:\\Users\\tegas\\Documents\\rakamin\\Homework\\Vemby\\02 telecom_usage.csv')\n",
    "\n",
    "df_1 = df_a[(df_a.Occupation.isin(['Professional', 'Student', 'Crafts'])) & (df_a.MonthlyRevenue > 10)] \n",
    "df_2 = df_b[(df_b.UnansweredCalls > df_b['BlockedCalls']) & \n",
    "             ((df_b.CustomerCareCalls.astype(str).str.contains(\"^8\")) | \n",
    "              (df_b.CustomerCareCalls.astype(str).str.contains(\"^4\")) |\n",
    "              (df_b.CustomerCareCalls.astype(str).str.contains(\"^2\")))]  "
   ]
  },
  {
   "cell_type": "code",
   "execution_count": null,
   "id": "f9f272c8",
   "metadata": {},
   "outputs": [],
   "source": [
    "df_1"
   ]
  },
  {
   "cell_type": "code",
   "execution_count": null,
   "id": "a3a15d67",
   "metadata": {},
   "outputs": [],
   "source": [
    "df_2"
   ]
  },
  {
   "cell_type": "code",
   "execution_count": 17,
   "id": "7b7d4eed",
   "metadata": {},
   "outputs": [],
   "source": [
    "df_m = df_1.merge(df_2, how='inner', on='CustomerID').sort_values('BlockedCalls', ascending=False)"
   ]
  },
  {
   "cell_type": "code",
   "execution_count": 18,
   "id": "30e98a67",
   "metadata": {},
   "outputs": [
    {
     "data": {
      "text/plain": [
       "False"
      ]
     },
     "execution_count": 18,
     "metadata": {},
     "output_type": "execute_result"
    }
   ],
   "source": [
    "df_n = df_m.groupby(['Occupation']).agg({'CustomerID' : 'nunique', 'DroppedCalls' : 'mean'})\n",
    "\n",
    "df_n.duplicated().any()"
   ]
  },
  {
   "cell_type": "code",
   "execution_count": 19,
   "id": "468ccecc",
   "metadata": {},
   "outputs": [
    {
     "name": "stdout",
     "output_type": "stream",
     "text": [
      " Rata-rata DroppedCalls paling besar terdapat pada pekerjaan Crafts\n"
     ]
    }
   ],
   "source": [
    "print(f\" Rata-rata DroppedCalls paling besar terdapat pada pekerjaan {df_n.DroppedCalls.idxmax()}\")"
   ]
  }
 ],
 "metadata": {
  "kernelspec": {
   "display_name": "Python 3 (ipykernel)",
   "language": "python",
   "name": "python3"
  },
  "language_info": {
   "codemirror_mode": {
    "name": "ipython",
    "version": 3
   },
   "file_extension": ".py",
   "mimetype": "text/x-python",
   "name": "python",
   "nbconvert_exporter": "python",
   "pygments_lexer": "ipython3",
   "version": "3.9.13"
  },
  "toc": {
   "base_numbering": 1,
   "nav_menu": {},
   "number_sections": false,
   "sideBar": true,
   "skip_h1_title": false,
   "title_cell": "Table of Contents",
   "title_sidebar": "Contents",
   "toc_cell": false,
   "toc_position": {},
   "toc_section_display": true,
   "toc_window_display": true
  }
 },
 "nbformat": 4,
 "nbformat_minor": 5
}
