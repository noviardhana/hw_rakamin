{
 "cells": [
  {
   "cell_type": "code",
   "execution_count": null,
   "id": "d61f80a3",
   "metadata": {},
   "outputs": [],
   "source": [
    "'''\n",
    "    chara_ele(x)\n",
    "        Retrieve list karakter berdasarkan elemen yang digunakan.\n",
    "    Argument:\n",
    "        x = element yang tersedia di dalam game Genshin Impact dalam tipe string\n",
    "    \n",
    "    Expected value:\n",
    "        Cryo\n",
    "        Hydro\n",
    "        Pyro\n",
    "        Electro\n",
    "        Anemo\n",
    "        Geo\n",
    "        Dendro\n",
    "    - \n",
    "'''\n",
    "\n",
    "def chara_ele(x):\n",
    "    list_cryo = ['Kamisato Ayaka', 'Shenhe', 'Kaeya', 'Diona', 'Chongyun', 'Rosaria', 'Ganyu', 'Aloy', 'Eula']\n",
    "    list_pyro = ['Diluc', 'Thoma', 'Hu Tao', 'Amber', 'Klee', 'Bennett', 'Xinyan', 'Xiangling', 'Yanfei', 'Yoimiya']\n",
    "    list_dendro = ['Tighnari', 'Collei', 'Nahida', 'Alhaitham', 'Yao Yao']\n",
    "    list_anemo = ['Venti', 'Jean', 'Faruzan', 'Wanderer', 'Shikanoin Heizou', 'Xiao', 'Sayu', 'Sucrose', 'Kazuha']\n",
    "    list_hydro = ['Tartaglia', 'Mona', 'Nilou', 'Barbara', 'Yelan', 'Xingqiu', 'Kamisato Ayato']\n",
    "    list_geo = ['Zhongli', 'Yunjin', 'Ningguang', 'Arataki Itto', 'Gorou', 'Noelle', 'Albedo']\n",
    "    list_electro = ['Raiden Shogun', 'Kujou Sara', 'Yae Miko', 'Kuki Shinobu', 'Fischl', 'Keqing', 'Beidou', 'Razor', 'Cyno']\n",
    "    \n",
    "    try:\n",
    "        x = x.lower()\n",
    "    \n",
    "    except:\n",
    "        print('isi dengan string')\n",
    "    \n",
    "    if x == 'cryo':\n",
    "        result = list_cryo\n",
    "    elif x == 'pyro':\n",
    "        result = list_pyro\n",
    "    elif x == 'dendro':\n",
    "        result = list_dendro\n",
    "    elif x == 'anemo':\n",
    "        result = list_anemo\n",
    "    elif x == 'hydro':\n",
    "        result = list_hydro\n",
    "    elif x == 'geo':\n",
    "        result = list_geo\n",
    "    elif x == 'electro':\n",
    "        result = list_electro\n",
    "    else:\n",
    "        result = 'Tidak ada karakter berelemen yang dimminta'\n",
    "    \n",
    "    return result"
   ]
  },
  {
   "cell_type": "code",
   "execution_count": 1,
   "id": "41637579",
   "metadata": {},
   "outputs": [
    {
     "ename": "ModuleNotFoundError",
     "evalue": "No module named 'charagensin'",
     "output_type": "error",
     "traceback": [
      "\u001b[1;31m---------------------------------------------------------------------------\u001b[0m",
      "\u001b[1;31mModuleNotFoundError\u001b[0m                       Traceback (most recent call last)",
      "\u001b[1;32m~\\AppData\\Local\\Temp\\ipykernel_23844\\485395669.py\u001b[0m in \u001b[0;36m<module>\u001b[1;34m\u001b[0m\n\u001b[1;32m----> 1\u001b[1;33m \u001b[1;32mimport\u001b[0m \u001b[0mcharagensin\u001b[0m\u001b[1;33m\u001b[0m\u001b[1;33m\u001b[0m\u001b[0m\n\u001b[0m",
      "\u001b[1;31mModuleNotFoundError\u001b[0m: No module named 'charagensin'"
     ]
    }
   ],
   "source": [
    "import charagensin"
   ]
  }
 ],
 "metadata": {
  "kernelspec": {
   "display_name": "Python 3 (ipykernel)",
   "language": "python",
   "name": "python3"
  },
  "language_info": {
   "codemirror_mode": {
    "name": "ipython",
    "version": 3
   },
   "file_extension": ".py",
   "mimetype": "text/x-python",
   "name": "python",
   "nbconvert_exporter": "python",
   "pygments_lexer": "ipython3",
   "version": "3.9.13"
  }
 },
 "nbformat": 4,
 "nbformat_minor": 5
}
