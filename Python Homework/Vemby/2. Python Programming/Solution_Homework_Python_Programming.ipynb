{
 "cells": [
  {
   "cell_type": "markdown",
   "metadata": {
    "id": "VxevlgSwJb33"
   },
   "source": [
    "Solution Homework\n",
    "\n",
    "Berikut saya lampirkan alternatif pengerjaan homework Python Programming. Semoga bisa menjadi bahan pencerahan untuk teman-teman semua. <b>Tidak ada 1 jawaban pasti </b>, karena seperti yang saya sampaikan di kelas, ada banyak jalan menuju Roma :)\n",
    "\n",
    "Salam"
   ]
  },
  {
   "cell_type": "markdown",
   "metadata": {
    "id": "8ZDAAhqTLWlV"
   },
   "source": [
    "# Soal 1"
   ]
  },
  {
   "cell_type": "markdown",
   "metadata": {
    "id": "YwS1_ScrKEcc"
   },
   "source": [
    "Tentukan dari variabel \n",
    "\n",
    "list_plat_mobil = ['B 1234 AB', 'B 6721 TY', 'B 1233 AY', 'B 6629 DD', 'B 1111 AM', 'B 6726 D', 'D 11223 KJ', 'AE 44677 GH', 'AE 67269 AA']\n",
    "\n",
    "Ada berapa jumlah plat genap dan ganjil. "
   ]
  },
  {
   "cell_type": "code",
   "execution_count": 1,
   "metadata": {
    "id": "aFK_DB0OKDFy"
   },
   "outputs": [],
   "source": [
    "list_plat_mobil = ['B 1234 AB', 'B 6721 TY', 'B 1233 AY', 'B 6629 DD', 'B 1111 AM', 'B 6726 D', 'D 11223 KJ', 'AE 44677 GH', 'AE 67269 AA']"
   ]
  },
  {
   "cell_type": "code",
   "execution_count": null,
   "metadata": {
    "id": "CrBoKLT6Um0u"
   },
   "outputs": [],
   "source": []
  },
  {
   "cell_type": "code",
   "execution_count": 2,
   "metadata": {
    "colab": {
     "base_uri": "https://localhost:8080/"
    },
    "id": "Bqq42ii_J_6z",
    "outputId": "88905715-1498-423c-fa73-a7f5e4c0f697"
   },
   "outputs": [
    {
     "data": {
      "text/plain": [
       "['B', '1234', 'AB']"
      ]
     },
     "execution_count": 2,
     "metadata": {},
     "output_type": "execute_result"
    }
   ],
   "source": [
    "#buat prototype #1\n",
    "plat = 'B 1234 AB'\n",
    "nomor = plat.split() #split membuat setiap item menjadi suatu list\n",
    "nomor"
   ]
  },
  {
   "cell_type": "code",
   "execution_count": 4,
   "metadata": {
    "colab": {
     "base_uri": "https://localhost:8080/"
    },
    "id": "QtlTblTAK-_8",
    "outputId": "15f3dc2f-ac72-4466-d327-d87ff3ba2708"
   },
   "outputs": [
    {
     "data": {
      "text/plain": [
       "1234"
      ]
     },
     "execution_count": 4,
     "metadata": {},
     "output_type": "execute_result"
    }
   ],
   "source": [
    "#buat prototype #1\n",
    "plat = 'B 1234 AB'\n",
    "nomor = plat.split()[1] #split membuat setiap item menjadi suatu list dengan nomor menjadi index 1\n",
    "nomor = int(nomor)\n",
    "nomor"
   ]
  },
  {
   "cell_type": "code",
   "execution_count": 5,
   "metadata": {
    "colab": {
     "base_uri": "https://localhost:8080/"
    },
    "id": "3oXhMc3CLE0m",
    "outputId": "3316c2d2-e758-4800-99c5-163c53ff8c30"
   },
   "outputs": [
    {
     "name": "stdout",
     "output_type": "stream",
     "text": [
      "Jumlah Plat Genap ada 2\n",
      "Jumlah Plat Ganjil ada 7\n"
     ]
    }
   ],
   "source": [
    "n_genap = 0  #inisiasi awal\n",
    "n_ganjil = 0 #inisiasi awal\n",
    "for i in list_plat_mobil:\n",
    "    nomor = int(i.split()[1]) \n",
    "    if nomor%2==0:\n",
    "        n_genap+=1\n",
    "    else:\n",
    "        n_ganjil+=1\n",
    "        \n",
    "print('Jumlah Plat Genap ada', n_genap)\n",
    "print('Jumlah Plat Ganjil ada', n_ganjil)"
   ]
  },
  {
   "cell_type": "code",
   "execution_count": 6,
   "metadata": {
    "colab": {
     "base_uri": "https://localhost:8080/"
    },
    "id": "d0NlkADwLjo8",
    "outputId": "834a9e6c-24d3-455a-97d0-abf3434f4496"
   },
   "outputs": [
    {
     "data": {
      "text/plain": [
       "['1234']"
      ]
     },
     "execution_count": 6,
     "metadata": {},
     "output_type": "execute_result"
    }
   ],
   "source": [
    "#buat prototype #2\n",
    "import re\n",
    "plat = 'B 1234 AB'\n",
    "re.findall('\\d+', plat) #regex dalam suatu string hanya mengambil numericb"
   ]
  },
  {
   "cell_type": "code",
   "execution_count": 7,
   "metadata": {
    "colab": {
     "base_uri": "https://localhost:8080/"
    },
    "id": "bjaQcdTiLm09",
    "outputId": "d2d21236-77c6-4ade-8511-5effd9e8f6c1"
   },
   "outputs": [
    {
     "data": {
      "text/plain": [
       "1234"
      ]
     },
     "execution_count": 7,
     "metadata": {},
     "output_type": "execute_result"
    }
   ],
   "source": [
    "#buat prototype #2\n",
    "plat = 'B 1234 AB'\n",
    "nomor = re.findall('\\d+', plat)[0] #regex dalam suatu string hanya mengambil numeric, karena hanya 1 maka index 0\n",
    "nomor = int(nomor)\n",
    "nomor"
   ]
  },
  {
   "cell_type": "code",
   "execution_count": 8,
   "metadata": {
    "colab": {
     "base_uri": "https://localhost:8080/"
    },
    "id": "D3V4A8c2LrW-",
    "outputId": "bbaebb9e-ba57-4f5b-fbff-d4f684b95a9a"
   },
   "outputs": [
    {
     "name": "stdout",
     "output_type": "stream",
     "text": [
      "Jumlah Plat Genap ada 2\n",
      "Jumlah Plat Ganjil ada 7\n"
     ]
    }
   ],
   "source": [
    "n_genap = 0  #inisiasi awal\n",
    "n_ganjil = 0 #inisiasi awal\n",
    "for i in list_plat_mobil:\n",
    "    nomor = int(re.findall('\\d+', i)[0])\n",
    "    if nomor%2==0:\n",
    "        n_genap+=1\n",
    "    else:\n",
    "        n_ganjil+=1\n",
    "        \n",
    "print('Jumlah Plat Genap ada', n_genap)\n",
    "print('Jumlah Plat Ganjil ada', n_ganjil)"
   ]
  },
  {
   "cell_type": "markdown",
   "metadata": {
    "id": "q2s5m4pNLaXA"
   },
   "source": [
    "# Soal 2"
   ]
  },
  {
   "cell_type": "markdown",
   "metadata": {
    "id": "5OEqiPbsMIHc"
   },
   "source": [
    "Buatlah deret fibonacci 12 angka yang dimulai dari 2 dan 3 menggunakan iterasi cara for atau while. \n",
    "\n",
    "Output yang diharapkan adalah [2, 3, 5, 8, 13, 21, 34, 55, 89, 144, 233, 377]"
   ]
  },
  {
   "cell_type": "markdown",
   "metadata": {
    "id": "M6r3TMltMUiR"
   },
   "source": [
    "### For Iteration"
   ]
  },
  {
   "cell_type": "code",
   "execution_count": 9,
   "metadata": {
    "colab": {
     "base_uri": "https://localhost:8080/"
    },
    "id": "WQWzEcgSMdTo",
    "outputId": "8cae1f40-ee98-40f6-86b3-5dc97cf88b2d"
   },
   "outputs": [
    {
     "name": "stdout",
     "output_type": "stream",
     "text": [
      "[2, 3, 5, 8, 13, 21, 34, 55, 89, 144, 233, 377]\n"
     ]
    }
   ],
   "source": [
    "# identifikasi awal\n",
    "n1 = 2 #nilai pertama\n",
    "n2 = 3 #nilai kedua\n",
    "length = 12\n",
    "count = 0\n",
    "\n",
    "list_finbonacci = [n1, n2]\n",
    "for i in range(length-2): #dilakukan pengurangan 2 karena pada list_finbonacci sudah terisi 2 item n1 dan n2\n",
    "    nexts = n1 + n2 #untuk membuat variabel nilai selanjutnya dari penjumlahan n1+n2\n",
    "    # update values\n",
    "    n1 = n2 #n1 menjadi n2\n",
    "    n2 = nexts #n2 menjadi bilangan selanjutnya atau nexts\n",
    "    list_finbonacci.append(nexts) #melakukan penambahan item pada list setiap iterasi\n",
    "\n",
    "print(list_finbonacci)"
   ]
  },
  {
   "cell_type": "markdown",
   "metadata": {
    "id": "8YZMm_9yMawR"
   },
   "source": [
    "### While Iteration"
   ]
  },
  {
   "cell_type": "code",
   "execution_count": 10,
   "metadata": {
    "colab": {
     "base_uri": "https://localhost:8080/"
    },
    "id": "BGKpCbkwMmnk",
    "outputId": "6d6d575d-db7b-4da7-e429-4ae395b6f86e"
   },
   "outputs": [
    {
     "name": "stdout",
     "output_type": "stream",
     "text": [
      "[2, 3, 5, 8, 13, 21, 34, 55, 89, 144, 233, 377]\n"
     ]
    }
   ],
   "source": [
    "# identifikasi awal\n",
    "n1 = 2 #nilai pertama\n",
    "n2 = 3 #nilai kedua\n",
    "length = 12\n",
    "count = 0\n",
    "\n",
    "list_finbonacci = [n1, n2]\n",
    "while count < length-2: #dilakukan pengurangan 2 karena pada list_finbonacci sudah terisi 2 item n1 dan n2\n",
    "    nexts = n1 + n2 #untuk membuat variabel nilai selanjutnya dari penjumlahan n1+n2\n",
    "    # update values\n",
    "    n1 = n2\n",
    "    n2 = nexts\n",
    "    list_finbonacci.append(nexts) #melakukan penambahan item pada list setiap iterasi\n",
    "    count += 1 \n",
    "\n",
    "print(list_finbonacci)"
   ]
  },
  {
   "cell_type": "markdown",
   "metadata": {
    "id": "Oitxjeh5Ly9w"
   },
   "source": [
    "# Soal 3"
   ]
  },
  {
   "cell_type": "markdown",
   "metadata": {
    "id": "sbTg0s00Mu8S"
   },
   "source": [
    "Team Campaign PT ABC akan membuat promo bundling category product (berisi 3 category setiap bundling) untuk promo 17 Agustus.  PT ABC memiliki 10 category product.  Ketentuan Bundling tidak boleh hanya memiliki 1 jenis category dalam 1 bundling dan urutan tidak menjadi faktor pembeda (c1 - c2 - c3 = c2 - c1 - c3). Tentukan ada berapa jumlah kemungkinan bundling yang bisa terbentuk?\n",
    "\n",
    "Berikut list code category <b>list_id_category</b> = [c1, c2, c3, c4, c5, c6, c7 , c8, c9, c10]"
   ]
  },
  {
   "cell_type": "code",
   "execution_count": 11,
   "metadata": {
    "id": "LmB6yMX2M0rO"
   },
   "outputs": [],
   "source": [
    "list_id_category = ['c1', 'c2', 'c3', 'c4', 'c5', 'c6', 'c7' , 'c8', 'c9', 'c10']"
   ]
  },
  {
   "cell_type": "code",
   "execution_count": 12,
   "metadata": {
    "colab": {
     "base_uri": "https://localhost:8080/"
    },
    "id": "CTV_zEKkPegI",
    "outputId": "a55628db-b9c6-4d19-ce7b-ee69f79d9693"
   },
   "outputs": [
    {
     "data": {
      "text/plain": [
       "['a1', 'a2', 'a3']"
      ]
     },
     "execution_count": 12,
     "metadata": {},
     "output_type": "execute_result"
    }
   ],
   "source": [
    "sorted(['a1', 'a3', 'a2'])"
   ]
  },
  {
   "cell_type": "code",
   "execution_count": 13,
   "metadata": {
    "colab": {
     "base_uri": "https://localhost:8080/"
    },
    "id": "7U_E0Hp9PiQv",
    "outputId": "3dc061e2-b704-40cf-c8df-066f4b19dfaa"
   },
   "outputs": [
    {
     "name": "stdout",
     "output_type": "stream",
     "text": [
      "Terdapat 210 kemungkinan bundling category untuk keperluan campaign\n"
     ]
    }
   ],
   "source": [
    "list_bundling_category = []\n",
    "\n",
    "for i in list_id_category:\n",
    "    a1 = i #category 1\n",
    "    for y in list_id_category:\n",
    "        a2 = y #category 2\n",
    "        for x in list_id_category:\n",
    "            a3 = x #category 3\n",
    "            list_temp = sorted([a1, a2, a3]) #perlu di sort terlebih dulu dibuat list temporary yang selalu berubah\n",
    "            if list_temp not in list_bundling_category and a1!=a2!=a3:\n",
    "                list_bundling_category.append(list_temp)\n",
    "                \n",
    "# print(list_bundling_category)\n",
    "print('Terdapat', len(list_bundling_category), 'kemungkinan bundling category untuk keperluan campaign')"
   ]
  },
  {
   "cell_type": "markdown",
   "metadata": {
    "id": "vBfCpeZnL0ux"
   },
   "source": [
    "# Soal 4"
   ]
  },
  {
   "cell_type": "markdown",
   "metadata": {
    "id": "hfWy9KYeP-Fv"
   },
   "source": [
    "Buatlah sebuah function string_processor dengan inputan 2 parameter, yaitu suatu string 1 kata dan nama proses yang akan dilakukan. Function ini memiliki 4 proses\n",
    "- first_char : return huruf pertama dari string yang diinput\n",
    "- last_char : return huruf terakhir dari string yang diinput\n",
    "- num_chars : return jumlah huruf string input\n",
    "- num_vowels : return jumlah huruf vocal pada string input\n"
   ]
  },
  {
   "cell_type": "code",
   "execution_count": 14,
   "metadata": {
    "id": "fvOrULxqQGra"
   },
   "outputs": [],
   "source": [
    "def string_processor(metode, string):\n",
    "    string = string.lower()\n",
    "    if metode == 'first_char':\n",
    "        result = string[0]\n",
    "    elif metode == 'last_char':\n",
    "        result = string[-1]\n",
    "    elif metode == 'num_chars':\n",
    "        result = len(string)\n",
    "    elif metode == 'num_vowels':\n",
    "        num_vowels = 0\n",
    "        for i in string:\n",
    "          if i in ['a', 'e', 'i', 'u', 'o']:\n",
    "            num_vowels += 1\n",
    "        result = num_vowels\n",
    "    else:\n",
    "        result = 'Inputan Salah'\n",
    "    return result"
   ]
  },
  {
   "cell_type": "code",
   "execution_count": 15,
   "metadata": {
    "colab": {
     "base_uri": "https://localhost:8080/"
    },
    "id": "GkH6vMaKQOXA",
    "outputId": "cbf70a0e-bac9-4286-f329-1952c70b65c9"
   },
   "outputs": [
    {
     "name": "stdout",
     "output_type": "stream",
     "text": [
      "Hasil Testing first char dari pasar adalah p\n",
      "Hasil Testing last char dari rumah adalah h\n",
      "Hasil Testing total chars dari mawar adalah 5\n",
      "Hasil Testing total chars vowel dari ibadah adalah 3\n"
     ]
    }
   ],
   "source": [
    "#TESTING\n",
    "\n",
    "t1 = 'pasar'\n",
    "t2 = 'rumah'\n",
    "t3 = 'mawar'\n",
    "t4 = 'ibadah'\n",
    "\n",
    "print('Hasil Testing first char dari',t1, 'adalah', string_processor('first_char', t1))\n",
    "print('Hasil Testing last char dari',t2, 'adalah', string_processor('last_char', t2))\n",
    "print('Hasil Testing total chars dari',t3, 'adalah', string_processor('num_chars', t3))\n",
    "print('Hasil Testing total chars vowel dari',t4, 'adalah', string_processor('num_vowels', t4))"
   ]
  },
  {
   "cell_type": "markdown",
   "metadata": {
    "id": "eNwMeE9GL2W4"
   },
   "source": [
    "# Soal 5"
   ]
  },
  {
   "cell_type": "markdown",
   "metadata": {
    "id": "tzEIBqWxQVBi"
   },
   "source": [
    "Menggunakan dataset rakamin_store_city_monthly! Buatlah 1 kolom baru pada dengan teknik apply lambda tanpa function def (cukup one liner) dengan nama kolom is_gmail dengan value True jika menggunakan gmail dan False jika selain gmail. \n",
    "\n",
    "Tentukan ada berapa user yang menggunakan email gmail pada tahun 2018!"
   ]
  },
  {
   "cell_type": "code",
   "execution_count": 16,
   "metadata": {
    "colab": {
     "base_uri": "https://localhost:8080/",
     "height": 202
    },
    "id": "lD-U6sUdRrrq",
    "outputId": "06e55569-c606-474c-8556-e4cf46e1efd8"
   },
   "outputs": [
    {
     "data": {
      "text/html": [
       "<div>\n",
       "<style scoped>\n",
       "    .dataframe tbody tr th:only-of-type {\n",
       "        vertical-align: middle;\n",
       "    }\n",
       "\n",
       "    .dataframe tbody tr th {\n",
       "        vertical-align: top;\n",
       "    }\n",
       "\n",
       "    .dataframe thead th {\n",
       "        text-align: right;\n",
       "    }\n",
       "</style>\n",
       "<table border=\"1\" class=\"dataframe\">\n",
       "  <thead>\n",
       "    <tr style=\"text-align: right;\">\n",
       "      <th></th>\n",
       "      <th>month</th>\n",
       "      <th>user_id</th>\n",
       "      <th>username</th>\n",
       "      <th>email</th>\n",
       "      <th>kota</th>\n",
       "      <th>total_visit</th>\n",
       "      <th>total_order</th>\n",
       "      <th>total_amount</th>\n",
       "    </tr>\n",
       "  </thead>\n",
       "  <tbody>\n",
       "    <tr>\n",
       "      <th>0</th>\n",
       "      <td>2016-01</td>\n",
       "      <td>16</td>\n",
       "      <td>Kevin Ningsih</td>\n",
       "      <td>kevinningsih@roketmail.com</td>\n",
       "      <td>Jakarta Selatan</td>\n",
       "      <td>95</td>\n",
       "      <td>15</td>\n",
       "      <td>45724</td>\n",
       "    </tr>\n",
       "    <tr>\n",
       "      <th>1</th>\n",
       "      <td>2016-01</td>\n",
       "      <td>25</td>\n",
       "      <td>Sakti Hasaniy</td>\n",
       "      <td>saktihasaniy@outlook.com</td>\n",
       "      <td>Jakarta Pusat</td>\n",
       "      <td>97</td>\n",
       "      <td>1</td>\n",
       "      <td>26665</td>\n",
       "    </tr>\n",
       "    <tr>\n",
       "      <th>2</th>\n",
       "      <td>2016-01</td>\n",
       "      <td>39</td>\n",
       "      <td>Izhar Halim</td>\n",
       "      <td>izharhalim@gmail.com</td>\n",
       "      <td>Jakarta Timur</td>\n",
       "      <td>84</td>\n",
       "      <td>33</td>\n",
       "      <td>899001</td>\n",
       "    </tr>\n",
       "    <tr>\n",
       "      <th>3</th>\n",
       "      <td>2016-02</td>\n",
       "      <td>8</td>\n",
       "      <td>Dikposa Yosua Krisnanto</td>\n",
       "      <td>dikposayosuakrisnanto@hotmail.com</td>\n",
       "      <td>Jakarta Pusat</td>\n",
       "      <td>113</td>\n",
       "      <td>11</td>\n",
       "      <td>22012</td>\n",
       "    </tr>\n",
       "    <tr>\n",
       "      <th>4</th>\n",
       "      <td>2016-02</td>\n",
       "      <td>34</td>\n",
       "      <td>Ismail Wardhani</td>\n",
       "      <td>ismailwardhani@hotmail.com</td>\n",
       "      <td>Jakarta Selatan</td>\n",
       "      <td>25</td>\n",
       "      <td>2</td>\n",
       "      <td>55620</td>\n",
       "    </tr>\n",
       "  </tbody>\n",
       "</table>\n",
       "</div>"
      ],
      "text/plain": [
       "     month  user_id                 username  \\\n",
       "0  2016-01       16            Kevin Ningsih   \n",
       "1  2016-01       25            Sakti Hasaniy   \n",
       "2  2016-01       39              Izhar Halim   \n",
       "3  2016-02        8  Dikposa Yosua Krisnanto   \n",
       "4  2016-02       34          Ismail Wardhani   \n",
       "\n",
       "                               email             kota  total_visit  \\\n",
       "0         kevinningsih@roketmail.com  Jakarta Selatan           95   \n",
       "1           saktihasaniy@outlook.com    Jakarta Pusat           97   \n",
       "2               izharhalim@gmail.com    Jakarta Timur           84   \n",
       "3  dikposayosuakrisnanto@hotmail.com    Jakarta Pusat          113   \n",
       "4         ismailwardhani@hotmail.com  Jakarta Selatan           25   \n",
       "\n",
       "   total_order  total_amount  \n",
       "0           15         45724  \n",
       "1            1         26665  \n",
       "2           33        899001  \n",
       "3           11         22012  \n",
       "4            2         55620  "
      ]
     },
     "execution_count": 16,
     "metadata": {},
     "output_type": "execute_result"
    }
   ],
   "source": [
    "import pandas as pd\n",
    "\n",
    "df = pd.read_csv('rakamin_store_city_monthly.csv', sep=';')\n",
    "df.head()"
   ]
  },
  {
   "cell_type": "code",
   "execution_count": 17,
   "metadata": {
    "colab": {
     "base_uri": "https://localhost:8080/",
     "height": 202
    },
    "id": "jUQHLdtWR5oV",
    "outputId": "29819335-b474-446d-f544-ecf7765db202"
   },
   "outputs": [
    {
     "data": {
      "text/html": [
       "<div>\n",
       "<style scoped>\n",
       "    .dataframe tbody tr th:only-of-type {\n",
       "        vertical-align: middle;\n",
       "    }\n",
       "\n",
       "    .dataframe tbody tr th {\n",
       "        vertical-align: top;\n",
       "    }\n",
       "\n",
       "    .dataframe thead th {\n",
       "        text-align: right;\n",
       "    }\n",
       "</style>\n",
       "<table border=\"1\" class=\"dataframe\">\n",
       "  <thead>\n",
       "    <tr style=\"text-align: right;\">\n",
       "      <th></th>\n",
       "      <th>month</th>\n",
       "      <th>user_id</th>\n",
       "      <th>username</th>\n",
       "      <th>email</th>\n",
       "      <th>kota</th>\n",
       "      <th>total_visit</th>\n",
       "      <th>total_order</th>\n",
       "      <th>total_amount</th>\n",
       "      <th>year</th>\n",
       "    </tr>\n",
       "  </thead>\n",
       "  <tbody>\n",
       "    <tr>\n",
       "      <th>0</th>\n",
       "      <td>2016-01</td>\n",
       "      <td>16</td>\n",
       "      <td>Kevin Ningsih</td>\n",
       "      <td>kevinningsih@roketmail.com</td>\n",
       "      <td>Jakarta Selatan</td>\n",
       "      <td>95</td>\n",
       "      <td>15</td>\n",
       "      <td>45724</td>\n",
       "      <td>2016</td>\n",
       "    </tr>\n",
       "    <tr>\n",
       "      <th>1</th>\n",
       "      <td>2016-01</td>\n",
       "      <td>25</td>\n",
       "      <td>Sakti Hasaniy</td>\n",
       "      <td>saktihasaniy@outlook.com</td>\n",
       "      <td>Jakarta Pusat</td>\n",
       "      <td>97</td>\n",
       "      <td>1</td>\n",
       "      <td>26665</td>\n",
       "      <td>2016</td>\n",
       "    </tr>\n",
       "    <tr>\n",
       "      <th>2</th>\n",
       "      <td>2016-01</td>\n",
       "      <td>39</td>\n",
       "      <td>Izhar Halim</td>\n",
       "      <td>izharhalim@gmail.com</td>\n",
       "      <td>Jakarta Timur</td>\n",
       "      <td>84</td>\n",
       "      <td>33</td>\n",
       "      <td>899001</td>\n",
       "      <td>2016</td>\n",
       "    </tr>\n",
       "    <tr>\n",
       "      <th>3</th>\n",
       "      <td>2016-02</td>\n",
       "      <td>8</td>\n",
       "      <td>Dikposa Yosua Krisnanto</td>\n",
       "      <td>dikposayosuakrisnanto@hotmail.com</td>\n",
       "      <td>Jakarta Pusat</td>\n",
       "      <td>113</td>\n",
       "      <td>11</td>\n",
       "      <td>22012</td>\n",
       "      <td>2016</td>\n",
       "    </tr>\n",
       "    <tr>\n",
       "      <th>4</th>\n",
       "      <td>2016-02</td>\n",
       "      <td>34</td>\n",
       "      <td>Ismail Wardhani</td>\n",
       "      <td>ismailwardhani@hotmail.com</td>\n",
       "      <td>Jakarta Selatan</td>\n",
       "      <td>25</td>\n",
       "      <td>2</td>\n",
       "      <td>55620</td>\n",
       "      <td>2016</td>\n",
       "    </tr>\n",
       "  </tbody>\n",
       "</table>\n",
       "</div>"
      ],
      "text/plain": [
       "     month  user_id                 username  \\\n",
       "0  2016-01       16            Kevin Ningsih   \n",
       "1  2016-01       25            Sakti Hasaniy   \n",
       "2  2016-01       39              Izhar Halim   \n",
       "3  2016-02        8  Dikposa Yosua Krisnanto   \n",
       "4  2016-02       34          Ismail Wardhani   \n",
       "\n",
       "                               email             kota  total_visit  \\\n",
       "0         kevinningsih@roketmail.com  Jakarta Selatan           95   \n",
       "1           saktihasaniy@outlook.com    Jakarta Pusat           97   \n",
       "2               izharhalim@gmail.com    Jakarta Timur           84   \n",
       "3  dikposayosuakrisnanto@hotmail.com    Jakarta Pusat          113   \n",
       "4         ismailwardhani@hotmail.com  Jakarta Selatan           25   \n",
       "\n",
       "   total_order  total_amount  year  \n",
       "0           15         45724  2016  \n",
       "1            1         26665  2016  \n",
       "2           33        899001  2016  \n",
       "3           11         22012  2016  \n",
       "4            2         55620  2016  "
      ]
     },
     "execution_count": 17,
     "metadata": {},
     "output_type": "execute_result"
    }
   ],
   "source": [
    "#get year\n",
    "df['year'] = df['month'].apply(lambda x: x[:4])\n",
    "df['year'] = df['year'].astype(int)\n",
    "df.head()"
   ]
  },
  {
   "cell_type": "code",
   "execution_count": 18,
   "metadata": {
    "colab": {
     "base_uri": "https://localhost:8080/"
    },
    "id": "hcYJgYhzSD_2",
    "outputId": "fff5b4c0-dddb-4e8a-a577-b7c29c198e1b"
   },
   "outputs": [
    {
     "data": {
      "text/plain": [
       "True"
      ]
     },
     "execution_count": 18,
     "metadata": {},
     "output_type": "execute_result"
    }
   ],
   "source": [
    "#prototype logic gmail or not\n",
    "email = 'izharhalim@gmail.com'\n",
    "'gmail' in email #check true / false menggunakan in"
   ]
  },
  {
   "cell_type": "code",
   "execution_count": 19,
   "metadata": {
    "colab": {
     "base_uri": "https://localhost:8080/",
     "height": 289
    },
    "id": "cQgfSw_sSMzD",
    "outputId": "4208c3cd-8bc2-447c-9cd0-88c62750afe2"
   },
   "outputs": [
    {
     "data": {
      "text/html": [
       "<div>\n",
       "<style scoped>\n",
       "    .dataframe tbody tr th:only-of-type {\n",
       "        vertical-align: middle;\n",
       "    }\n",
       "\n",
       "    .dataframe tbody tr th {\n",
       "        vertical-align: top;\n",
       "    }\n",
       "\n",
       "    .dataframe thead th {\n",
       "        text-align: right;\n",
       "    }\n",
       "</style>\n",
       "<table border=\"1\" class=\"dataframe\">\n",
       "  <thead>\n",
       "    <tr style=\"text-align: right;\">\n",
       "      <th></th>\n",
       "      <th>month</th>\n",
       "      <th>user_id</th>\n",
       "      <th>username</th>\n",
       "      <th>email</th>\n",
       "      <th>kota</th>\n",
       "      <th>total_visit</th>\n",
       "      <th>total_order</th>\n",
       "      <th>total_amount</th>\n",
       "      <th>year</th>\n",
       "      <th>is_gmail</th>\n",
       "    </tr>\n",
       "  </thead>\n",
       "  <tbody>\n",
       "    <tr>\n",
       "      <th>0</th>\n",
       "      <td>2016-01</td>\n",
       "      <td>16</td>\n",
       "      <td>Kevin Ningsih</td>\n",
       "      <td>kevinningsih@roketmail.com</td>\n",
       "      <td>Jakarta Selatan</td>\n",
       "      <td>95</td>\n",
       "      <td>15</td>\n",
       "      <td>45724</td>\n",
       "      <td>2016</td>\n",
       "      <td>False</td>\n",
       "    </tr>\n",
       "    <tr>\n",
       "      <th>1</th>\n",
       "      <td>2016-01</td>\n",
       "      <td>25</td>\n",
       "      <td>Sakti Hasaniy</td>\n",
       "      <td>saktihasaniy@outlook.com</td>\n",
       "      <td>Jakarta Pusat</td>\n",
       "      <td>97</td>\n",
       "      <td>1</td>\n",
       "      <td>26665</td>\n",
       "      <td>2016</td>\n",
       "      <td>False</td>\n",
       "    </tr>\n",
       "    <tr>\n",
       "      <th>2</th>\n",
       "      <td>2016-01</td>\n",
       "      <td>39</td>\n",
       "      <td>Izhar Halim</td>\n",
       "      <td>izharhalim@gmail.com</td>\n",
       "      <td>Jakarta Timur</td>\n",
       "      <td>84</td>\n",
       "      <td>33</td>\n",
       "      <td>899001</td>\n",
       "      <td>2016</td>\n",
       "      <td>True</td>\n",
       "    </tr>\n",
       "    <tr>\n",
       "      <th>3</th>\n",
       "      <td>2016-02</td>\n",
       "      <td>8</td>\n",
       "      <td>Dikposa Yosua Krisnanto</td>\n",
       "      <td>dikposayosuakrisnanto@hotmail.com</td>\n",
       "      <td>Jakarta Pusat</td>\n",
       "      <td>113</td>\n",
       "      <td>11</td>\n",
       "      <td>22012</td>\n",
       "      <td>2016</td>\n",
       "      <td>False</td>\n",
       "    </tr>\n",
       "    <tr>\n",
       "      <th>4</th>\n",
       "      <td>2016-02</td>\n",
       "      <td>34</td>\n",
       "      <td>Ismail Wardhani</td>\n",
       "      <td>ismailwardhani@hotmail.com</td>\n",
       "      <td>Jakarta Selatan</td>\n",
       "      <td>25</td>\n",
       "      <td>2</td>\n",
       "      <td>55620</td>\n",
       "      <td>2016</td>\n",
       "      <td>False</td>\n",
       "    </tr>\n",
       "  </tbody>\n",
       "</table>\n",
       "</div>"
      ],
      "text/plain": [
       "     month  user_id                 username  \\\n",
       "0  2016-01       16            Kevin Ningsih   \n",
       "1  2016-01       25            Sakti Hasaniy   \n",
       "2  2016-01       39              Izhar Halim   \n",
       "3  2016-02        8  Dikposa Yosua Krisnanto   \n",
       "4  2016-02       34          Ismail Wardhani   \n",
       "\n",
       "                               email             kota  total_visit  \\\n",
       "0         kevinningsih@roketmail.com  Jakarta Selatan           95   \n",
       "1           saktihasaniy@outlook.com    Jakarta Pusat           97   \n",
       "2               izharhalim@gmail.com    Jakarta Timur           84   \n",
       "3  dikposayosuakrisnanto@hotmail.com    Jakarta Pusat          113   \n",
       "4         ismailwardhani@hotmail.com  Jakarta Selatan           25   \n",
       "\n",
       "   total_order  total_amount  year  is_gmail  \n",
       "0           15         45724  2016     False  \n",
       "1            1         26665  2016     False  \n",
       "2           33        899001  2016      True  \n",
       "3           11         22012  2016     False  \n",
       "4            2         55620  2016     False  "
      ]
     },
     "execution_count": 19,
     "metadata": {},
     "output_type": "execute_result"
    }
   ],
   "source": [
    "df['is_gmail'] = df['email'].apply(lambda x: 'gmail' in x)\n",
    "df.head()"
   ]
  },
  {
   "cell_type": "code",
   "execution_count": 20,
   "metadata": {
    "colab": {
     "base_uri": "https://localhost:8080/",
     "height": 110
    },
    "id": "UJSEEfc0STCd",
    "outputId": "f846ce28-b738-4806-d120-7bbb0b04e511"
   },
   "outputs": [
    {
     "data": {
      "text/html": [
       "<div>\n",
       "<style scoped>\n",
       "    .dataframe tbody tr th:only-of-type {\n",
       "        vertical-align: middle;\n",
       "    }\n",
       "\n",
       "    .dataframe tbody tr th {\n",
       "        vertical-align: top;\n",
       "    }\n",
       "\n",
       "    .dataframe thead th {\n",
       "        text-align: right;\n",
       "    }\n",
       "</style>\n",
       "<table border=\"1\" class=\"dataframe\">\n",
       "  <thead>\n",
       "    <tr style=\"text-align: right;\">\n",
       "      <th></th>\n",
       "      <th>year</th>\n",
       "      <th>is_gmail</th>\n",
       "      <th>total_user</th>\n",
       "    </tr>\n",
       "  </thead>\n",
       "  <tbody>\n",
       "    <tr>\n",
       "      <th>0</th>\n",
       "      <td>2018</td>\n",
       "      <td>False</td>\n",
       "      <td>14</td>\n",
       "    </tr>\n",
       "    <tr>\n",
       "      <th>1</th>\n",
       "      <td>2018</td>\n",
       "      <td>True</td>\n",
       "      <td>3</td>\n",
       "    </tr>\n",
       "  </tbody>\n",
       "</table>\n",
       "</div>"
      ],
      "text/plain": [
       "   year  is_gmail  total_user\n",
       "0  2018     False          14\n",
       "1  2018      True           3"
      ]
     },
     "execution_count": 20,
     "metadata": {},
     "output_type": "execute_result"
    }
   ],
   "source": [
    "# Filter tahun 2018\n",
    "\n",
    "df_year = df[(df.year == 2018)].groupby(['year', 'is_gmail'])['user_id'].nunique().reset_index()\n",
    "df_year.columns = ['year', 'is_gmail', 'total_user']\n",
    "df_year"
   ]
  },
  {
   "cell_type": "code",
   "execution_count": 21,
   "metadata": {
    "id": "Qu-v2aofS143"
   },
   "outputs": [],
   "source": [
    "n_true = df_year[(df_year.is_gmail == True)].reset_index()['total_user'][0]"
   ]
  },
  {
   "cell_type": "code",
   "execution_count": 22,
   "metadata": {
    "colab": {
     "base_uri": "https://localhost:8080/"
    },
    "id": "ir1S8mZSSe5N",
    "outputId": "c64062bf-9cd7-46bd-d6d6-51f96efc57d0"
   },
   "outputs": [
    {
     "name": "stdout",
     "output_type": "stream",
     "text": [
      "Total user yang menggunakan email gmail pada tahun 2018 sebanyak 3\n"
     ]
    }
   ],
   "source": [
    "print('Total user yang menggunakan email gmail pada tahun 2018 sebanyak', n_true)"
   ]
  },
  {
   "cell_type": "markdown",
   "metadata": {
    "id": "bIIn-9tGL32l"
   },
   "source": [
    "# Soal 6"
   ]
  },
  {
   "cell_type": "markdown",
   "metadata": {
    "id": "2c-3Cg0UTOgk"
   },
   "source": [
    "Menggunakan dataset superstore! Buatlah function yang bisa menghitung Jumlah Sales dan Profit pada suatu tahun dan region tertentu dengan default tahun 2017. Hint : Buat kolom tahun\n",
    "\n",
    "<b>Tentukan total sales dan profit:</b><br>\n",
    "- South Region pada tahun 2016\n",
    "- West Region pada tahun 2017"
   ]
  },
  {
   "cell_type": "code",
   "execution_count": 23,
   "metadata": {
    "colab": {
     "base_uri": "https://localhost:8080/",
     "height": 386
    },
    "id": "R-5mpKuaT9xj",
    "outputId": "3c1e0531-9e7d-4b77-e44e-cb206b6055ed"
   },
   "outputs": [
    {
     "data": {
      "text/html": [
       "<div>\n",
       "<style scoped>\n",
       "    .dataframe tbody tr th:only-of-type {\n",
       "        vertical-align: middle;\n",
       "    }\n",
       "\n",
       "    .dataframe tbody tr th {\n",
       "        vertical-align: top;\n",
       "    }\n",
       "\n",
       "    .dataframe thead th {\n",
       "        text-align: right;\n",
       "    }\n",
       "</style>\n",
       "<table border=\"1\" class=\"dataframe\">\n",
       "  <thead>\n",
       "    <tr style=\"text-align: right;\">\n",
       "      <th></th>\n",
       "      <th>Row ID</th>\n",
       "      <th>Order ID</th>\n",
       "      <th>Order Date</th>\n",
       "      <th>Ship Date</th>\n",
       "      <th>Ship Mode</th>\n",
       "      <th>Customer ID</th>\n",
       "      <th>Customer Name</th>\n",
       "      <th>Segment</th>\n",
       "      <th>Country</th>\n",
       "      <th>City</th>\n",
       "      <th>...</th>\n",
       "      <th>Postal Code</th>\n",
       "      <th>Region</th>\n",
       "      <th>Product ID</th>\n",
       "      <th>Category</th>\n",
       "      <th>Sub-Category</th>\n",
       "      <th>Product Name</th>\n",
       "      <th>Sales</th>\n",
       "      <th>Quantity</th>\n",
       "      <th>Discount</th>\n",
       "      <th>Profit</th>\n",
       "    </tr>\n",
       "  </thead>\n",
       "  <tbody>\n",
       "    <tr>\n",
       "      <th>0</th>\n",
       "      <td>1</td>\n",
       "      <td>CA-2016-152156</td>\n",
       "      <td>2016-11-08</td>\n",
       "      <td>2016-11-11</td>\n",
       "      <td>Second Class</td>\n",
       "      <td>CG-12520</td>\n",
       "      <td>Claire Gute</td>\n",
       "      <td>Consumer</td>\n",
       "      <td>United States</td>\n",
       "      <td>Henderson</td>\n",
       "      <td>...</td>\n",
       "      <td>42420</td>\n",
       "      <td>South</td>\n",
       "      <td>FUR-BO-10001798</td>\n",
       "      <td>Furniture</td>\n",
       "      <td>Bookcases</td>\n",
       "      <td>Bush Somerset Collection Bookcase</td>\n",
       "      <td>261.96</td>\n",
       "      <td>2</td>\n",
       "      <td>0.0</td>\n",
       "      <td>41.9136</td>\n",
       "    </tr>\n",
       "    <tr>\n",
       "      <th>1</th>\n",
       "      <td>2</td>\n",
       "      <td>CA-2016-152156</td>\n",
       "      <td>2016-11-08</td>\n",
       "      <td>2016-11-11</td>\n",
       "      <td>Second Class</td>\n",
       "      <td>CG-12520</td>\n",
       "      <td>Claire Gute</td>\n",
       "      <td>Consumer</td>\n",
       "      <td>United States</td>\n",
       "      <td>Henderson</td>\n",
       "      <td>...</td>\n",
       "      <td>42420</td>\n",
       "      <td>South</td>\n",
       "      <td>FUR-CH-10000454</td>\n",
       "      <td>Furniture</td>\n",
       "      <td>Chairs</td>\n",
       "      <td>Hon Deluxe Fabric Upholstered Stacking Chairs,...</td>\n",
       "      <td>731.94</td>\n",
       "      <td>3</td>\n",
       "      <td>0.0</td>\n",
       "      <td>219.5820</td>\n",
       "    </tr>\n",
       "    <tr>\n",
       "      <th>2</th>\n",
       "      <td>3</td>\n",
       "      <td>CA-2016-138688</td>\n",
       "      <td>2016-06-12</td>\n",
       "      <td>2016-06-16</td>\n",
       "      <td>Second Class</td>\n",
       "      <td>DV-13045</td>\n",
       "      <td>Darrin Van Huff</td>\n",
       "      <td>Corporate</td>\n",
       "      <td>United States</td>\n",
       "      <td>Los Angeles</td>\n",
       "      <td>...</td>\n",
       "      <td>90036</td>\n",
       "      <td>West</td>\n",
       "      <td>OFF-LA-10000240</td>\n",
       "      <td>Office Supplies</td>\n",
       "      <td>Labels</td>\n",
       "      <td>Self-Adhesive Address Labels for Typewriters b...</td>\n",
       "      <td>14.62</td>\n",
       "      <td>2</td>\n",
       "      <td>0.0</td>\n",
       "      <td>6.8714</td>\n",
       "    </tr>\n",
       "  </tbody>\n",
       "</table>\n",
       "<p>3 rows × 21 columns</p>\n",
       "</div>"
      ],
      "text/plain": [
       "   Row ID        Order ID Order Date  Ship Date     Ship Mode Customer ID  \\\n",
       "0       1  CA-2016-152156 2016-11-08 2016-11-11  Second Class    CG-12520   \n",
       "1       2  CA-2016-152156 2016-11-08 2016-11-11  Second Class    CG-12520   \n",
       "2       3  CA-2016-138688 2016-06-12 2016-06-16  Second Class    DV-13045   \n",
       "\n",
       "     Customer Name    Segment        Country         City  ... Postal Code  \\\n",
       "0      Claire Gute   Consumer  United States    Henderson  ...       42420   \n",
       "1      Claire Gute   Consumer  United States    Henderson  ...       42420   \n",
       "2  Darrin Van Huff  Corporate  United States  Los Angeles  ...       90036   \n",
       "\n",
       "   Region       Product ID         Category Sub-Category  \\\n",
       "0   South  FUR-BO-10001798        Furniture    Bookcases   \n",
       "1   South  FUR-CH-10000454        Furniture       Chairs   \n",
       "2    West  OFF-LA-10000240  Office Supplies       Labels   \n",
       "\n",
       "                                        Product Name   Sales  Quantity  \\\n",
       "0                  Bush Somerset Collection Bookcase  261.96         2   \n",
       "1  Hon Deluxe Fabric Upholstered Stacking Chairs,...  731.94         3   \n",
       "2  Self-Adhesive Address Labels for Typewriters b...   14.62         2   \n",
       "\n",
       "   Discount    Profit  \n",
       "0       0.0   41.9136  \n",
       "1       0.0  219.5820  \n",
       "2       0.0    6.8714  \n",
       "\n",
       "[3 rows x 21 columns]"
      ]
     },
     "execution_count": 23,
     "metadata": {},
     "output_type": "execute_result"
    }
   ],
   "source": [
    "import pandas as pd\n",
    "import numpy as np\n",
    "\n",
    "df = pd.read_excel('superstore.xls')\n",
    "df.head(3)"
   ]
  },
  {
   "cell_type": "code",
   "execution_count": 24,
   "metadata": {
    "colab": {
     "base_uri": "https://localhost:8080/"
    },
    "id": "yvnVIjyjULEG",
    "outputId": "4b0ec13e-d885-4fd5-a8e2-91da6eec8a98"
   },
   "outputs": [
    {
     "name": "stdout",
     "output_type": "stream",
     "text": [
      "<class 'pandas.core.frame.DataFrame'>\n",
      "RangeIndex: 9994 entries, 0 to 9993\n",
      "Data columns (total 21 columns):\n",
      " #   Column         Non-Null Count  Dtype         \n",
      "---  ------         --------------  -----         \n",
      " 0   Row ID         9994 non-null   int64         \n",
      " 1   Order ID       9994 non-null   object        \n",
      " 2   Order Date     9994 non-null   datetime64[ns]\n",
      " 3   Ship Date      9994 non-null   datetime64[ns]\n",
      " 4   Ship Mode      9994 non-null   object        \n",
      " 5   Customer ID    9994 non-null   object        \n",
      " 6   Customer Name  9994 non-null   object        \n",
      " 7   Segment        9994 non-null   object        \n",
      " 8   Country        9994 non-null   object        \n",
      " 9   City           9994 non-null   object        \n",
      " 10  State          9994 non-null   object        \n",
      " 11  Postal Code    9994 non-null   int64         \n",
      " 12  Region         9994 non-null   object        \n",
      " 13  Product ID     9994 non-null   object        \n",
      " 14  Category       9994 non-null   object        \n",
      " 15  Sub-Category   9994 non-null   object        \n",
      " 16  Product Name   9994 non-null   object        \n",
      " 17  Sales          9994 non-null   float64       \n",
      " 18  Quantity       9994 non-null   int64         \n",
      " 19  Discount       9994 non-null   float64       \n",
      " 20  Profit         9994 non-null   float64       \n",
      "dtypes: datetime64[ns](2), float64(3), int64(3), object(13)\n",
      "memory usage: 1.6+ MB\n"
     ]
    }
   ],
   "source": [
    "df.info()"
   ]
  },
  {
   "cell_type": "code",
   "execution_count": 25,
   "metadata": {
    "colab": {
     "base_uri": "https://localhost:8080/",
     "height": 141
    },
    "id": "cLVdU646URzx",
    "outputId": "072d26fe-cc17-4a06-c769-1200cc806136"
   },
   "outputs": [
    {
     "data": {
      "text/html": [
       "<div>\n",
       "<style scoped>\n",
       "    .dataframe tbody tr th:only-of-type {\n",
       "        vertical-align: middle;\n",
       "    }\n",
       "\n",
       "    .dataframe tbody tr th {\n",
       "        vertical-align: top;\n",
       "    }\n",
       "\n",
       "    .dataframe thead th {\n",
       "        text-align: right;\n",
       "    }\n",
       "</style>\n",
       "<table border=\"1\" class=\"dataframe\">\n",
       "  <thead>\n",
       "    <tr style=\"text-align: right;\">\n",
       "      <th></th>\n",
       "      <th>year</th>\n",
       "      <th>Order Date</th>\n",
       "      <th>Order ID</th>\n",
       "      <th>Region</th>\n",
       "      <th>Sales</th>\n",
       "      <th>Profit</th>\n",
       "    </tr>\n",
       "  </thead>\n",
       "  <tbody>\n",
       "    <tr>\n",
       "      <th>0</th>\n",
       "      <td>2016</td>\n",
       "      <td>2016-11-08</td>\n",
       "      <td>CA-2016-152156</td>\n",
       "      <td>South</td>\n",
       "      <td>261.96</td>\n",
       "      <td>41.9136</td>\n",
       "    </tr>\n",
       "    <tr>\n",
       "      <th>1</th>\n",
       "      <td>2016</td>\n",
       "      <td>2016-11-08</td>\n",
       "      <td>CA-2016-152156</td>\n",
       "      <td>South</td>\n",
       "      <td>731.94</td>\n",
       "      <td>219.5820</td>\n",
       "    </tr>\n",
       "    <tr>\n",
       "      <th>2</th>\n",
       "      <td>2016</td>\n",
       "      <td>2016-06-12</td>\n",
       "      <td>CA-2016-138688</td>\n",
       "      <td>West</td>\n",
       "      <td>14.62</td>\n",
       "      <td>6.8714</td>\n",
       "    </tr>\n",
       "  </tbody>\n",
       "</table>\n",
       "</div>"
      ],
      "text/plain": [
       "   year Order Date        Order ID Region   Sales    Profit\n",
       "0  2016 2016-11-08  CA-2016-152156  South  261.96   41.9136\n",
       "1  2016 2016-11-08  CA-2016-152156  South  731.94  219.5820\n",
       "2  2016 2016-06-12  CA-2016-138688   West   14.62    6.8714"
      ]
     },
     "execution_count": 25,
     "metadata": {},
     "output_type": "execute_result"
    }
   ],
   "source": [
    "#get year\n",
    "df['year'] = df['Order Date'].dt.year #karena type data Order Date Sudah date time (datetime64[ns]) bisa menggunakan fungsi .dt\n",
    "df[['year','Order Date','Order ID', 'Region', 'Sales', 'Profit']].head(3)"
   ]
  },
  {
   "cell_type": "code",
   "execution_count": 26,
   "metadata": {
    "id": "2ZCWFUWfUYnT"
   },
   "outputs": [],
   "source": [
    "def total_sales_profit(region, year=2017): #default year 2017\n",
    "    #filter dataframe\n",
    "    df_filter = df[(df.year == year) & (df.Region == region)]\n",
    "\n",
    "    #get value sum sales and profit\n",
    "    total_sales = df_filter.Sales.sum()\n",
    "    total_profit = df_filter.Profit.sum()\n",
    "\n",
    "    #return statement 2 values\n",
    "    return total_sales, total_profit #tuple"
   ]
  },
  {
   "cell_type": "code",
   "execution_count": 27,
   "metadata": {
    "colab": {
     "base_uri": "https://localhost:8080/"
    },
    "id": "6x0j8IdIUnPo",
    "outputId": "265e9b0b-0433-47de-b7a7-6cfbd88d7855"
   },
   "outputs": [
    {
     "name": "stdout",
     "output_type": "stream",
     "text": [
      "Total Sales pada South Region tahun 2016 adalah 93610.22\n",
      "Total Profit pada South Region tahun 2016 adalah 17702.81\n"
     ]
    }
   ],
   "source": [
    "#pertanyaan 1\n",
    "print('Total Sales pada South Region tahun 2016 adalah', round(total_sales_profit('South', 2016)[0], 2))\n",
    "print('Total Profit pada South Region tahun 2016 adalah', round(total_sales_profit('South', 2016)[1], 2))"
   ]
  },
  {
   "cell_type": "code",
   "execution_count": 28,
   "metadata": {
    "colab": {
     "base_uri": "https://localhost:8080/"
    },
    "id": "QEMEhDooU0Ek",
    "outputId": "da591923-4fcc-4cfd-db4c-d263fb080b8c"
   },
   "outputs": [
    {
     "name": "stdout",
     "output_type": "stream",
     "text": [
      "Total Sales pada West Region tahun 2017 adalah 250128.37\n",
      "Total Profit pada West Region tahun 2017 adalah 43808.96\n"
     ]
    }
   ],
   "source": [
    "#pertanyaan 2 v1\n",
    "print('Total Sales pada West Region tahun 2017 adalah', round(total_sales_profit('West', 2017)[0], 2))\n",
    "print('Total Profit pada West Region tahun 2017 adalah', round(total_sales_profit('West', 2017)[1], 2))"
   ]
  },
  {
   "cell_type": "code",
   "execution_count": 29,
   "metadata": {
    "colab": {
     "base_uri": "https://localhost:8080/"
    },
    "id": "glBuDijKU7YK",
    "outputId": "3c8a6cbe-8d69-4ad0-cb16-3e6973b5c4b5"
   },
   "outputs": [
    {
     "name": "stdout",
     "output_type": "stream",
     "text": [
      "Total Sales pada West Region tahun 2017 adalah 250128.37\n",
      "Total Profit pada West Region tahun 2017 adalah 43808.96\n"
     ]
    }
   ],
   "source": [
    "#pertanyaan 2 v2\n",
    "print('Total Sales pada West Region tahun 2017 adalah', round(total_sales_profit('West')[0], 2))\n",
    "print('Total Profit pada West Region tahun 2017 adalah', round(total_sales_profit('West')[1], 2))"
   ]
  },
  {
   "cell_type": "markdown",
   "metadata": {
    "id": "iJOhxBLsL7tr"
   },
   "source": [
    "# Soal 7"
   ]
  },
  {
   "cell_type": "markdown",
   "metadata": {
    "id": "9fMaKSaHVG02"
   },
   "source": [
    "Menggunakan dataset superstore! Buatlah 3 kelompok 'segment'  (high, medium, dan low) berdasarkan performance pembelian yang digunakan sebagai acuan tim bisnis untuk mengelompokan customer superstore. <br>\n",
    "\n",
    "<b>Instruksi:</b>\n",
    "1. Bantulah tim bisnis untuk menentukan kriteria pengelompokan untuk 3 segmentasi customer ini, dan gunakan iterrows atau apply lambda sebagai teknik pembuatan kolom baru!\n",
    "2. Berikan alasan kalian dalam penentuan kriteria pengelompokan customer yang dibuat! \n",
    "3. Tentukan jumlah customer pada masing-masing segment di tahun 2017! \n",
    "\n",
    "Hint : Pahami setiap row pada dataset, pastikan jumlah customer unique\n"
   ]
  },
  {
   "cell_type": "code",
   "execution_count": 30,
   "metadata": {
    "colab": {
     "base_uri": "https://localhost:8080/",
     "height": 386
    },
    "id": "kehbZbLeVUHm",
    "outputId": "a636f6cb-fcc5-4f2e-df08-b6c62ea1738f"
   },
   "outputs": [
    {
     "data": {
      "text/html": [
       "<div>\n",
       "<style scoped>\n",
       "    .dataframe tbody tr th:only-of-type {\n",
       "        vertical-align: middle;\n",
       "    }\n",
       "\n",
       "    .dataframe tbody tr th {\n",
       "        vertical-align: top;\n",
       "    }\n",
       "\n",
       "    .dataframe thead th {\n",
       "        text-align: right;\n",
       "    }\n",
       "</style>\n",
       "<table border=\"1\" class=\"dataframe\">\n",
       "  <thead>\n",
       "    <tr style=\"text-align: right;\">\n",
       "      <th></th>\n",
       "      <th>Row ID</th>\n",
       "      <th>Order ID</th>\n",
       "      <th>Order Date</th>\n",
       "      <th>Ship Date</th>\n",
       "      <th>Ship Mode</th>\n",
       "      <th>Customer ID</th>\n",
       "      <th>Customer Name</th>\n",
       "      <th>Segment</th>\n",
       "      <th>Country</th>\n",
       "      <th>City</th>\n",
       "      <th>...</th>\n",
       "      <th>Postal Code</th>\n",
       "      <th>Region</th>\n",
       "      <th>Product ID</th>\n",
       "      <th>Category</th>\n",
       "      <th>Sub-Category</th>\n",
       "      <th>Product Name</th>\n",
       "      <th>Sales</th>\n",
       "      <th>Quantity</th>\n",
       "      <th>Discount</th>\n",
       "      <th>Profit</th>\n",
       "    </tr>\n",
       "  </thead>\n",
       "  <tbody>\n",
       "    <tr>\n",
       "      <th>0</th>\n",
       "      <td>1</td>\n",
       "      <td>CA-2016-152156</td>\n",
       "      <td>2016-11-08</td>\n",
       "      <td>2016-11-11</td>\n",
       "      <td>Second Class</td>\n",
       "      <td>CG-12520</td>\n",
       "      <td>Claire Gute</td>\n",
       "      <td>Consumer</td>\n",
       "      <td>United States</td>\n",
       "      <td>Henderson</td>\n",
       "      <td>...</td>\n",
       "      <td>42420</td>\n",
       "      <td>South</td>\n",
       "      <td>FUR-BO-10001798</td>\n",
       "      <td>Furniture</td>\n",
       "      <td>Bookcases</td>\n",
       "      <td>Bush Somerset Collection Bookcase</td>\n",
       "      <td>261.96</td>\n",
       "      <td>2</td>\n",
       "      <td>0.0</td>\n",
       "      <td>41.9136</td>\n",
       "    </tr>\n",
       "    <tr>\n",
       "      <th>1</th>\n",
       "      <td>2</td>\n",
       "      <td>CA-2016-152156</td>\n",
       "      <td>2016-11-08</td>\n",
       "      <td>2016-11-11</td>\n",
       "      <td>Second Class</td>\n",
       "      <td>CG-12520</td>\n",
       "      <td>Claire Gute</td>\n",
       "      <td>Consumer</td>\n",
       "      <td>United States</td>\n",
       "      <td>Henderson</td>\n",
       "      <td>...</td>\n",
       "      <td>42420</td>\n",
       "      <td>South</td>\n",
       "      <td>FUR-CH-10000454</td>\n",
       "      <td>Furniture</td>\n",
       "      <td>Chairs</td>\n",
       "      <td>Hon Deluxe Fabric Upholstered Stacking Chairs,...</td>\n",
       "      <td>731.94</td>\n",
       "      <td>3</td>\n",
       "      <td>0.0</td>\n",
       "      <td>219.5820</td>\n",
       "    </tr>\n",
       "    <tr>\n",
       "      <th>2</th>\n",
       "      <td>3</td>\n",
       "      <td>CA-2016-138688</td>\n",
       "      <td>2016-06-12</td>\n",
       "      <td>2016-06-16</td>\n",
       "      <td>Second Class</td>\n",
       "      <td>DV-13045</td>\n",
       "      <td>Darrin Van Huff</td>\n",
       "      <td>Corporate</td>\n",
       "      <td>United States</td>\n",
       "      <td>Los Angeles</td>\n",
       "      <td>...</td>\n",
       "      <td>90036</td>\n",
       "      <td>West</td>\n",
       "      <td>OFF-LA-10000240</td>\n",
       "      <td>Office Supplies</td>\n",
       "      <td>Labels</td>\n",
       "      <td>Self-Adhesive Address Labels for Typewriters b...</td>\n",
       "      <td>14.62</td>\n",
       "      <td>2</td>\n",
       "      <td>0.0</td>\n",
       "      <td>6.8714</td>\n",
       "    </tr>\n",
       "  </tbody>\n",
       "</table>\n",
       "<p>3 rows × 21 columns</p>\n",
       "</div>"
      ],
      "text/plain": [
       "   Row ID        Order ID Order Date  Ship Date     Ship Mode Customer ID  \\\n",
       "0       1  CA-2016-152156 2016-11-08 2016-11-11  Second Class    CG-12520   \n",
       "1       2  CA-2016-152156 2016-11-08 2016-11-11  Second Class    CG-12520   \n",
       "2       3  CA-2016-138688 2016-06-12 2016-06-16  Second Class    DV-13045   \n",
       "\n",
       "     Customer Name    Segment        Country         City  ... Postal Code  \\\n",
       "0      Claire Gute   Consumer  United States    Henderson  ...       42420   \n",
       "1      Claire Gute   Consumer  United States    Henderson  ...       42420   \n",
       "2  Darrin Van Huff  Corporate  United States  Los Angeles  ...       90036   \n",
       "\n",
       "   Region       Product ID         Category Sub-Category  \\\n",
       "0   South  FUR-BO-10001798        Furniture    Bookcases   \n",
       "1   South  FUR-CH-10000454        Furniture       Chairs   \n",
       "2    West  OFF-LA-10000240  Office Supplies       Labels   \n",
       "\n",
       "                                        Product Name   Sales  Quantity  \\\n",
       "0                  Bush Somerset Collection Bookcase  261.96         2   \n",
       "1  Hon Deluxe Fabric Upholstered Stacking Chairs,...  731.94         3   \n",
       "2  Self-Adhesive Address Labels for Typewriters b...   14.62         2   \n",
       "\n",
       "   Discount    Profit  \n",
       "0       0.0   41.9136  \n",
       "1       0.0  219.5820  \n",
       "2       0.0    6.8714  \n",
       "\n",
       "[3 rows x 21 columns]"
      ]
     },
     "execution_count": 30,
     "metadata": {},
     "output_type": "execute_result"
    }
   ],
   "source": [
    "import pandas as pd\n",
    "\n",
    "df = pd.read_excel('superstore.xls')\n",
    "df.head(3)"
   ]
  },
  {
   "cell_type": "code",
   "execution_count": 31,
   "metadata": {
    "id": "5jfAuEXUWQfl"
   },
   "outputs": [],
   "source": [
    "#get year\n",
    "#get year\n",
    "df['year'] = df['Order Date'].dt.year #karena type data Order Date Sudah date time (datetime64[ns]) bisa menggunakan fungsi .dt"
   ]
  },
  {
   "cell_type": "markdown",
   "metadata": {
    "id": "wOGbPWoIV55X"
   },
   "source": [
    "Notes:\n",
    "- 1 row berisi 1 order-code dari detail pembelian seorang customer\n",
    "- Max order date 30 Desember 2017\n",
    "- Historical data 4 tahun, dari 2014 - 2017\n",
    "- Historical data 4 region (south, west, east and central)\n",
    "- Metric yang kami gunakan untuk melakukan segmentasi menggunakan performance sales"
   ]
  },
  {
   "cell_type": "code",
   "execution_count": 32,
   "metadata": {
    "colab": {
     "base_uri": "https://localhost:8080/"
    },
    "id": "rSIVwsFJVd7U",
    "outputId": "41c36323-a0d6-42c7-ac62-37f3b411c3eb"
   },
   "outputs": [
    {
     "data": {
      "text/plain": [
       "Timestamp('2017-12-30 00:00:00')"
      ]
     },
     "execution_count": 32,
     "metadata": {},
     "output_type": "execute_result"
    }
   ],
   "source": [
    "df['Order Date'].max() #max date"
   ]
  },
  {
   "cell_type": "code",
   "execution_count": 33,
   "metadata": {
    "colab": {
     "base_uri": "https://localhost:8080/"
    },
    "id": "W5Vk6QvmV3vw",
    "outputId": "bd231784-35b2-4ac2-c738-cbfeed3b8411"
   },
   "outputs": [
    {
     "data": {
      "text/plain": [
       "2017    3312\n",
       "2016    2587\n",
       "2015    2102\n",
       "2014    1993\n",
       "Name: year, dtype: int64"
      ]
     },
     "execution_count": 33,
     "metadata": {},
     "output_type": "execute_result"
    }
   ],
   "source": [
    "#persebaran order per Year\n",
    "df['year'].value_counts()"
   ]
  },
  {
   "cell_type": "code",
   "execution_count": 34,
   "metadata": {
    "colab": {
     "base_uri": "https://localhost:8080/"
    },
    "id": "i5nGdWkaWTdd",
    "outputId": "95d1ce71-0292-49f3-b840-a2afb82d72a2"
   },
   "outputs": [
    {
     "data": {
      "text/plain": [
       "West       3203\n",
       "East       2848\n",
       "Central    2323\n",
       "South      1620\n",
       "Name: Region, dtype: int64"
      ]
     },
     "execution_count": 34,
     "metadata": {},
     "output_type": "execute_result"
    }
   ],
   "source": [
    "#persebaran order per Region\n",
    "df['Region'].value_counts()"
   ]
  },
  {
   "cell_type": "code",
   "execution_count": 35,
   "metadata": {
    "colab": {
     "base_uri": "https://localhost:8080/",
     "height": 202
    },
    "id": "4vudJ4stWfP5",
    "outputId": "fac4495c-a1a4-4921-8ae1-6ebc2d6771c9"
   },
   "outputs": [
    {
     "data": {
      "text/html": [
       "<div>\n",
       "<style scoped>\n",
       "    .dataframe tbody tr th:only-of-type {\n",
       "        vertical-align: middle;\n",
       "    }\n",
       "\n",
       "    .dataframe tbody tr th {\n",
       "        vertical-align: top;\n",
       "    }\n",
       "\n",
       "    .dataframe thead th {\n",
       "        text-align: right;\n",
       "    }\n",
       "</style>\n",
       "<table border=\"1\" class=\"dataframe\">\n",
       "  <thead>\n",
       "    <tr style=\"text-align: right;\">\n",
       "      <th></th>\n",
       "      <th>year</th>\n",
       "      <th>Customer ID</th>\n",
       "      <th>Customer Name</th>\n",
       "      <th>Sales</th>\n",
       "    </tr>\n",
       "  </thead>\n",
       "  <tbody>\n",
       "    <tr>\n",
       "      <th>0</th>\n",
       "      <td>2014</td>\n",
       "      <td>AA-10315</td>\n",
       "      <td>Alex Avila</td>\n",
       "      <td>756.048</td>\n",
       "    </tr>\n",
       "    <tr>\n",
       "      <th>1</th>\n",
       "      <td>2014</td>\n",
       "      <td>AA-10375</td>\n",
       "      <td>Allen Armold</td>\n",
       "      <td>50.792</td>\n",
       "    </tr>\n",
       "    <tr>\n",
       "      <th>2</th>\n",
       "      <td>2014</td>\n",
       "      <td>AA-10480</td>\n",
       "      <td>Andrew Allen</td>\n",
       "      <td>27.460</td>\n",
       "    </tr>\n",
       "    <tr>\n",
       "      <th>3</th>\n",
       "      <td>2014</td>\n",
       "      <td>AA-10645</td>\n",
       "      <td>Anna Andreadi</td>\n",
       "      <td>1434.330</td>\n",
       "    </tr>\n",
       "    <tr>\n",
       "      <th>4</th>\n",
       "      <td>2014</td>\n",
       "      <td>AB-10015</td>\n",
       "      <td>Aaron Bergman</td>\n",
       "      <td>322.216</td>\n",
       "    </tr>\n",
       "  </tbody>\n",
       "</table>\n",
       "</div>"
      ],
      "text/plain": [
       "   year Customer ID  Customer Name     Sales\n",
       "0  2014    AA-10315     Alex Avila   756.048\n",
       "1  2014    AA-10375   Allen Armold    50.792\n",
       "2  2014    AA-10480   Andrew Allen    27.460\n",
       "3  2014    AA-10645  Anna Andreadi  1434.330\n",
       "4  2014    AB-10015  Aaron Bergman   322.216"
      ]
     },
     "execution_count": 35,
     "metadata": {},
     "output_type": "execute_result"
    }
   ],
   "source": [
    "#Karena kita ingin melakukan segmentasi customer dan dataset masih dalam level order ID maka kita perlu\n",
    "#mengagregatnya terlebih dulu untuk mendapatkan performance sales pada level customer_id\n",
    "\n",
    "df_group_year = df.groupby(['year','Customer ID', 'Customer Name'])['Sales'].sum().reset_index()\n",
    "\n",
    "df_group_year.head()"
   ]
  },
  {
   "cell_type": "code",
   "execution_count": 36,
   "metadata": {
    "colab": {
     "base_uri": "https://localhost:8080/",
     "height": 171
    },
    "id": "a2-5hNl5WvEI",
    "outputId": "c3aba96e-003f-46f1-8eda-98ad9dd54068"
   },
   "outputs": [
    {
     "data": {
      "text/html": [
       "<div>\n",
       "<style scoped>\n",
       "    .dataframe tbody tr th:only-of-type {\n",
       "        vertical-align: middle;\n",
       "    }\n",
       "\n",
       "    .dataframe tbody tr th {\n",
       "        vertical-align: top;\n",
       "    }\n",
       "\n",
       "    .dataframe thead th {\n",
       "        text-align: right;\n",
       "    }\n",
       "</style>\n",
       "<table border=\"1\" class=\"dataframe\">\n",
       "  <thead>\n",
       "    <tr style=\"text-align: right;\">\n",
       "      <th></th>\n",
       "      <th>year</th>\n",
       "      <th>count</th>\n",
       "      <th>mean</th>\n",
       "      <th>std</th>\n",
       "      <th>min</th>\n",
       "      <th>25%</th>\n",
       "      <th>50%</th>\n",
       "      <th>75%</th>\n",
       "      <th>90%</th>\n",
       "      <th>95%</th>\n",
       "      <th>max</th>\n",
       "    </tr>\n",
       "  </thead>\n",
       "  <tbody>\n",
       "    <tr>\n",
       "      <th>0</th>\n",
       "      <td>2014</td>\n",
       "      <td>595.0</td>\n",
       "      <td>813.861341</td>\n",
       "      <td>1558.339428</td>\n",
       "      <td>1.869</td>\n",
       "      <td>86.448</td>\n",
       "      <td>321.552</td>\n",
       "      <td>951.7495</td>\n",
       "      <td>2016.9944</td>\n",
       "      <td>2764.38828</td>\n",
       "      <td>23661.228</td>\n",
       "    </tr>\n",
       "    <tr>\n",
       "      <th>1</th>\n",
       "      <td>2015</td>\n",
       "      <td>573.0</td>\n",
       "      <td>821.173663</td>\n",
       "      <td>1115.847785</td>\n",
       "      <td>1.720</td>\n",
       "      <td>120.564</td>\n",
       "      <td>389.434</td>\n",
       "      <td>1065.9200</td>\n",
       "      <td>2210.6500</td>\n",
       "      <td>2900.66280</td>\n",
       "      <td>9022.324</td>\n",
       "    </tr>\n",
       "    <tr>\n",
       "      <th>2</th>\n",
       "      <td>2016</td>\n",
       "      <td>638.0</td>\n",
       "      <td>954.867708</td>\n",
       "      <td>1524.135920</td>\n",
       "      <td>1.964</td>\n",
       "      <td>107.271</td>\n",
       "      <td>495.729</td>\n",
       "      <td>1210.8170</td>\n",
       "      <td>2090.1135</td>\n",
       "      <td>3216.82335</td>\n",
       "      <td>18344.052</td>\n",
       "    </tr>\n",
       "    <tr>\n",
       "      <th>3</th>\n",
       "      <td>2017</td>\n",
       "      <td>693.0</td>\n",
       "      <td>1058.030671</td>\n",
       "      <td>1463.910713</td>\n",
       "      <td>1.188</td>\n",
       "      <td>204.405</td>\n",
       "      <td>604.910</td>\n",
       "      <td>1334.6416</td>\n",
       "      <td>2384.6104</td>\n",
       "      <td>3755.71360</td>\n",
       "      <td>14203.278</td>\n",
       "    </tr>\n",
       "  </tbody>\n",
       "</table>\n",
       "</div>"
      ],
      "text/plain": [
       "   year  count         mean          std    min      25%      50%        75%  \\\n",
       "0  2014  595.0   813.861341  1558.339428  1.869   86.448  321.552   951.7495   \n",
       "1  2015  573.0   821.173663  1115.847785  1.720  120.564  389.434  1065.9200   \n",
       "2  2016  638.0   954.867708  1524.135920  1.964  107.271  495.729  1210.8170   \n",
       "3  2017  693.0  1058.030671  1463.910713  1.188  204.405  604.910  1334.6416   \n",
       "\n",
       "         90%         95%        max  \n",
       "0  2016.9944  2764.38828  23661.228  \n",
       "1  2210.6500  2900.66280   9022.324  \n",
       "2  2090.1135  3216.82335  18344.052  \n",
       "3  2384.6104  3755.71360  14203.278  "
      ]
     },
     "execution_count": 36,
     "metadata": {},
     "output_type": "execute_result"
    }
   ],
   "source": [
    "#check distribution statistic descriptive sales setiap user per tahunnya\n",
    "\n",
    "df_group_year_desc = df_group_year.groupby(['year'])['Sales'].describe(percentiles = [.25, .5, .75, .9, .95]).reset_index()\n",
    "df_group_year_desc"
   ]
  },
  {
   "cell_type": "markdown",
   "metadata": {
    "id": "KXWnQatJXICR"
   },
   "source": [
    "Dari hasil statistic descriptive di atas kita mengatahui bahwa nilai median (p50) setiap tahun nya bernilai <b>fluktuatif</b>. Sehingga dari hasil ini kami memutuskan untuk membuat definisi segmentasi performance pembelian akan berbeda setiap tahunnya menggunakan pendekatan statistic descriptive pada performance sales setiap tahunnya. <br>\n",
    "\n",
    "Selanjutnya, untuk membagi threshold setiap segment, kami menggunakan acuan percentile.\n",
    "1. low --> total sales per tahun < p50\n",
    "2. mid --> total sales per tahun >= p50 and <= 75\n",
    "3. high --> total sales per tahun > p75"
   ]
  },
  {
   "cell_type": "code",
   "execution_count": 37,
   "metadata": {
    "colab": {
     "base_uri": "https://localhost:8080/",
     "height": 202
    },
    "id": "214wVq9sXGud",
    "outputId": "80935349-d466-452b-fbbe-82556a3df80e"
   },
   "outputs": [
    {
     "data": {
      "text/html": [
       "<div>\n",
       "<style scoped>\n",
       "    .dataframe tbody tr th:only-of-type {\n",
       "        vertical-align: middle;\n",
       "    }\n",
       "\n",
       "    .dataframe tbody tr th {\n",
       "        vertical-align: top;\n",
       "    }\n",
       "\n",
       "    .dataframe thead th {\n",
       "        text-align: right;\n",
       "    }\n",
       "</style>\n",
       "<table border=\"1\" class=\"dataframe\">\n",
       "  <thead>\n",
       "    <tr style=\"text-align: right;\">\n",
       "      <th></th>\n",
       "      <th>year</th>\n",
       "      <th>Customer ID</th>\n",
       "      <th>Customer Name</th>\n",
       "      <th>Sales</th>\n",
       "      <th>mean</th>\n",
       "      <th>25%</th>\n",
       "      <th>50%</th>\n",
       "      <th>75%</th>\n",
       "    </tr>\n",
       "  </thead>\n",
       "  <tbody>\n",
       "    <tr>\n",
       "      <th>0</th>\n",
       "      <td>2014</td>\n",
       "      <td>AA-10315</td>\n",
       "      <td>Alex Avila</td>\n",
       "      <td>756.048</td>\n",
       "      <td>813.861341</td>\n",
       "      <td>86.448</td>\n",
       "      <td>321.552</td>\n",
       "      <td>951.7495</td>\n",
       "    </tr>\n",
       "    <tr>\n",
       "      <th>1</th>\n",
       "      <td>2014</td>\n",
       "      <td>AA-10375</td>\n",
       "      <td>Allen Armold</td>\n",
       "      <td>50.792</td>\n",
       "      <td>813.861341</td>\n",
       "      <td>86.448</td>\n",
       "      <td>321.552</td>\n",
       "      <td>951.7495</td>\n",
       "    </tr>\n",
       "    <tr>\n",
       "      <th>2</th>\n",
       "      <td>2014</td>\n",
       "      <td>AA-10480</td>\n",
       "      <td>Andrew Allen</td>\n",
       "      <td>27.460</td>\n",
       "      <td>813.861341</td>\n",
       "      <td>86.448</td>\n",
       "      <td>321.552</td>\n",
       "      <td>951.7495</td>\n",
       "    </tr>\n",
       "    <tr>\n",
       "      <th>3</th>\n",
       "      <td>2014</td>\n",
       "      <td>AA-10645</td>\n",
       "      <td>Anna Andreadi</td>\n",
       "      <td>1434.330</td>\n",
       "      <td>813.861341</td>\n",
       "      <td>86.448</td>\n",
       "      <td>321.552</td>\n",
       "      <td>951.7495</td>\n",
       "    </tr>\n",
       "    <tr>\n",
       "      <th>4</th>\n",
       "      <td>2014</td>\n",
       "      <td>AB-10015</td>\n",
       "      <td>Aaron Bergman</td>\n",
       "      <td>322.216</td>\n",
       "      <td>813.861341</td>\n",
       "      <td>86.448</td>\n",
       "      <td>321.552</td>\n",
       "      <td>951.7495</td>\n",
       "    </tr>\n",
       "  </tbody>\n",
       "</table>\n",
       "</div>"
      ],
      "text/plain": [
       "   year Customer ID  Customer Name     Sales        mean     25%      50%  \\\n",
       "0  2014    AA-10315     Alex Avila   756.048  813.861341  86.448  321.552   \n",
       "1  2014    AA-10375   Allen Armold    50.792  813.861341  86.448  321.552   \n",
       "2  2014    AA-10480   Andrew Allen    27.460  813.861341  86.448  321.552   \n",
       "3  2014    AA-10645  Anna Andreadi  1434.330  813.861341  86.448  321.552   \n",
       "4  2014    AB-10015  Aaron Bergman   322.216  813.861341  86.448  321.552   \n",
       "\n",
       "        75%  \n",
       "0  951.7495  \n",
       "1  951.7495  \n",
       "2  951.7495  \n",
       "3  951.7495  \n",
       "4  951.7495  "
      ]
     },
     "execution_count": 37,
     "metadata": {},
     "output_type": "execute_result"
    }
   ],
   "source": [
    "df_group_year = df_group_year.merge(df_group_year_desc[['year', 'mean', '25%', '50%', '75%']], on='year', how='inner')\n",
    "df_group_year.head()"
   ]
  },
  {
   "cell_type": "code",
   "execution_count": 38,
   "metadata": {
    "id": "JoG__6IWXo_s"
   },
   "outputs": [],
   "source": [
    "#function segmentation user besed on total sales yearly\n",
    "def segment(x):\n",
    "    if x['Sales'] < x['50%']:\n",
    "        segment = 'Low'\n",
    "    elif x['Sales'] <= x['75%'] and x['Sales'] >= x['50%']:\n",
    "        segment = 'Mid'\n",
    "    else:\n",
    "        segment = 'High'\n",
    "    return segment"
   ]
  },
  {
   "cell_type": "code",
   "execution_count": 39,
   "metadata": {
    "colab": {
     "base_uri": "https://localhost:8080/",
     "height": 202
    },
    "id": "DESyKI8ZXt4R",
    "outputId": "a9d04d0f-8f54-4992-80ee-22ed8983933e"
   },
   "outputs": [
    {
     "data": {
      "text/html": [
       "<div>\n",
       "<style scoped>\n",
       "    .dataframe tbody tr th:only-of-type {\n",
       "        vertical-align: middle;\n",
       "    }\n",
       "\n",
       "    .dataframe tbody tr th {\n",
       "        vertical-align: top;\n",
       "    }\n",
       "\n",
       "    .dataframe thead th {\n",
       "        text-align: right;\n",
       "    }\n",
       "</style>\n",
       "<table border=\"1\" class=\"dataframe\">\n",
       "  <thead>\n",
       "    <tr style=\"text-align: right;\">\n",
       "      <th></th>\n",
       "      <th>year</th>\n",
       "      <th>Customer ID</th>\n",
       "      <th>Customer Name</th>\n",
       "      <th>Sales</th>\n",
       "      <th>mean</th>\n",
       "      <th>25%</th>\n",
       "      <th>50%</th>\n",
       "      <th>75%</th>\n",
       "      <th>segment</th>\n",
       "    </tr>\n",
       "  </thead>\n",
       "  <tbody>\n",
       "    <tr>\n",
       "      <th>0</th>\n",
       "      <td>2014</td>\n",
       "      <td>AA-10315</td>\n",
       "      <td>Alex Avila</td>\n",
       "      <td>756.048</td>\n",
       "      <td>813.861341</td>\n",
       "      <td>86.448</td>\n",
       "      <td>321.552</td>\n",
       "      <td>951.7495</td>\n",
       "      <td>Mid</td>\n",
       "    </tr>\n",
       "    <tr>\n",
       "      <th>1</th>\n",
       "      <td>2014</td>\n",
       "      <td>AA-10375</td>\n",
       "      <td>Allen Armold</td>\n",
       "      <td>50.792</td>\n",
       "      <td>813.861341</td>\n",
       "      <td>86.448</td>\n",
       "      <td>321.552</td>\n",
       "      <td>951.7495</td>\n",
       "      <td>Low</td>\n",
       "    </tr>\n",
       "    <tr>\n",
       "      <th>2</th>\n",
       "      <td>2014</td>\n",
       "      <td>AA-10480</td>\n",
       "      <td>Andrew Allen</td>\n",
       "      <td>27.460</td>\n",
       "      <td>813.861341</td>\n",
       "      <td>86.448</td>\n",
       "      <td>321.552</td>\n",
       "      <td>951.7495</td>\n",
       "      <td>Low</td>\n",
       "    </tr>\n",
       "    <tr>\n",
       "      <th>3</th>\n",
       "      <td>2014</td>\n",
       "      <td>AA-10645</td>\n",
       "      <td>Anna Andreadi</td>\n",
       "      <td>1434.330</td>\n",
       "      <td>813.861341</td>\n",
       "      <td>86.448</td>\n",
       "      <td>321.552</td>\n",
       "      <td>951.7495</td>\n",
       "      <td>High</td>\n",
       "    </tr>\n",
       "    <tr>\n",
       "      <th>4</th>\n",
       "      <td>2014</td>\n",
       "      <td>AB-10015</td>\n",
       "      <td>Aaron Bergman</td>\n",
       "      <td>322.216</td>\n",
       "      <td>813.861341</td>\n",
       "      <td>86.448</td>\n",
       "      <td>321.552</td>\n",
       "      <td>951.7495</td>\n",
       "      <td>Mid</td>\n",
       "    </tr>\n",
       "  </tbody>\n",
       "</table>\n",
       "</div>"
      ],
      "text/plain": [
       "   year Customer ID  Customer Name     Sales        mean     25%      50%  \\\n",
       "0  2014    AA-10315     Alex Avila   756.048  813.861341  86.448  321.552   \n",
       "1  2014    AA-10375   Allen Armold    50.792  813.861341  86.448  321.552   \n",
       "2  2014    AA-10480   Andrew Allen    27.460  813.861341  86.448  321.552   \n",
       "3  2014    AA-10645  Anna Andreadi  1434.330  813.861341  86.448  321.552   \n",
       "4  2014    AB-10015  Aaron Bergman   322.216  813.861341  86.448  321.552   \n",
       "\n",
       "        75% segment  \n",
       "0  951.7495     Mid  \n",
       "1  951.7495     Low  \n",
       "2  951.7495     Low  \n",
       "3  951.7495    High  \n",
       "4  951.7495     Mid  "
      ]
     },
     "execution_count": 39,
     "metadata": {},
     "output_type": "execute_result"
    }
   ],
   "source": [
    "df_group_year['segment'] = df_group_year.apply(lambda x: segment(x), axis=1)\n",
    "df_group_year.head()"
   ]
  },
  {
   "cell_type": "code",
   "execution_count": 40,
   "metadata": {
    "colab": {
     "base_uri": "https://localhost:8080/"
    },
    "id": "mus_DLATX25d",
    "outputId": "ccb44b94-e364-41f9-8c10-d7946a633cd1"
   },
   "outputs": [
    {
     "data": {
      "text/plain": [
       "segment\n",
       "High    173\n",
       "Low     346\n",
       "Mid     174\n",
       "Name: Customer ID, dtype: int64"
      ]
     },
     "execution_count": 40,
     "metadata": {},
     "output_type": "execute_result"
    }
   ],
   "source": [
    "#filter tahun 2017 dan count unique based on customer id\n",
    "df_group_year[(df_group_year.year == 2017)].groupby(['segment'])['Customer ID'].nunique()"
   ]
  },
  {
   "cell_type": "markdown",
   "metadata": {
    "id": "A6OxIxNNYHR9"
   },
   "source": [
    "*Pada* tahun 2017, ~25% atau sekitar 173 dari total customer kita masuk dalam ketegori High"
   ]
  },
  {
   "cell_type": "markdown",
   "metadata": {
    "id": "ZBNcUKByMAZ-"
   },
   "source": [
    "**Tetap Semangat Belajat Python! Practice Make Perfect!**"
   ]
  }
 ],
 "metadata": {
  "colab": {
   "provenance": []
  },
  "kernelspec": {
   "display_name": "Python 3 (ipykernel)",
   "language": "python",
   "name": "python3"
  },
  "language_info": {
   "codemirror_mode": {
    "name": "ipython",
    "version": 3
   },
   "file_extension": ".py",
   "mimetype": "text/x-python",
   "name": "python",
   "nbconvert_exporter": "python",
   "pygments_lexer": "ipython3",
   "version": "3.9.16"
  }
 },
 "nbformat": 4,
 "nbformat_minor": 4
}
