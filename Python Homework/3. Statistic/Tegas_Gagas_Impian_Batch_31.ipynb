{
 "cells": [
  {
   "cell_type": "code",
   "execution_count": 1,
   "id": "5154b785",
   "metadata": {},
   "outputs": [],
   "source": [
    "import pandas as pd\n",
    "import numpy as np\n",
    "import matplotlib.pyplot as plt \n",
    "import matplotlib\n",
    "import seaborn as sns\n",
    "import scipy.stats as st\n",
    "\n",
    "matplotlib.style.use('ggplot')"
   ]
  },
  {
   "cell_type": "code",
   "execution_count": 2,
   "id": "bac20aad",
   "metadata": {},
   "outputs": [
    {
     "name": "stdout",
     "output_type": "stream",
     "text": [
      "Shape of df data: (1459, 2)\n",
      "Shape of test data: (1459, 80)\n",
      "Shape of train data: (1460, 81)\n"
     ]
    }
   ],
   "source": [
    "#Read dataset\n",
    "\n",
    "f = r'house-prices-advanced-regression-techniques\\sample_submission.csv'\n",
    "g = r'house-prices-advanced-regression-techniques\\test.csv'\n",
    "h = r'house-prices-advanced-regression-techniques\\train.csv'\n",
    "\n",
    "df = pd.read_csv(f)\n",
    "print(f'Shape of df data: {df.shape}')\n",
    "test_df = pd.read_csv(g)\n",
    "print(f'Shape of test data: {test_df.shape}')\n",
    "train_df = pd.read_csv(h)\n",
    "print(f'Shape of train data: {train_df.shape}')"
   ]
  },
  {
   "cell_type": "markdown",
   "id": "e8858399",
   "metadata": {},
   "source": [
    "Dataset yang akan digunakan hanya berupa `train_df` dan memiliki jumlah baris dan kolom **1460** dan **81**."
   ]
  },
  {
   "cell_type": "code",
   "execution_count": 3,
   "id": "e90b840d",
   "metadata": {},
   "outputs": [
    {
     "data": {
      "text/plain": [
       "False"
      ]
     },
     "execution_count": 3,
     "metadata": {},
     "output_type": "execute_result"
    }
   ],
   "source": [
    "# Check duplicated data\n",
    "\n",
    "train_df.duplicated().any()"
   ]
  },
  {
   "cell_type": "markdown",
   "id": "217c5281",
   "metadata": {},
   "source": [
    "# Basic\n",
    "\n",
    "## No.1 \n",
    "\n",
    "Tunjukkan statistika deskriptif untuk variabel harga rumah\n",
    "(Column Name : SalePrice)!\n",
    "\n",
    "Ceritakan kepada tim bisnis apa makna dari nilai nilai\n",
    "tersebut!"
   ]
  },
  {
   "cell_type": "code",
   "execution_count": 4,
   "id": "99498a50",
   "metadata": {},
   "outputs": [
    {
     "data": {
      "text/plain": [
       "count      1460.000000\n",
       "mean     180921.195890\n",
       "std       79442.502883\n",
       "min       34900.000000\n",
       "25%      129975.000000\n",
       "50%      163000.000000\n",
       "75%      214000.000000\n",
       "max      755000.000000\n",
       "Name: SalePrice, dtype: float64"
      ]
     },
     "execution_count": 4,
     "metadata": {},
     "output_type": "execute_result"
    }
   ],
   "source": [
    "x = train_df.SalePrice\n",
    "x.describe()"
   ]
  },
  {
   "cell_type": "markdown",
   "id": "cea35452",
   "metadata": {},
   "source": [
    "Nilai mean > median, maka distribusi data `SalePrice` berupa **skew positif**"
   ]
  },
  {
   "cell_type": "code",
   "execution_count": 5,
   "id": "b07761f5",
   "metadata": {},
   "outputs": [],
   "source": [
    "# Stasistic values\n",
    "\n",
    "mean = round(x.mean(),3)\n",
    "med = round(x.median(),3)\n",
    "std = round(x.std(),3)\n",
    "mod = round(x.mode()[0], 3)\n",
    "iql = round(x.quantile(0.75)-x.quantile(0.25), 3)\n",
    "mn = round(x.quantile(0.25)-1.5*iql, 3)\n",
    "mx = round(x.quantile(0.75)+1.5*iql, 3)\n",
    "rng = round(x.max()-x.min())"
   ]
  },
  {
   "cell_type": "code",
   "execution_count": 6,
   "id": "1377d9b7",
   "metadata": {},
   "outputs": [
    {
     "name": "stdout",
     "output_type": "stream",
     "text": [
      "\n",
      "Terdapat nilai yang menyatakan ukuran pemusatan atau karakteristik dalam sekumpulan data, khususnya modus, median, atau (paling umum) rata-rata.\n",
      "Rerata dihitung dengan membagi jumlah nilai dalam kumpulan data dengan jumlah data. Median menunjukkan atau berhubungan dengan suatu nilai atau besaran yang terletak di titik tengah distribusi frekuensi dari nilai atau besaran yang diamati. Modus merupakan nilai yang memiliki frekuensi paling besar yang terdapat pada kumpulan data\n",
      "Rerata : 180921.196, Median : 163000.0, Modus : 140000\n",
      "\n",
      "Nilai yang menyatakan ukuran penyebaran data yaitu simpangan baku (atau dapat juga variansi), interkuartil dan jangkauan.\n",
      "Simpangan baku menyatakan mengukur seberapa jauh setiap nilai dalam sekumpulan data dari rata-ratanya. Interkuartil mengukur penyebaran bagian tengah data, yaitu dari kuartil 1 hingga kuartil 3. Sedangkan jangkauan menyatakan rentang nilai yang terdapat dari kumpulan data.\n",
      "Simpangan baku : 79442.503, Interkuartil : 84025.0, jangkauan : 720100\n"
     ]
    }
   ],
   "source": [
    "# Insight\n",
    "\n",
    "print(\"\\nTerdapat nilai yang menyatakan ukuran pemusatan atau karakteristik dalam sekumpulan data, khususnya modus, median, atau (paling umum) rata-rata.\")\n",
    "print(\"Rerata dihitung dengan membagi jumlah nilai dalam kumpulan data dengan jumlah data. Median menunjukkan atau berhubungan dengan suatu nilai atau besaran yang terletak di titik tengah distribusi frekuensi dari nilai atau besaran yang diamati. Modus merupakan nilai yang memiliki frekuensi paling besar yang terdapat pada kumpulan data\")\n",
    "print(f\"Rerata : {mean}, Median : {med}, Modus : {mod}\")\n",
    "print(\"\\nNilai yang menyatakan ukuran penyebaran data yaitu simpangan baku (atau dapat juga variansi), interkuartil dan jangkauan.\")\n",
    "print(\"Simpangan baku menyatakan mengukur seberapa jauh setiap nilai dalam sekumpulan data dari rata-ratanya. Interkuartil mengukur penyebaran bagian tengah data, yaitu dari kuartil 1 hingga kuartil 3. Sedangkan jangkauan menyatakan rentang nilai yang terdapat dari kumpulan data.\")\n",
    "print(f\"Simpangan baku : {std}, Interkuartil : {iql}, jangkauan : {rng}\")"
   ]
  },
  {
   "cell_type": "markdown",
   "id": "f6f7081f",
   "metadata": {},
   "source": [
    "Berdasarkan ukuran penyebaran data yang telah dilakukan, data `SalePrice` memiliki keberagaman data yang besar, sehingga data `SalePrice` **dimungkinkan memiliki outlier**."
   ]
  },
  {
   "cell_type": "markdown",
   "id": "0c30b441",
   "metadata": {},
   "source": [
    "## No.2\n",
    "\n",
    "Tunjukkan statistika deskriptif untuk variabel harga rumah\n",
    "(Column Name : SalePrice) setiap tahunnya (Column Name :\n",
    "YrSold)!\n",
    "\n",
    "Secara deskriptif jelaskan apakah ada perbedaan setiap\n",
    "tahunnya atau tidak?"
   ]
  },
  {
   "cell_type": "code",
   "execution_count": 7,
   "id": "1a46a4fa",
   "metadata": {
    "scrolled": true
   },
   "outputs": [
    {
     "data": {
      "text/html": [
       "<div>\n",
       "<style scoped>\n",
       "    .dataframe tbody tr th:only-of-type {\n",
       "        vertical-align: middle;\n",
       "    }\n",
       "\n",
       "    .dataframe tbody tr th {\n",
       "        vertical-align: top;\n",
       "    }\n",
       "\n",
       "    .dataframe thead th {\n",
       "        text-align: right;\n",
       "    }\n",
       "</style>\n",
       "<table border=\"1\" class=\"dataframe\">\n",
       "  <thead>\n",
       "    <tr style=\"text-align: right;\">\n",
       "      <th></th>\n",
       "      <th>YrSold</th>\n",
       "      <th>count</th>\n",
       "      <th>mean</th>\n",
       "      <th>std</th>\n",
       "      <th>min</th>\n",
       "      <th>25%</th>\n",
       "      <th>50%</th>\n",
       "      <th>75%</th>\n",
       "      <th>max</th>\n",
       "    </tr>\n",
       "  </thead>\n",
       "  <tbody>\n",
       "    <tr>\n",
       "      <th>0</th>\n",
       "      <td>2006</td>\n",
       "      <td>314.0</td>\n",
       "      <td>182549.458599</td>\n",
       "      <td>79426.838855</td>\n",
       "      <td>35311.0</td>\n",
       "      <td>131375.0</td>\n",
       "      <td>163995.0</td>\n",
       "      <td>218782.5</td>\n",
       "      <td>625000.0</td>\n",
       "    </tr>\n",
       "    <tr>\n",
       "      <th>1</th>\n",
       "      <td>2007</td>\n",
       "      <td>329.0</td>\n",
       "      <td>186063.151976</td>\n",
       "      <td>85768.171410</td>\n",
       "      <td>39300.0</td>\n",
       "      <td>129900.0</td>\n",
       "      <td>167000.0</td>\n",
       "      <td>219500.0</td>\n",
       "      <td>755000.0</td>\n",
       "    </tr>\n",
       "    <tr>\n",
       "      <th>2</th>\n",
       "      <td>2008</td>\n",
       "      <td>304.0</td>\n",
       "      <td>177360.838816</td>\n",
       "      <td>69735.610685</td>\n",
       "      <td>40000.0</td>\n",
       "      <td>131250.0</td>\n",
       "      <td>164000.0</td>\n",
       "      <td>207000.0</td>\n",
       "      <td>446261.0</td>\n",
       "    </tr>\n",
       "    <tr>\n",
       "      <th>3</th>\n",
       "      <td>2009</td>\n",
       "      <td>338.0</td>\n",
       "      <td>179432.103550</td>\n",
       "      <td>80879.237311</td>\n",
       "      <td>34900.0</td>\n",
       "      <td>125250.0</td>\n",
       "      <td>162000.0</td>\n",
       "      <td>212750.0</td>\n",
       "      <td>582933.0</td>\n",
       "    </tr>\n",
       "    <tr>\n",
       "      <th>4</th>\n",
       "      <td>2010</td>\n",
       "      <td>175.0</td>\n",
       "      <td>177393.674286</td>\n",
       "      <td>80451.280085</td>\n",
       "      <td>55000.0</td>\n",
       "      <td>128100.0</td>\n",
       "      <td>155000.0</td>\n",
       "      <td>213250.0</td>\n",
       "      <td>611657.0</td>\n",
       "    </tr>\n",
       "  </tbody>\n",
       "</table>\n",
       "</div>"
      ],
      "text/plain": [
       "   YrSold  count           mean           std      min       25%       50%  \\\n",
       "0    2006  314.0  182549.458599  79426.838855  35311.0  131375.0  163995.0   \n",
       "1    2007  329.0  186063.151976  85768.171410  39300.0  129900.0  167000.0   \n",
       "2    2008  304.0  177360.838816  69735.610685  40000.0  131250.0  164000.0   \n",
       "3    2009  338.0  179432.103550  80879.237311  34900.0  125250.0  162000.0   \n",
       "4    2010  175.0  177393.674286  80451.280085  55000.0  128100.0  155000.0   \n",
       "\n",
       "        75%       max  \n",
       "0  218782.5  625000.0  \n",
       "1  219500.0  755000.0  \n",
       "2  207000.0  446261.0  \n",
       "3  212750.0  582933.0  \n",
       "4  213250.0  611657.0  "
      ]
     },
     "execution_count": 7,
     "metadata": {},
     "output_type": "execute_result"
    }
   ],
   "source": [
    "# Group by dataset by YrSold\n",
    "\n",
    "q = train_df.groupby(['YrSold'])['SalePrice'].describe().reset_index()\n",
    "q"
   ]
  },
  {
   "cell_type": "markdown",
   "id": "3a45f7d5",
   "metadata": {},
   "source": [
    "Insight dari statistik deskriptif yang muncul di atas menunjukkan:\n",
    "\n",
    "1. Jumlah rumah yang terjual pada tiap tahun berubah-ubah dengan tahun 2010 memiliki jumlah rumah yang terjual paling sedikit (175 unit).\n",
    "2. Terdapat hal yang menarik pada data tahun 2007 yaitu di saat harga rumah sangat beragam dan berjauhan (ditinjau dari nilai std), namun jumlah unit yang berhasil terjual berada pada posisi kedua terbanyak setelah tahun 2009 (338 unit).\n",
    "3. Nilai mean tiap tahun berubah-ubah, namun selalu berada di range 170.000 - 189.000 dengan nilai tertinggi berada pada tahun 2006.\n",
    "4. Nilai mean lebih besar dari median pada setiap tahun, maknanya banyak terdapat persebaran harga rumah yang lebih tinggi dari rerata.\n",
    "5. Nilai simpangan baku untuk setiap tahun mememiliki kecenderungan yang serupa (690.000 - 850.000) \n"
   ]
  },
  {
   "cell_type": "markdown",
   "id": "afc706d7",
   "metadata": {},
   "source": [
    "## No.3\n",
    "\n",
    "Bagaimana distribusi harga rumah tersebut. Gunakan histogram plot\n",
    "tidak terbatas hanya histogram saja. Jelaskan sebaiknya untuk\n",
    "analisa apakah lebih baik menggunakan mean atau menggunakan\n",
    "median? Beserta alasannya (Column Name : SalePrice)\n",
    "\n",
    "Ceritakan analisa tersebut dengan sudut pandang statistika. Buatlah\n",
    "tim bisnis paham maksud dari grafik histogram tersebut."
   ]
  },
  {
   "cell_type": "code",
   "execution_count": 8,
   "id": "4aefbdb2",
   "metadata": {},
   "outputs": [
    {
     "data": {
      "image/png": "[encoded data removed]",
      "text/plain": [
       "<Figure size 800x500 with 1 Axes>"
      ]
     },
     "metadata": {},
     "output_type": "display_data"
    }
   ],
   "source": [
    "# Create histogram plot to show distribution of SalePrice\n",
    "\n",
    "plt.figure(figsize = (8,5))\n",
    "sns.histplot(x,label='Sale Price',kde=True, linewidth=0)\n",
    "plt.axvline(x=mean,\n",
    "            color='r',\n",
    "            ls='--', \n",
    "            lw=1,\n",
    "            label='Mean')\n",
    "plt.axvline(x=med,\n",
    "            color='g',\n",
    "            ls='--', \n",
    "            lw=1,\n",
    "            label='Median')\n",
    "plt.axvline(x=x.mode()[0],\n",
    "            color='b',\n",
    "            ls='--', \n",
    "            lw=1,\n",
    "            label='Modus')\n",
    "plt.axvline(x=mx,\n",
    "            color='k',\n",
    "            ls='--', \n",
    "            lw=1,\n",
    "            label='Max Skewed')\n",
    "plt.title('Distribusi Harga Rumah')\n",
    "plt.legend()\n",
    "plt.show()"
   ]
  },
  {
   "cell_type": "code",
   "execution_count": 9,
   "id": "5af8c5e6",
   "metadata": {},
   "outputs": [
    {
     "data": {
      "image/png": "[encoded data removed]",
      "text/plain": [
       "<Figure size 800x500 with 2 Axes>"
      ]
     },
     "metadata": {},
     "output_type": "display_data"
    }
   ],
   "source": [
    "# Create boxplot and violinplot to show outlier data of SalePrice\n",
    "\n",
    "fig, (ax1, ax2) = plt.subplots(nrows=2, ncols=1, sharex=True, figsize=(8,5))\n",
    "sns.boxplot( x=x, data=train_df, ax=ax1);\n",
    "sns.violinplot( x=x, data=train_df, ax=ax2);"
   ]
  },
  {
   "cell_type": "markdown",
   "id": "e03278b9",
   "metadata": {},
   "source": [
    "#### Intepretasi dan analisa hasil grafik:\n",
    "\n",
    "1. Harga rumah dominan (Modus) berada di angka 140.000\n",
    "2. Harga rumah memusat (Mean) di sekitar angka 180.291,2\n",
    "3. Harga rumah dengan titik lokasi tengah data (Median) ada di angka 163.000\n",
    "4. Harga rumah dengan nilai diatas 340.037,5 dapat dianggap sebagai Outlier\n",
    "\n",
    "Sehingga jika divisualkan akan membentuk grafik yang skewed ke kanan (positif) akibat nilai **mean > median**. Dengan ini, sebagai Tim Data Science menganjurkan untuk menganalisis melalui **nilai median** agar representatif dan dapat melalukan pendekatan pada hampir tiap jenis kondisi (mengikuti pedoman '**robust statistics**')"
   ]
  },
  {
   "cell_type": "markdown",
   "id": "614cc21e",
   "metadata": {},
   "source": [
    "## No.4\n",
    "\n",
    "**Karena ada pernyataan bahwa setiap tahunnya harga\n",
    "rumah itu pasti naik.** (tahun terjual : YrSold, harga rumah :\n",
    "SalePrice) Silahkan teman-teman buktikan dengan data yang\n",
    "ada menggunakan ilmu statistika? (Tidak terbatas pada\n",
    "pengujian apapun)"
   ]
  },
  {
   "cell_type": "markdown",
   "id": "9283cc15",
   "metadata": {},
   "source": [
    "Pada data sudah dilakukan pengelompokan berdasarkan tahun (2006 - 2010). Uji hipotesis yang dilakukan yaitu **Analysis of variance (ANOVA)**. \n",
    "\n",
    "ANOVA merupakan pengujian terhadap **keragaman dari \n",
    "beberapa populasi**. Pengujian menggunakan sebaran-F \n",
    "(F-Distribution)"
   ]
  },
  {
   "cell_type": "markdown",
   "id": "a44dde41",
   "metadata": {},
   "source": [
    "The ANOVA test has important assumptions that must be satisfied in order for the associated p-value to be valid.\n",
    "\n",
    "1. The samples are independent.\n",
    "2. Each sample is from a normally distributed population.\n",
    "3. The population standard deviations of the groups are all equal. This property is known as homoscedasticity."
   ]
  },
  {
   "cell_type": "code",
   "execution_count": 10,
   "id": "16837314",
   "metadata": {},
   "outputs": [
    {
     "data": {
      "text/html": [
       "<div>\n",
       "<style scoped>\n",
       "    .dataframe tbody tr th:only-of-type {\n",
       "        vertical-align: middle;\n",
       "    }\n",
       "\n",
       "    .dataframe tbody tr th {\n",
       "        vertical-align: top;\n",
       "    }\n",
       "\n",
       "    .dataframe thead th {\n",
       "        text-align: right;\n",
       "    }\n",
       "</style>\n",
       "<table border=\"1\" class=\"dataframe\">\n",
       "  <thead>\n",
       "    <tr style=\"text-align: right;\">\n",
       "      <th></th>\n",
       "      <th>YrSold</th>\n",
       "      <th>count</th>\n",
       "      <th>mean</th>\n",
       "      <th>std</th>\n",
       "      <th>min</th>\n",
       "      <th>25%</th>\n",
       "      <th>50%</th>\n",
       "      <th>75%</th>\n",
       "      <th>max</th>\n",
       "    </tr>\n",
       "  </thead>\n",
       "  <tbody>\n",
       "    <tr>\n",
       "      <th>0</th>\n",
       "      <td>2006</td>\n",
       "      <td>314.0</td>\n",
       "      <td>182549.458599</td>\n",
       "      <td>79426.838855</td>\n",
       "      <td>35311.0</td>\n",
       "      <td>131375.0</td>\n",
       "      <td>163995.0</td>\n",
       "      <td>218782.5</td>\n",
       "      <td>625000.0</td>\n",
       "    </tr>\n",
       "    <tr>\n",
       "      <th>1</th>\n",
       "      <td>2007</td>\n",
       "      <td>329.0</td>\n",
       "      <td>186063.151976</td>\n",
       "      <td>85768.171410</td>\n",
       "      <td>39300.0</td>\n",
       "      <td>129900.0</td>\n",
       "      <td>167000.0</td>\n",
       "      <td>219500.0</td>\n",
       "      <td>755000.0</td>\n",
       "    </tr>\n",
       "    <tr>\n",
       "      <th>2</th>\n",
       "      <td>2008</td>\n",
       "      <td>304.0</td>\n",
       "      <td>177360.838816</td>\n",
       "      <td>69735.610685</td>\n",
       "      <td>40000.0</td>\n",
       "      <td>131250.0</td>\n",
       "      <td>164000.0</td>\n",
       "      <td>207000.0</td>\n",
       "      <td>446261.0</td>\n",
       "    </tr>\n",
       "    <tr>\n",
       "      <th>3</th>\n",
       "      <td>2009</td>\n",
       "      <td>338.0</td>\n",
       "      <td>179432.103550</td>\n",
       "      <td>80879.237311</td>\n",
       "      <td>34900.0</td>\n",
       "      <td>125250.0</td>\n",
       "      <td>162000.0</td>\n",
       "      <td>212750.0</td>\n",
       "      <td>582933.0</td>\n",
       "    </tr>\n",
       "    <tr>\n",
       "      <th>4</th>\n",
       "      <td>2010</td>\n",
       "      <td>175.0</td>\n",
       "      <td>177393.674286</td>\n",
       "      <td>80451.280085</td>\n",
       "      <td>55000.0</td>\n",
       "      <td>128100.0</td>\n",
       "      <td>155000.0</td>\n",
       "      <td>213250.0</td>\n",
       "      <td>611657.0</td>\n",
       "    </tr>\n",
       "  </tbody>\n",
       "</table>\n",
       "</div>"
      ],
      "text/plain": [
       "   YrSold  count           mean           std      min       25%       50%  \\\n",
       "0    2006  314.0  182549.458599  79426.838855  35311.0  131375.0  163995.0   \n",
       "1    2007  329.0  186063.151976  85768.171410  39300.0  129900.0  167000.0   \n",
       "2    2008  304.0  177360.838816  69735.610685  40000.0  131250.0  164000.0   \n",
       "3    2009  338.0  179432.103550  80879.237311  34900.0  125250.0  162000.0   \n",
       "4    2010  175.0  177393.674286  80451.280085  55000.0  128100.0  155000.0   \n",
       "\n",
       "        75%       max  \n",
       "0  218782.5  625000.0  \n",
       "1  219500.0  755000.0  \n",
       "2  207000.0  446261.0  \n",
       "3  212750.0  582933.0  \n",
       "4  213250.0  611657.0  "
      ]
     },
     "execution_count": 10,
     "metadata": {},
     "output_type": "execute_result"
    }
   ],
   "source": [
    "q"
   ]
  },
  {
   "cell_type": "markdown",
   "id": "58718eac",
   "metadata": {},
   "source": [
    "Pada soal ini akan diuji sebuah hipotesis null **(H0)** yaitu **\"Setiap tahunnya harga rumah itu tidak berubah\"** dengan **nilai rerata** setiap populasi adalah **sama**. Hipotesis null akan diuji dengan nilai **p-value** dari uji ANOVA. Jika nilai p-value ≥ daripada batas yang diberikan maka kesimpulan yang dapat diambil **Tidak terdapat cukup bukti untuk menolak H0**.\n",
    "\n",
    "Hipotesis yang berkebalikan dengan H0 disebut **H1** yaitu **\"Setiap tahunnya harga rumah itu berubah (tidak dapat dipastikan naik/turun)\"** seperti yang diminta oleh soal."
   ]
  },
  {
   "cell_type": "code",
   "execution_count": 11,
   "id": "c21f8587",
   "metadata": {},
   "outputs": [],
   "source": [
    "# Create dataset by YrSold\n",
    "    \n",
    "df_2006 = train_df[train_df.YrSold == 2006]['SalePrice']\n",
    "df_2007 = train_df[train_df.YrSold == 2007]['SalePrice']\n",
    "df_2008 = train_df[train_df.YrSold == 2008]['SalePrice']\n",
    "df_2009 = train_df[train_df.YrSold == 2009]['SalePrice']\n",
    "df_2010 = train_df[train_df.YrSold == 2010]['SalePrice']"
   ]
  },
  {
   "cell_type": "code",
   "execution_count": 12,
   "id": "1c82dd2f",
   "metadata": {},
   "outputs": [
    {
     "name": "stdout",
     "output_type": "stream",
     "text": [
      "stat : 0.6455252211679311 and p_value : 0.6300887663573457\n",
      "Insufficient Reject H0\n"
     ]
    }
   ],
   "source": [
    "# Test H0 ANOVA\n",
    "\n",
    "statistic, p_value = st.f_oneway(df_2006, df_2007, df_2008, df_2009, df_2010, axis=0)\n",
    "\n",
    "print('stat :',statistic,'and p_value :',p_value)\n",
    "\n",
    "if p_value >= 0.05:\n",
    "    print('Insufficient Reject H0')\n",
    "else:\n",
    "    print('Sufficient Reject H0')"
   ]
  },
  {
   "cell_type": "markdown",
   "id": "5a7fcbc6",
   "metadata": {},
   "source": [
    "Hasil uji hipotesis menunjukkan bahwa p-value > alpha, maka kita akan mengambil keputusan bahwa tidak ada perbedaan signifikan antara harga rumah untuk setiap tahunnya.\n",
    "\n",
    "Kesimpulan yang dapat diambil **Menerima H0** atau **Setiap tahunnya harga rumah itu tidak berubah**."
   ]
  },
  {
   "cell_type": "markdown",
   "id": "ad632eb1",
   "metadata": {},
   "source": [
    "# Advanced\n",
    "\n",
    "## No.5\n",
    "\n",
    "Kasus yang akan digunakan adalah **membuka akun deposit untuk\n",
    "nasabah bank**. Pada kesempatan kali ini data scientist diminta tolong\n",
    "untuk menganalisa hasil ab-testing suatu perusahaan bank. Apakah\n",
    "**jumlah campaign** mampu meningkatkan keinginan user untuk\n",
    "**membuka akun deposit** atau tidak?"
   ]
  },
  {
   "cell_type": "code",
   "execution_count": 13,
   "id": "80baf1b3",
   "metadata": {},
   "outputs": [
    {
     "name": "stdout",
     "output_type": "stream",
     "text": [
      "Shape of train data: (45211, 17)\n"
     ]
    },
    {
     "data": {
      "text/html": [
       "<div>\n",
       "<style scoped>\n",
       "    .dataframe tbody tr th:only-of-type {\n",
       "        vertical-align: middle;\n",
       "    }\n",
       "\n",
       "    .dataframe tbody tr th {\n",
       "        vertical-align: top;\n",
       "    }\n",
       "\n",
       "    .dataframe thead th {\n",
       "        text-align: right;\n",
       "    }\n",
       "</style>\n",
       "<table border=\"1\" class=\"dataframe\">\n",
       "  <thead>\n",
       "    <tr style=\"text-align: right;\">\n",
       "      <th></th>\n",
       "      <th>age</th>\n",
       "      <th>job</th>\n",
       "      <th>marital</th>\n",
       "      <th>education</th>\n",
       "      <th>default</th>\n",
       "      <th>balance</th>\n",
       "      <th>housing</th>\n",
       "      <th>loan</th>\n",
       "      <th>contact</th>\n",
       "      <th>day</th>\n",
       "      <th>month</th>\n",
       "      <th>duration</th>\n",
       "      <th>campaign</th>\n",
       "      <th>pdays</th>\n",
       "      <th>previous</th>\n",
       "      <th>poutcome</th>\n",
       "      <th>y</th>\n",
       "    </tr>\n",
       "  </thead>\n",
       "  <tbody>\n",
       "    <tr>\n",
       "      <th>0</th>\n",
       "      <td>58</td>\n",
       "      <td>management</td>\n",
       "      <td>married</td>\n",
       "      <td>tertiary</td>\n",
       "      <td>no</td>\n",
       "      <td>2143</td>\n",
       "      <td>yes</td>\n",
       "      <td>no</td>\n",
       "      <td>unknown</td>\n",
       "      <td>5</td>\n",
       "      <td>may</td>\n",
       "      <td>261</td>\n",
       "      <td>1</td>\n",
       "      <td>-1</td>\n",
       "      <td>0</td>\n",
       "      <td>unknown</td>\n",
       "      <td>no</td>\n",
       "    </tr>\n",
       "    <tr>\n",
       "      <th>1</th>\n",
       "      <td>44</td>\n",
       "      <td>technician</td>\n",
       "      <td>single</td>\n",
       "      <td>secondary</td>\n",
       "      <td>no</td>\n",
       "      <td>29</td>\n",
       "      <td>yes</td>\n",
       "      <td>no</td>\n",
       "      <td>unknown</td>\n",
       "      <td>5</td>\n",
       "      <td>may</td>\n",
       "      <td>151</td>\n",
       "      <td>1</td>\n",
       "      <td>-1</td>\n",
       "      <td>0</td>\n",
       "      <td>unknown</td>\n",
       "      <td>no</td>\n",
       "    </tr>\n",
       "    <tr>\n",
       "      <th>2</th>\n",
       "      <td>33</td>\n",
       "      <td>entrepreneur</td>\n",
       "      <td>married</td>\n",
       "      <td>secondary</td>\n",
       "      <td>no</td>\n",
       "      <td>2</td>\n",
       "      <td>yes</td>\n",
       "      <td>yes</td>\n",
       "      <td>unknown</td>\n",
       "      <td>5</td>\n",
       "      <td>may</td>\n",
       "      <td>76</td>\n",
       "      <td>1</td>\n",
       "      <td>-1</td>\n",
       "      <td>0</td>\n",
       "      <td>unknown</td>\n",
       "      <td>no</td>\n",
       "    </tr>\n",
       "    <tr>\n",
       "      <th>3</th>\n",
       "      <td>47</td>\n",
       "      <td>blue-collar</td>\n",
       "      <td>married</td>\n",
       "      <td>unknown</td>\n",
       "      <td>no</td>\n",
       "      <td>1506</td>\n",
       "      <td>yes</td>\n",
       "      <td>no</td>\n",
       "      <td>unknown</td>\n",
       "      <td>5</td>\n",
       "      <td>may</td>\n",
       "      <td>92</td>\n",
       "      <td>1</td>\n",
       "      <td>-1</td>\n",
       "      <td>0</td>\n",
       "      <td>unknown</td>\n",
       "      <td>no</td>\n",
       "    </tr>\n",
       "    <tr>\n",
       "      <th>4</th>\n",
       "      <td>33</td>\n",
       "      <td>unknown</td>\n",
       "      <td>single</td>\n",
       "      <td>unknown</td>\n",
       "      <td>no</td>\n",
       "      <td>1</td>\n",
       "      <td>no</td>\n",
       "      <td>no</td>\n",
       "      <td>unknown</td>\n",
       "      <td>5</td>\n",
       "      <td>may</td>\n",
       "      <td>198</td>\n",
       "      <td>1</td>\n",
       "      <td>-1</td>\n",
       "      <td>0</td>\n",
       "      <td>unknown</td>\n",
       "      <td>no</td>\n",
       "    </tr>\n",
       "  </tbody>\n",
       "</table>\n",
       "</div>"
      ],
      "text/plain": [
       "   age           job  marital  education default  balance housing loan  \\\n",
       "0   58    management  married   tertiary      no     2143     yes   no   \n",
       "1   44    technician   single  secondary      no       29     yes   no   \n",
       "2   33  entrepreneur  married  secondary      no        2     yes  yes   \n",
       "3   47   blue-collar  married    unknown      no     1506     yes   no   \n",
       "4   33       unknown   single    unknown      no        1      no   no   \n",
       "\n",
       "   contact  day month  duration  campaign  pdays  previous poutcome   y  \n",
       "0  unknown    5   may       261         1     -1         0  unknown  no  \n",
       "1  unknown    5   may       151         1     -1         0  unknown  no  \n",
       "2  unknown    5   may        76         1     -1         0  unknown  no  \n",
       "3  unknown    5   may        92         1     -1         0  unknown  no  \n",
       "4  unknown    5   may       198         1     -1         0  unknown  no  "
      ]
     },
     "execution_count": 13,
     "metadata": {},
     "output_type": "execute_result"
    }
   ],
   "source": [
    "# Read dataset\n",
    "\n",
    "r = r'bank\\bank-full.csv'\n",
    "\n",
    "df = pd.read_csv(r, sep = ';')\n",
    "\n",
    "print(f'Shape of train data: {df.shape}')\n",
    "\n",
    "df.head()"
   ]
  },
  {
   "cell_type": "code",
   "execution_count": 14,
   "id": "2896a15b",
   "metadata": {},
   "outputs": [
    {
     "data": {
      "text/plain": [
       "False"
      ]
     },
     "execution_count": 14,
     "metadata": {},
     "output_type": "execute_result"
    }
   ],
   "source": [
    "# Check duplicated data\n",
    "\n",
    "df.duplicated().any()"
   ]
  },
  {
   "cell_type": "markdown",
   "id": "a895ea23",
   "metadata": {},
   "source": [
    "### Pemahaman konsep A/B Testing\n",
    "\n",
    "**A. Apa nama experimentnya?** <br />\n",
    "Pengaruh jumlah campaign terhadap peningkatan jumlah user yang membuka akun deposit.\n",
    "\n",
    "**B. Definisikan Hipotesis** <br />\n",
    "Jika semakin banyak campaign yang telah dibuat, maka nasabah yang membuka akun deposit akan semakin banyak (Conversion rate meningkat).\n",
    "\n",
    "**C. Siapa participant-nya?** <br />\n",
    "Nasabah Bank yang akan dipilih secara acak.\n",
    "\n",
    "**D. Variabel yang akan diuji apa?** <br />\n",
    "Jumlah campaign yang dilakukan.\n",
    "\n",
    "**E. Metrics apa yang akan digunakan?** <br />\n",
    "Macroconversion: Conversion rate; seberapa efektif jumlah campaign agar sukses mengajak nasabah membuka akun deposit.\n",
    "\n",
    "**F. Berapa sample size dan durasi experiment?** <br />\n",
    "Dapat dilakukan dengan metode Slovin. <br />\n",
    "Pada dataset terdapat 45.211 set data, jika nilai batas kesalahan yang diinginkan 5% maka sampel dapat dihitung sebagai berikut"
   ]
  },
  {
   "cell_type": "code",
   "execution_count": 15,
   "id": "af4d918c",
   "metadata": {},
   "outputs": [
    {
     "name": "stdout",
     "output_type": "stream",
     "text": [
      "Jumlah data yang digunakan sebagai sample yaitu 396\n"
     ]
    }
   ],
   "source": [
    "N = df.shape[0]\n",
    "e = 0.05\n",
    "\n",
    "sm = N/(1+N*e**2) #Slovin method\n",
    "print(f\"Jumlah data yang digunakan sebagai sample yaitu {int(sm)}\")"
   ]
  },
  {
   "cell_type": "markdown",
   "id": "d493e73b",
   "metadata": {},
   "source": [
    "Durasi experiment ditentukan juga berdasarkan ukuran sampel dan sifat dari nasabah (misal: Pada hari minggu, nasabah sedang libur sehingga tidak melihat campaign). Dalam masa pengujian A/B testing juga dianalisa setiap hari agar didapatkan jumlah sampel yang sesuai, sehingga hasil yang akan didapat akan lebih representatif.\n",
    "\n",
    "Dengan durasi experiment yang disarankan yaitu selama 1 - 2 minggu. dengan durasi maksimal 4 minggu."
   ]
  },
  {
   "cell_type": "markdown",
   "id": "e6ea84fb",
   "metadata": {},
   "source": [
    "### Pengujian Hipotesis\n",
    "\n",
    "**A. Penentuan hipotesis** <br />\n",
    "H0 = Banyaknya campaign yang dilakukan tidak berpengaruh terhadap jumlah akun yang dibuat setelah campaign. <br />\n",
    "H1 = Banyaknya campaign yang dilakukan berpengaruh terhadap jumlah akun yang dibuat setelah campaign.\n",
    "\n",
    "**B. Pengujian yang digunakan** <br />\n",
    "Metode pengujian yang dilakukan yaitu dengan T-Test.\n",
    "\n",
    "**C. Deteksi asumsi beserta cara penanganannya** <br />\n",
    "T-Test merupakan pengujian untuk rata-rata sample menggunakan sebaran-t (t-distribution). Uji T-Test biasa digunakan untuk membandingkan rata-rata 2 populasi. <br />\n",
    "\n",
    "Assumption :\n",
    "- Sample is normal distribution\n",
    "- Or Huge Number of Sample (Central Limit Theorem)\n",
    "\n",
    "Pada kasus ini kolom y merepresentasikan hasil user yang membuka akun deposit setelah campaign, kolom y  merupakan data kategorikal dengan 2 nilai populasi yaitu `yes` yang berarti sukses mangajak nasabah membuka akun dan `no` dengan arti sebaliknya. <br />\n",
    "\n",
    "Penanganan asumsi dapat dilakukan dengan melihat **distribusi user untuk setiap campaign melalui grafik**."
   ]
  },
  {
   "cell_type": "markdown",
   "id": "1061949f",
   "metadata": {},
   "source": [
    "### Data Visualization"
   ]
  },
  {
   "cell_type": "code",
   "execution_count": 16,
   "id": "9e2979f7",
   "metadata": {},
   "outputs": [
    {
     "data": {
      "text/html": [
       "<div>\n",
       "<style scoped>\n",
       "    .dataframe tbody tr th:only-of-type {\n",
       "        vertical-align: middle;\n",
       "    }\n",
       "\n",
       "    .dataframe tbody tr th {\n",
       "        vertical-align: top;\n",
       "    }\n",
       "\n",
       "    .dataframe thead tr th {\n",
       "        text-align: left;\n",
       "    }\n",
       "</style>\n",
       "<table border=\"1\" class=\"dataframe\">\n",
       "  <thead>\n",
       "    <tr>\n",
       "      <th></th>\n",
       "      <th>y</th>\n",
       "      <th colspan=\"8\" halign=\"left\">campaign</th>\n",
       "    </tr>\n",
       "    <tr>\n",
       "      <th></th>\n",
       "      <th></th>\n",
       "      <th>count</th>\n",
       "      <th>mean</th>\n",
       "      <th>std</th>\n",
       "      <th>min</th>\n",
       "      <th>25%</th>\n",
       "      <th>50%</th>\n",
       "      <th>75%</th>\n",
       "      <th>max</th>\n",
       "    </tr>\n",
       "  </thead>\n",
       "  <tbody>\n",
       "    <tr>\n",
       "      <th>0</th>\n",
       "      <td>no</td>\n",
       "      <td>39922.0</td>\n",
       "      <td>2.846350</td>\n",
       "      <td>3.212767</td>\n",
       "      <td>1.0</td>\n",
       "      <td>1.0</td>\n",
       "      <td>2.0</td>\n",
       "      <td>3.0</td>\n",
       "      <td>63.0</td>\n",
       "    </tr>\n",
       "    <tr>\n",
       "      <th>1</th>\n",
       "      <td>yes</td>\n",
       "      <td>5289.0</td>\n",
       "      <td>2.141047</td>\n",
       "      <td>1.921826</td>\n",
       "      <td>1.0</td>\n",
       "      <td>1.0</td>\n",
       "      <td>2.0</td>\n",
       "      <td>3.0</td>\n",
       "      <td>32.0</td>\n",
       "    </tr>\n",
       "  </tbody>\n",
       "</table>\n",
       "</div>"
      ],
      "text/plain": [
       "     y campaign                                              \n",
       "          count      mean       std  min  25%  50%  75%   max\n",
       "0   no  39922.0  2.846350  3.212767  1.0  1.0  2.0  3.0  63.0\n",
       "1  yes   5289.0  2.141047  1.921826  1.0  1.0  2.0  3.0  32.0"
      ]
     },
     "execution_count": 16,
     "metadata": {},
     "output_type": "execute_result"
    }
   ],
   "source": [
    "# Distribution of users who voted yes and no after the campaign\n",
    "\n",
    "p = df.groupby(['y']).describe().reset_index()\n",
    "\n",
    "p[['y','campaign']]"
   ]
  },
  {
   "cell_type": "code",
   "execution_count": 17,
   "id": "0bd9a016",
   "metadata": {},
   "outputs": [
    {
     "data": {
      "image/png": "[encoded data removed]",
      "text/plain": [
       "<Figure size 640x480 with 1 Axes>"
      ]
     },
     "metadata": {},
     "output_type": "display_data"
    }
   ],
   "source": [
    "# Histogram plot\n",
    "\n",
    "sns.histplot(df.y, linewidth=2, discrete=True, stat='percent')\n",
    "\n",
    "plt.title('Distribusi jumlah user pada akhir campaign')\n",
    "plt.show()"
   ]
  },
  {
   "cell_type": "code",
   "execution_count": 18,
   "id": "5f01c030",
   "metadata": {},
   "outputs": [
    {
     "data": {
      "image/png": "[encoded data removed]",
      "text/plain": [
       "<Figure size 640x480 with 1 Axes>"
      ]
     },
     "metadata": {},
     "output_type": "display_data"
    }
   ],
   "source": [
    "# Distribution of users who voted yes and no during the campaign\n",
    "\n",
    "yes = df[df.y == 'yes']\n",
    "no = df[df.y == 'no']\n",
    "\n",
    "sns.kdeplot(yes.campaign, label='Yes')\n",
    "sns.kdeplot(no.campaign, label='No')\n",
    "\n",
    "plt.title('Distribusi jumlah user selama masa campaign')\n",
    "plt.xlim(0, 15)\n",
    "plt.legend()\n",
    "plt.show()"
   ]
  },
  {
   "cell_type": "markdown",
   "id": "b6f033e6",
   "metadata": {},
   "source": [
    "Berdasarkan grafik kde yang didapat bahwa pada **awal campaign** beberapa customer **banyak yang tertarik** untuk membuka akun deposit baru, namun pada campaign berikutnya minat customer **cenderung menurun** hingga campaign ke 15.  "
   ]
  },
  {
   "cell_type": "markdown",
   "id": "23539a42",
   "metadata": {},
   "source": [
    "### Hasil Pengujian Hipotesis"
   ]
  },
  {
   "cell_type": "code",
   "execution_count": 19,
   "id": "b1313880",
   "metadata": {},
   "outputs": [
    {
     "name": "stdout",
     "output_type": "stream",
     "text": [
      "stat : -15.599948860003783 and p_value : 1.0123473642096295e-54\n",
      "Sufficient Reject H0\n"
     ]
    }
   ],
   "source": [
    "# Test H0 T-Test\n",
    "\n",
    "statistic, p_value = st.ttest_ind(a = yes.campaign, b=no.campaign)\n",
    "\n",
    "print('stat :',statistic,'and p_value :',p_value)\n",
    "\n",
    "if p_value >= 0.05:\n",
    "    print('Insufficient Reject H0')\n",
    "else:\n",
    "    print('Sufficient Reject H0')"
   ]
  },
  {
   "cell_type": "code",
   "execution_count": 20,
   "id": "00150e1e",
   "metadata": {},
   "outputs": [
    {
     "name": "stdout",
     "output_type": "stream",
     "text": [
      "stat : 90300543.5 and p_value : 1.9484904873905108e-71\n",
      "Sufficient Reject H0\n"
     ]
    }
   ],
   "source": [
    "# Hypothesis Testing using chi-square\n",
    "stat, p_value= st.mannwhitneyu(yes['campaign'],no['campaign'])\n",
    "\n",
    "print('stat :',stat,'and p_value :',p_value)\n",
    "\n",
    "if p_value >= 0.05:\n",
    "    print('Insufficient Reject H0')\n",
    "else:\n",
    "    print('Sufficient Reject H0')"
   ]
  },
  {
   "cell_type": "markdown",
   "id": "7263d53f",
   "metadata": {},
   "source": [
    "### Kesimpulan dan interpretasi\n",
    "\n",
    "Berdasarkan hasil pengujian T-Test didapatkan hasil p-value < 0.05 kesimpulan yang dapat diambil **Terdapat cukup bukti untuk menolak H0** atau **banyaknya campaign yang dilakukan berpengaruh terhadap jumlah akun yang dibuat setelah campaign**.\n",
    "\n",
    "Jika dilihat dari data rerata user yang memilih `yes` lebih kecil daripada user yang memilih `no`, sehingga juga dapat diambil kesimpulan **Campaign yang berulang akan cenderung menurunkan minat user untuk membuat akun baru**.  "
   ]
  }
 ],
 "metadata": {
  "kernelspec": {
   "display_name": "Python 3 (ipykernel)",
   "language": "python",
   "name": "python3"
  },
  "language_info": {
   "codemirror_mode": {
    "name": "ipython",
    "version": 3
   },
   "file_extension": ".py",
   "mimetype": "text/x-python",
   "name": "python",
   "nbconvert_exporter": "python",
   "pygments_lexer": "ipython3",
   "version": "3.9.16"
  }
 },
 "nbformat": 4,
 "nbformat_minor": 5
}
