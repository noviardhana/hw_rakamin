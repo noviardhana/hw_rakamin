{
 "cells": [
  {
   "cell_type": "markdown",
   "metadata": {},
   "source": [
    "# Background\n",
    "\n",
    "Homework yang diberikan terdapat 2 Tipe soal :\n",
    "1. Basic (4 soal)\n",
    "2. Advanced (1 soal)\n",
    "\n",
    "Homework ini diharapkan mampu memperkuat kembali materi statistika dimulai dari statistika deskriptif, distribusi statistik, pengujian hipotesis, hingga penerapan AB Testing untuk mengetahui hubungan sebab akibat dari suatu kejadian.\n",
    "\n",
    "Selamat mengerjakan ^^\n",
    "\n",
    "Daftar Isi :\n",
    "1. [Persiapan Library](#first-bullet)\n",
    "2. [Soal 1](#soal1)\n",
    "3. [Soal 2](#soal2)\n",
    "4. [Soal 3](#soal3)\n",
    "5. [Soal 4](#soal4)\n",
    "6. [Soal 5](#soal5)"
   ]
  },
  {
   "cell_type": "markdown",
   "metadata": {},
   "source": [
    "# 0. Persiapan Library<a class=\"anchor\" id=\"first-bullet\"></a>"
   ]
  },
  {
   "cell_type": "markdown",
   "metadata": {},
   "source": [
    "Di sini teman-teman bisa mempersiapkan library yang dibutuhkan untuk melakukan analisa."
   ]
  },
  {
   "cell_type": "code",
   "execution_count": 2,
   "metadata": {
    "id": "v5Q6evJVmiHO"
   },
   "outputs": [],
   "source": [
    "## Pandas dan Numpy\n",
    "import pandas as pd\n",
    "import numpy as np\n",
    "\n",
    "# Visualization Library\n",
    "import matplotlib.pyplot as plt\n",
    "import seaborn as sns\n",
    "import scipy.stats as st\n",
    "from scipy.stats import chi2_contingency\n",
    "import numpy as np"
   ]
  },
  {
   "cell_type": "markdown",
   "metadata": {
    "id": "kwl9bOslmiHQ"
   },
   "source": [
    "# Soal 1 <a class=\"anchor\" id=\"soal1\"></a>\n",
    "Tunjukkan statistika deskriptif untuk variabel harga rumah (Column Name : SalePrice)! \n",
    "\n",
    "Ceritakan kepada tim bisnis apa makna dari nilai-nilai tersebut!\n",
    "## Ekspektasi output : \n",
    "* ukuran pemusatan\n",
    "* ukuran penyebaran\n",
    "* interpretasi"
   ]
  },
  {
   "cell_type": "code",
   "execution_count": 3,
   "metadata": {
    "id": "tQqWfElXmiHP",
    "outputId": "1966dd2d-3c4e-4496-d93c-845bd1ab5cfb"
   },
   "outputs": [
    {
     "data": {
      "text/html": [
       "<div>\n",
       "<style scoped>\n",
       "    .dataframe tbody tr th:only-of-type {\n",
       "        vertical-align: middle;\n",
       "    }\n",
       "\n",
       "    .dataframe tbody tr th {\n",
       "        vertical-align: top;\n",
       "    }\n",
       "\n",
       "    .dataframe thead th {\n",
       "        text-align: right;\n",
       "    }\n",
       "</style>\n",
       "<table border=\"1\" class=\"dataframe\">\n",
       "  <thead>\n",
       "    <tr style=\"text-align: right;\">\n",
       "      <th></th>\n",
       "      <th>Id</th>\n",
       "      <th>MSSubClass</th>\n",
       "      <th>MSZoning</th>\n",
       "      <th>LotFrontage</th>\n",
       "      <th>LotArea</th>\n",
       "      <th>Street</th>\n",
       "      <th>Alley</th>\n",
       "      <th>LotShape</th>\n",
       "      <th>LandContour</th>\n",
       "      <th>Utilities</th>\n",
       "      <th>...</th>\n",
       "      <th>PoolArea</th>\n",
       "      <th>PoolQC</th>\n",
       "      <th>Fence</th>\n",
       "      <th>MiscFeature</th>\n",
       "      <th>MiscVal</th>\n",
       "      <th>MoSold</th>\n",
       "      <th>YrSold</th>\n",
       "      <th>SaleType</th>\n",
       "      <th>SaleCondition</th>\n",
       "      <th>SalePrice</th>\n",
       "    </tr>\n",
       "  </thead>\n",
       "  <tbody>\n",
       "    <tr>\n",
       "      <th>0</th>\n",
       "      <td>1</td>\n",
       "      <td>60</td>\n",
       "      <td>RL</td>\n",
       "      <td>65.0</td>\n",
       "      <td>8450</td>\n",
       "      <td>Pave</td>\n",
       "      <td>NaN</td>\n",
       "      <td>Reg</td>\n",
       "      <td>Lvl</td>\n",
       "      <td>AllPub</td>\n",
       "      <td>...</td>\n",
       "      <td>0</td>\n",
       "      <td>NaN</td>\n",
       "      <td>NaN</td>\n",
       "      <td>NaN</td>\n",
       "      <td>0</td>\n",
       "      <td>2</td>\n",
       "      <td>2008</td>\n",
       "      <td>WD</td>\n",
       "      <td>Normal</td>\n",
       "      <td>208500</td>\n",
       "    </tr>\n",
       "    <tr>\n",
       "      <th>1</th>\n",
       "      <td>2</td>\n",
       "      <td>20</td>\n",
       "      <td>RL</td>\n",
       "      <td>80.0</td>\n",
       "      <td>9600</td>\n",
       "      <td>Pave</td>\n",
       "      <td>NaN</td>\n",
       "      <td>Reg</td>\n",
       "      <td>Lvl</td>\n",
       "      <td>AllPub</td>\n",
       "      <td>...</td>\n",
       "      <td>0</td>\n",
       "      <td>NaN</td>\n",
       "      <td>NaN</td>\n",
       "      <td>NaN</td>\n",
       "      <td>0</td>\n",
       "      <td>5</td>\n",
       "      <td>2007</td>\n",
       "      <td>WD</td>\n",
       "      <td>Normal</td>\n",
       "      <td>181500</td>\n",
       "    </tr>\n",
       "    <tr>\n",
       "      <th>2</th>\n",
       "      <td>3</td>\n",
       "      <td>60</td>\n",
       "      <td>RL</td>\n",
       "      <td>68.0</td>\n",
       "      <td>11250</td>\n",
       "      <td>Pave</td>\n",
       "      <td>NaN</td>\n",
       "      <td>IR1</td>\n",
       "      <td>Lvl</td>\n",
       "      <td>AllPub</td>\n",
       "      <td>...</td>\n",
       "      <td>0</td>\n",
       "      <td>NaN</td>\n",
       "      <td>NaN</td>\n",
       "      <td>NaN</td>\n",
       "      <td>0</td>\n",
       "      <td>9</td>\n",
       "      <td>2008</td>\n",
       "      <td>WD</td>\n",
       "      <td>Normal</td>\n",
       "      <td>223500</td>\n",
       "    </tr>\n",
       "    <tr>\n",
       "      <th>3</th>\n",
       "      <td>4</td>\n",
       "      <td>70</td>\n",
       "      <td>RL</td>\n",
       "      <td>60.0</td>\n",
       "      <td>9550</td>\n",
       "      <td>Pave</td>\n",
       "      <td>NaN</td>\n",
       "      <td>IR1</td>\n",
       "      <td>Lvl</td>\n",
       "      <td>AllPub</td>\n",
       "      <td>...</td>\n",
       "      <td>0</td>\n",
       "      <td>NaN</td>\n",
       "      <td>NaN</td>\n",
       "      <td>NaN</td>\n",
       "      <td>0</td>\n",
       "      <td>2</td>\n",
       "      <td>2006</td>\n",
       "      <td>WD</td>\n",
       "      <td>Abnorml</td>\n",
       "      <td>140000</td>\n",
       "    </tr>\n",
       "    <tr>\n",
       "      <th>4</th>\n",
       "      <td>5</td>\n",
       "      <td>60</td>\n",
       "      <td>RL</td>\n",
       "      <td>84.0</td>\n",
       "      <td>14260</td>\n",
       "      <td>Pave</td>\n",
       "      <td>NaN</td>\n",
       "      <td>IR1</td>\n",
       "      <td>Lvl</td>\n",
       "      <td>AllPub</td>\n",
       "      <td>...</td>\n",
       "      <td>0</td>\n",
       "      <td>NaN</td>\n",
       "      <td>NaN</td>\n",
       "      <td>NaN</td>\n",
       "      <td>0</td>\n",
       "      <td>12</td>\n",
       "      <td>2008</td>\n",
       "      <td>WD</td>\n",
       "      <td>Normal</td>\n",
       "      <td>250000</td>\n",
       "    </tr>\n",
       "  </tbody>\n",
       "</table>\n",
       "<p>5 rows × 81 columns</p>\n",
       "</div>"
      ],
      "text/plain": [
       "   Id  MSSubClass MSZoning  LotFrontage  LotArea Street Alley LotShape  \\\n",
       "0   1          60       RL         65.0     8450   Pave   NaN      Reg   \n",
       "1   2          20       RL         80.0     9600   Pave   NaN      Reg   \n",
       "2   3          60       RL         68.0    11250   Pave   NaN      IR1   \n",
       "3   4          70       RL         60.0     9550   Pave   NaN      IR1   \n",
       "4   5          60       RL         84.0    14260   Pave   NaN      IR1   \n",
       "\n",
       "  LandContour Utilities  ... PoolArea PoolQC Fence MiscFeature MiscVal MoSold  \\\n",
       "0         Lvl    AllPub  ...        0    NaN   NaN         NaN       0      2   \n",
       "1         Lvl    AllPub  ...        0    NaN   NaN         NaN       0      5   \n",
       "2         Lvl    AllPub  ...        0    NaN   NaN         NaN       0      9   \n",
       "3         Lvl    AllPub  ...        0    NaN   NaN         NaN       0      2   \n",
       "4         Lvl    AllPub  ...        0    NaN   NaN         NaN       0     12   \n",
       "\n",
       "  YrSold  SaleType  SaleCondition  SalePrice  \n",
       "0   2008        WD         Normal     208500  \n",
       "1   2007        WD         Normal     181500  \n",
       "2   2008        WD         Normal     223500  \n",
       "3   2006        WD        Abnorml     140000  \n",
       "4   2008        WD         Normal     250000  \n",
       "\n",
       "[5 rows x 81 columns]"
      ]
     },
     "execution_count": 3,
     "metadata": {},
     "output_type": "execute_result"
    }
   ],
   "source": [
    "data = pd.read_csv('train.csv')\n",
    "data.head()"
   ]
  },
  {
   "cell_type": "markdown",
   "metadata": {
    "id": "fPRr9UT2miHQ"
   },
   "source": [
    "### Ukuran Pemusatan"
   ]
  },
  {
   "cell_type": "code",
   "execution_count": 6,
   "metadata": {
    "id": "Xr4RFr6_miHQ",
    "outputId": "9f74ce3f-6adb-459e-9652-8dfc6d422a82"
   },
   "outputs": [
    {
     "name": "stdout",
     "output_type": "stream",
     "text": [
      "modus: 140000\n",
      "median (50%): 163000.0\n",
      "mean: 180921.19589041095\n",
      "Q1 (25%): 129975.0\n",
      "Q3 (75%): 214000.0\n"
     ]
    }
   ],
   "source": [
    "print('modus:',data['SalePrice'].mode()[0])\n",
    "print('median (50%):',data['SalePrice'].median())\n",
    "print('mean:',data['SalePrice'].mean())\n",
    "print('Q1 (25%):',data['SalePrice'].quantile(0.25))\n",
    "print('Q3 (75%):',data['SalePrice'].quantile(0.75))"
   ]
  },
  {
   "cell_type": "markdown",
   "metadata": {
    "id": "YLpk_RcLmiHS"
   },
   "source": [
    "- Modus: Mayoritas harga rumah ada di angka 140,000\\$\n",
    "- Rata-rata: Harga 1 rumah berkisar di angka 180,921\\$\n",
    "- Median: 50% harga rumah berada di bawah 163,000\\$ (bisa berlaku sebaliknya)\n",
    "- Q1: 25% harga rumah berada di bawah 129,975\\$\n",
    "- Q3: 25% harga rumah berada di atas 214,000\\$"
   ]
  },
  {
   "cell_type": "markdown",
   "metadata": {
    "id": "4Dj29qKXmiHR"
   },
   "source": [
    "### Ukuran Penyebaran"
   ]
  },
  {
   "cell_type": "code",
   "execution_count": 8,
   "metadata": {
    "id": "TQwXg_fUmiHR",
    "outputId": "3f327d6c-4da9-4d30-d6c2-aff32640a6bf"
   },
   "outputs": [
    {
     "name": "stdout",
     "output_type": "stream",
     "text": [
      "standard deviation: 79442.50288288663\n",
      "variance: 6311111264.297451\n",
      "Inter Quartile Range (IQR): 84025.0\n"
     ]
    }
   ],
   "source": [
    "print('standard deviation:',data['SalePrice'].std())\n",
    "print('variance:',data['SalePrice'].var())\n",
    "print('Inter Quartile Range (IQR):',data['SalePrice'].quantile(0.75)-data['SalePrice'].quantile(0.25))"
   ]
  },
  {
   "cell_type": "markdown",
   "metadata": {
    "id": "2oUFG9CsmiHS"
   },
   "source": [
    "- std/var: harga rumah berkisar antara 180,921 - 79,442 USD sampai 180,921 + 79,442 USD\n",
    "- interquartile: jarak antara Q3 dan Q1 sebesar 84025.0 USD"
   ]
  },
  {
   "cell_type": "markdown",
   "metadata": {
    "id": "eWdci4IXmiHS"
   },
   "source": [
    "# Soal 2 <a class=\"anchor\" id=\"soal2\"></a>\n",
    "Tunjukkan statistika deskriptif untuk variabel harga rumah (Column Name : SalePrice) setiap tahunnya (Column Name : YrSold)!\n",
    "Secara deskriptif jelaskan apakah ada perbedaan setiap tahunnya atau tidak?\n",
    "## Ekspektasi output : \n",
    "* ukuran pemusatan\n",
    "* ukuran penyebaran\n",
    "* interpretasi"
   ]
  },
  {
   "cell_type": "code",
   "execution_count": 5,
   "metadata": {},
   "outputs": [],
   "source": [
    "def q1(x):\n",
    "    return x.quantile(0.25)\n",
    "\n",
    "def q3(x):\n",
    "    return x.quantile(0.75)"
   ]
  },
  {
   "cell_type": "code",
   "execution_count": 9,
   "metadata": {
    "id": "wLnOz6uzmiHS",
    "outputId": "bef1fcbf-3de6-480a-91a0-43140fda4077"
   },
   "outputs": [
    {
     "data": {
      "text/html": [
       "<div>\n",
       "<style scoped>\n",
       "    .dataframe tbody tr th:only-of-type {\n",
       "        vertical-align: middle;\n",
       "    }\n",
       "\n",
       "    .dataframe tbody tr th {\n",
       "        vertical-align: top;\n",
       "    }\n",
       "\n",
       "    .dataframe thead th {\n",
       "        text-align: right;\n",
       "    }\n",
       "</style>\n",
       "<table border=\"1\" class=\"dataframe\">\n",
       "  <thead>\n",
       "    <tr style=\"text-align: right;\">\n",
       "      <th></th>\n",
       "      <th>Tahun</th>\n",
       "      <th>Mean</th>\n",
       "      <th>Median</th>\n",
       "      <th>Q1</th>\n",
       "      <th>Q3</th>\n",
       "      <th>Std</th>\n",
       "    </tr>\n",
       "  </thead>\n",
       "  <tbody>\n",
       "    <tr>\n",
       "      <th>1</th>\n",
       "      <td>2007</td>\n",
       "      <td>186063.151976</td>\n",
       "      <td>167000</td>\n",
       "      <td>129900</td>\n",
       "      <td>219500.0</td>\n",
       "      <td>85768.171410</td>\n",
       "    </tr>\n",
       "    <tr>\n",
       "      <th>0</th>\n",
       "      <td>2006</td>\n",
       "      <td>182549.458599</td>\n",
       "      <td>163995</td>\n",
       "      <td>131375</td>\n",
       "      <td>218782.5</td>\n",
       "      <td>79426.838855</td>\n",
       "    </tr>\n",
       "    <tr>\n",
       "      <th>3</th>\n",
       "      <td>2009</td>\n",
       "      <td>179432.103550</td>\n",
       "      <td>162000</td>\n",
       "      <td>125250</td>\n",
       "      <td>212750.0</td>\n",
       "      <td>80879.237311</td>\n",
       "    </tr>\n",
       "    <tr>\n",
       "      <th>4</th>\n",
       "      <td>2010</td>\n",
       "      <td>177393.674286</td>\n",
       "      <td>155000</td>\n",
       "      <td>128100</td>\n",
       "      <td>213250.0</td>\n",
       "      <td>80451.280085</td>\n",
       "    </tr>\n",
       "    <tr>\n",
       "      <th>2</th>\n",
       "      <td>2008</td>\n",
       "      <td>177360.838816</td>\n",
       "      <td>164000</td>\n",
       "      <td>131250</td>\n",
       "      <td>207000.0</td>\n",
       "      <td>69735.610685</td>\n",
       "    </tr>\n",
       "  </tbody>\n",
       "</table>\n",
       "</div>"
      ],
      "text/plain": [
       "   Tahun           Mean  Median      Q1        Q3           Std\n",
       "1   2007  186063.151976  167000  129900  219500.0  85768.171410\n",
       "0   2006  182549.458599  163995  131375  218782.5  79426.838855\n",
       "3   2009  179432.103550  162000  125250  212750.0  80879.237311\n",
       "4   2010  177393.674286  155000  128100  213250.0  80451.280085\n",
       "2   2008  177360.838816  164000  131250  207000.0  69735.610685"
      ]
     },
     "execution_count": 9,
     "metadata": {},
     "output_type": "execute_result"
    }
   ],
   "source": [
    "agg = {'SalePrice': ['mean','median',q1,q3,'std']}\n",
    "data_agg = data.groupby('YrSold').agg(agg).reset_index()\n",
    "data_agg.columns = ['Tahun','Mean','Median','Q1','Q3','Std']\n",
    "data_agg.sort_values('Mean',ascending = False)"
   ]
  },
  {
   "cell_type": "markdown",
   "metadata": {
    "id": "QajaCZ2zmiHU"
   },
   "source": [
    "Rata-rata harga rumah paling tinggi ada pada tahun 2007. Namun pada tahun tersebut memiliki harga yang paling beragam dibandingkan dengan harga yang lainnya."
   ]
  },
  {
   "cell_type": "markdown",
   "metadata": {
    "id": "4qi77b9TmiHU"
   },
   "source": [
    "# Soal 3  <a class=\"anchor\" id=\"soal3\"></a>\n",
    "Bagaimana distribusi harga rumah tersebut. Gunakan histogram plot tidak terbatas hanya histogram saja. Jelaskan sebaiknya untuk analisa apakah lebih baik menggunakan mean atau menggunakan median? Beserta alasannya (Column Name : SalePrice)\n",
    "\n",
    "Ceritakan analisa tersebut dengan sudut pandang statistika. Buatlah tim bisnis paham maksud dari grafik histogram tersebut. \n",
    "\n",
    "## Ekspektasi : \n",
    "* Grafik Histogram\n",
    "* Analisa\n",
    "* Interpretasi"
   ]
  },
  {
   "cell_type": "markdown",
   "metadata": {
    "id": "9i8rxowpmiHU"
   },
   "source": [
    "### Grafik Histogram"
   ]
  },
  {
   "cell_type": "code",
   "execution_count": 12,
   "metadata": {
    "id": "JL2YaA4ymiHU",
    "outputId": "61b10155-743c-43b4-b455-88614d3a8282"
   },
   "outputs": [
    {
     "data": {
      "text/plain": [
       "Text(0.5, 1.0, 'Sale Price Distribution Skewed Right (Positively Skewed)')"
      ]
     },
     "execution_count": 12,
     "metadata": {},
     "output_type": "execute_result"
    },
    {
     "data": {
      "image/png": "[encoded data removed]",
      "text/plain": [
       "<Figure size 1080x360 with 1 Axes>"
      ]
     },
     "metadata": {
      "needs_background": "light"
     },
     "output_type": "display_data"
    }
   ],
   "source": [
    "plt.figure(figsize=(15,5))\n",
    "ax = sns.histplot(data, x='SalePrice', \n",
    "                  linewidth=0.1)\n",
    "\n",
    "# setting \n",
    "plt.xlabel('Sale Price', fontsize = 13, labelpad = 20)\n",
    "plt.title('Sale Price Distribution Skewed Right (Positively Skewed)',\n",
    "          fontweight='bold',\n",
    "          fontsize = 16)"
   ]
  },
  {
   "cell_type": "markdown",
   "metadata": {
    "id": "ZT_wQ3IpmiHV"
   },
   "source": [
    "Harga rumah memiliki sebaran yang skewed (menceng) dengan arah skewed yang positif. Hal ini menyebabkan jika kita menggunakan rata-rata akan jauh lebih besar dibandingkan dengan menggunakan median. Dan untuk data tersebut lebih baik kita menggunakan median dibandingkan dengan menggunakan rata-rata."
   ]
  },
  {
   "cell_type": "markdown",
   "metadata": {
    "id": "P9w47PZBmiHW"
   },
   "source": [
    "# Soal 4  <a class=\"anchor\" id=\"soal4\"></a>"
   ]
  },
  {
   "cell_type": "markdown",
   "metadata": {
    "id": "v9dRI36fmiHW"
   },
   "source": [
    "Karena ada pernyataan bahwa setiap tahunnya harga rumah itu pasti naik. Silahkan teman-teman buktikan dengan data yang ada menggunakan ilmu statistika? (Tidak terbatas pada pengujian apapun)"
   ]
  },
  {
   "cell_type": "markdown",
   "metadata": {
    "id": "joRS8P0smiHW"
   },
   "source": [
    "### Penentuan hipotesis"
   ]
  },
  {
   "cell_type": "markdown",
   "metadata": {
    "id": "uoMveM4DmiHW"
   },
   "source": [
    "Apakah setiap tahunnya harga rumah itu pasti naik? Pertama kita harus buktikan terlebih dahulu apakah harga rumah setiap tahunnya sama atau berbeda?\n",
    "\n",
    "H0 : rata-rata harga rumah setiap tahunnya **sama** <br>\n",
    "H1 : rata-rata harga rumah setiap tahunnya **berbeda** "
   ]
  },
  {
   "cell_type": "markdown",
   "metadata": {
    "id": "ucutwBdLmiHW"
   },
   "source": [
    "### Pengujian yang digunakan"
   ]
  },
  {
   "cell_type": "markdown",
   "metadata": {
    "id": "H4qWJIiPmiHX"
   },
   "source": [
    "Kita akan melakukan uji-F (ANOVA)"
   ]
  },
  {
   "cell_type": "markdown",
   "metadata": {
    "id": "jrBUCsCOmiHX"
   },
   "source": [
    "### Deteksi asumsi beserta cara penanganannya"
   ]
  },
  {
   "cell_type": "code",
   "execution_count": 13,
   "metadata": {
    "id": "PBSpQ4u6miHX",
    "outputId": "a563f049-4db4-473a-9ea5-57095f70eb94"
   },
   "outputs": [
    {
     "data": {
      "text/html": [
       "<div>\n",
       "<style scoped>\n",
       "    .dataframe tbody tr th:only-of-type {\n",
       "        vertical-align: middle;\n",
       "    }\n",
       "\n",
       "    .dataframe tbody tr th {\n",
       "        vertical-align: top;\n",
       "    }\n",
       "\n",
       "    .dataframe thead th {\n",
       "        text-align: right;\n",
       "    }\n",
       "</style>\n",
       "<table border=\"1\" class=\"dataframe\">\n",
       "  <thead>\n",
       "    <tr style=\"text-align: right;\">\n",
       "      <th></th>\n",
       "      <th>Tahun</th>\n",
       "      <th>Mean</th>\n",
       "    </tr>\n",
       "  </thead>\n",
       "  <tbody>\n",
       "    <tr>\n",
       "      <th>0</th>\n",
       "      <td>2006</td>\n",
       "      <td>182549.458599</td>\n",
       "    </tr>\n",
       "    <tr>\n",
       "      <th>1</th>\n",
       "      <td>2007</td>\n",
       "      <td>186063.151976</td>\n",
       "    </tr>\n",
       "    <tr>\n",
       "      <th>2</th>\n",
       "      <td>2008</td>\n",
       "      <td>177360.838816</td>\n",
       "    </tr>\n",
       "    <tr>\n",
       "      <th>3</th>\n",
       "      <td>2009</td>\n",
       "      <td>179432.103550</td>\n",
       "    </tr>\n",
       "    <tr>\n",
       "      <th>4</th>\n",
       "      <td>2010</td>\n",
       "      <td>177393.674286</td>\n",
       "    </tr>\n",
       "  </tbody>\n",
       "</table>\n",
       "</div>"
      ],
      "text/plain": [
       "   Tahun           Mean\n",
       "0   2006  182549.458599\n",
       "1   2007  186063.151976\n",
       "2   2008  177360.838816\n",
       "3   2009  179432.103550\n",
       "4   2010  177393.674286"
      ]
     },
     "execution_count": 13,
     "metadata": {},
     "output_type": "execute_result"
    }
   ],
   "source": [
    "## Calculate Descriptive Statistics\n",
    "data_agg = data.groupby('YrSold').agg({'SalePrice': ['mean']}).reset_index()\n",
    "data_agg.columns = ['Tahun','Mean']\n",
    "data_agg"
   ]
  },
  {
   "cell_type": "markdown",
   "metadata": {
    "id": "rUY7_yDPmiHX"
   },
   "source": [
    "### Hasil Pengujian Hipotesis"
   ]
  },
  {
   "cell_type": "code",
   "execution_count": 14,
   "metadata": {
    "id": "RlUO7MrwmiHY",
    "outputId": "7acbd05f-5838-45fd-f8d4-72fe9a7b5e00"
   },
   "outputs": [
    {
     "data": {
      "text/plain": [
       "F_onewayResult(statistic=0.6455252211679311, pvalue=0.6300887663573457)"
      ]
     },
     "execution_count": 14,
     "metadata": {},
     "output_type": "execute_result"
    }
   ],
   "source": [
    "# Hypothesis Testing using ANOVA\n",
    "\n",
    "df_6 = data[data['YrSold'] == 2006]\n",
    "df_7 = data[data['YrSold'] == 2007]\n",
    "df_8 = data[data['YrSold'] == 2008]\n",
    "df_9 = data[data['YrSold'] == 2009]\n",
    "df_10 = data[data['YrSold'] == 2010]\n",
    "\n",
    "\n",
    "ftest = st.f_oneway(df_6['SalePrice'], df_7['SalePrice'], df_8['SalePrice'], df_9['SalePrice'], df_10['SalePrice'])\n",
    "ftest"
   ]
  },
  {
   "cell_type": "code",
   "execution_count": 15,
   "metadata": {
    "id": "QtWSfvkdmiHY",
    "outputId": "d0693f06-0ee9-4d2f-d74c-d0ee69a139e3"
   },
   "outputs": [
    {
     "name": "stdout",
     "output_type": "stream",
     "text": [
      "P-Value : 0.6300887663573457\n",
      "Tidak cukup bukti menyatakan bahwa rata-rata harga rumah setiap tahunnya sama\n"
     ]
    }
   ],
   "source": [
    "p_value = ftest.pvalue\n",
    "alpha = 0.05\n",
    "print('P-Value :',p_value)\n",
    "\n",
    "if p_value >= alpha:\n",
    "    print('Tidak cukup bukti menyatakan bahwa rata-rata harga rumah setiap tahunnya sama')\n",
    "else:\n",
    "    print('Cukup bukti menyatakan (Tolak H0) bahwa rata-rata harga rumah setiap tahunnya berbeda')"
   ]
  },
  {
   "cell_type": "markdown",
   "metadata": {
    "id": "Dsfpam0EmiHY"
   },
   "source": [
    "Hasil uji hipotesis menunjukkan bahwa p-value > alpha, maka kita akan mengambil keputusan bahwa tidak ada perbedaan signifikan antara harga rumah untuk setiap tahunnya. \n",
    "\n",
    "**Kesimpulan:**\n",
    "Sehingga, kita dapat menyimpulkan rata-rata sale price house tidak mengalami kenaikan setiap tahunnya."
   ]
  },
  {
   "cell_type": "markdown",
   "metadata": {
    "id": "Rmg5FwtXmiHY"
   },
   "source": [
    "# Soal 5 <a class=\"anchor\" id=\"soal5\"></a>\n",
    "Kasus yang akan digunakan adalah membuka akun deposit untuk nasabah bank. Pada kesempatan kali ini data scientist diminta tolong untuk menganalisa hasil ab-testing suatu perusahaan bank. Apakah jumlah campaign mampu meningkatkan keinginan user untuk membuka akun deposit atau tidak?\n",
    "\n",
    "Data yang digunakan berasal dari folder bank.zip file yang digunakan \n",
    "adalah bank-full.csv\n",
    "\n",
    "1. Untuk variabel jumlah campaign bisa dicek untuk kolom campaign \n",
    "2. untuk variabel apakah akhirnya user membuka akun atau tidak bisa menggunakan variabel y"
   ]
  },
  {
   "cell_type": "code",
   "execution_count": 17,
   "metadata": {
    "id": "_HBsQUHMmiHY",
    "outputId": "ef2d4137-c577-41fc-c8b9-675c4dfb3b34"
   },
   "outputs": [
    {
     "data": {
      "text/html": [
       "<div>\n",
       "<style scoped>\n",
       "    .dataframe tbody tr th:only-of-type {\n",
       "        vertical-align: middle;\n",
       "    }\n",
       "\n",
       "    .dataframe tbody tr th {\n",
       "        vertical-align: top;\n",
       "    }\n",
       "\n",
       "    .dataframe thead th {\n",
       "        text-align: right;\n",
       "    }\n",
       "</style>\n",
       "<table border=\"1\" class=\"dataframe\">\n",
       "  <thead>\n",
       "    <tr style=\"text-align: right;\">\n",
       "      <th></th>\n",
       "      <th>age</th>\n",
       "      <th>job</th>\n",
       "      <th>marital</th>\n",
       "      <th>education</th>\n",
       "      <th>default</th>\n",
       "      <th>balance</th>\n",
       "      <th>housing</th>\n",
       "      <th>loan</th>\n",
       "      <th>contact</th>\n",
       "      <th>day</th>\n",
       "      <th>month</th>\n",
       "      <th>duration</th>\n",
       "      <th>campaign</th>\n",
       "      <th>pdays</th>\n",
       "      <th>previous</th>\n",
       "      <th>poutcome</th>\n",
       "      <th>y</th>\n",
       "    </tr>\n",
       "  </thead>\n",
       "  <tbody>\n",
       "    <tr>\n",
       "      <th>0</th>\n",
       "      <td>58</td>\n",
       "      <td>management</td>\n",
       "      <td>married</td>\n",
       "      <td>tertiary</td>\n",
       "      <td>no</td>\n",
       "      <td>2143</td>\n",
       "      <td>yes</td>\n",
       "      <td>no</td>\n",
       "      <td>unknown</td>\n",
       "      <td>5</td>\n",
       "      <td>may</td>\n",
       "      <td>261</td>\n",
       "      <td>1</td>\n",
       "      <td>-1</td>\n",
       "      <td>0</td>\n",
       "      <td>unknown</td>\n",
       "      <td>no</td>\n",
       "    </tr>\n",
       "    <tr>\n",
       "      <th>1</th>\n",
       "      <td>44</td>\n",
       "      <td>technician</td>\n",
       "      <td>single</td>\n",
       "      <td>secondary</td>\n",
       "      <td>no</td>\n",
       "      <td>29</td>\n",
       "      <td>yes</td>\n",
       "      <td>no</td>\n",
       "      <td>unknown</td>\n",
       "      <td>5</td>\n",
       "      <td>may</td>\n",
       "      <td>151</td>\n",
       "      <td>1</td>\n",
       "      <td>-1</td>\n",
       "      <td>0</td>\n",
       "      <td>unknown</td>\n",
       "      <td>no</td>\n",
       "    </tr>\n",
       "    <tr>\n",
       "      <th>2</th>\n",
       "      <td>33</td>\n",
       "      <td>entrepreneur</td>\n",
       "      <td>married</td>\n",
       "      <td>secondary</td>\n",
       "      <td>no</td>\n",
       "      <td>2</td>\n",
       "      <td>yes</td>\n",
       "      <td>yes</td>\n",
       "      <td>unknown</td>\n",
       "      <td>5</td>\n",
       "      <td>may</td>\n",
       "      <td>76</td>\n",
       "      <td>1</td>\n",
       "      <td>-1</td>\n",
       "      <td>0</td>\n",
       "      <td>unknown</td>\n",
       "      <td>no</td>\n",
       "    </tr>\n",
       "    <tr>\n",
       "      <th>3</th>\n",
       "      <td>47</td>\n",
       "      <td>blue-collar</td>\n",
       "      <td>married</td>\n",
       "      <td>unknown</td>\n",
       "      <td>no</td>\n",
       "      <td>1506</td>\n",
       "      <td>yes</td>\n",
       "      <td>no</td>\n",
       "      <td>unknown</td>\n",
       "      <td>5</td>\n",
       "      <td>may</td>\n",
       "      <td>92</td>\n",
       "      <td>1</td>\n",
       "      <td>-1</td>\n",
       "      <td>0</td>\n",
       "      <td>unknown</td>\n",
       "      <td>no</td>\n",
       "    </tr>\n",
       "    <tr>\n",
       "      <th>4</th>\n",
       "      <td>33</td>\n",
       "      <td>unknown</td>\n",
       "      <td>single</td>\n",
       "      <td>unknown</td>\n",
       "      <td>no</td>\n",
       "      <td>1</td>\n",
       "      <td>no</td>\n",
       "      <td>no</td>\n",
       "      <td>unknown</td>\n",
       "      <td>5</td>\n",
       "      <td>may</td>\n",
       "      <td>198</td>\n",
       "      <td>1</td>\n",
       "      <td>-1</td>\n",
       "      <td>0</td>\n",
       "      <td>unknown</td>\n",
       "      <td>no</td>\n",
       "    </tr>\n",
       "  </tbody>\n",
       "</table>\n",
       "</div>"
      ],
      "text/plain": [
       "   age           job  marital  education default  balance housing loan  \\\n",
       "0   58    management  married   tertiary      no     2143     yes   no   \n",
       "1   44    technician   single  secondary      no       29     yes   no   \n",
       "2   33  entrepreneur  married  secondary      no        2     yes  yes   \n",
       "3   47   blue-collar  married    unknown      no     1506     yes   no   \n",
       "4   33       unknown   single    unknown      no        1      no   no   \n",
       "\n",
       "   contact  day month  duration  campaign  pdays  previous poutcome   y  \n",
       "0  unknown    5   may       261         1     -1         0  unknown  no  \n",
       "1  unknown    5   may       151         1     -1         0  unknown  no  \n",
       "2  unknown    5   may        76         1     -1         0  unknown  no  \n",
       "3  unknown    5   may        92         1     -1         0  unknown  no  \n",
       "4  unknown    5   may       198         1     -1         0  unknown  no  "
      ]
     },
     "execution_count": 17,
     "metadata": {},
     "output_type": "execute_result"
    }
   ],
   "source": [
    "bank = pd.read_csv('bank-full.csv', engine='python', sep=None)\n",
    "bank.head()"
   ]
  },
  {
   "cell_type": "markdown",
   "metadata": {
    "id": "l6QHAlRVmiHY"
   },
   "source": [
    "### 1 Pemahaman konsep A/B Testing"
   ]
  },
  {
   "cell_type": "markdown",
   "metadata": {
    "id": "M_mBM8lEmiHZ"
   },
   "source": [
    "#### a. Apa nama experimentnya?"
   ]
  },
  {
   "cell_type": "markdown",
   "metadata": {
    "id": "8nb8UY-WmiHZ"
   },
   "source": [
    "AB Testing pengaruh jumlah campaign terhadap user yang akhirnya membuka akun deposit"
   ]
  },
  {
   "cell_type": "markdown",
   "metadata": {
    "id": "wu7ttomGmiHZ"
   },
   "source": [
    "#### b. Definisikan Hipotesis"
   ]
  },
  {
   "cell_type": "markdown",
   "metadata": {
    "id": "vzlPx7TAmiHZ"
   },
   "source": [
    "semakin banyak campaign yang dilakukan terhadap user maka kemungkinan user akan membuka akun semakin tinggi."
   ]
  },
  {
   "cell_type": "markdown",
   "metadata": {
    "id": "qZFLHb-omiHZ"
   },
   "source": [
    "#### c. Siapa participant-nya?"
   ]
  },
  {
   "cell_type": "markdown",
   "metadata": {
    "id": "IJ7QyY_emiHZ"
   },
   "source": [
    "Nasabah bank"
   ]
  },
  {
   "cell_type": "markdown",
   "metadata": {
    "id": "NKNJO7xAmiHZ"
   },
   "source": [
    "#### d. Variabel yang akan diuji apa?"
   ]
  },
  {
   "cell_type": "markdown",
   "metadata": {
    "id": "M_c4d5uZmiHZ"
   },
   "source": [
    "Jumlah campaign"
   ]
  },
  {
   "cell_type": "markdown",
   "metadata": {
    "id": "wnXosWefmiHa"
   },
   "source": [
    "#### e. Metrics apa yang akan digunakan?"
   ]
  },
  {
   "cell_type": "markdown",
   "metadata": {
    "id": "vstGq839miHa"
   },
   "source": [
    "**Macroconversions:** jumlah campaign per nasabah"
   ]
  },
  {
   "cell_type": "markdown",
   "metadata": {
    "id": "4CYFT3SLmiHa"
   },
   "source": [
    "**Microconversions:** jumlah nasabah yang diberi campaign"
   ]
  },
  {
   "cell_type": "markdown",
   "metadata": {
    "id": "fqSLj5nXmiHa"
   },
   "source": [
    "#### f. Berapa sample size dan durasi experiment?"
   ]
  },
  {
   "cell_type": "code",
   "execution_count": 19,
   "metadata": {
    "id": "X7BFizmFmiHa",
    "outputId": "0475da76-c41c-4531-ee6c-d0c1fadf03be"
   },
   "outputs": [
    {
     "data": {
      "text/plain": [
       "396.4920742803271"
      ]
     },
     "execution_count": 19,
     "metadata": {},
     "output_type": "execute_result"
    }
   ],
   "source": [
    "N = bank.shape[0]\n",
    "e = 0.05\n",
    "slovin = N / (1+ N * e**2)\n",
    "slovin"
   ]
  },
  {
   "cell_type": "code",
   "execution_count": 20,
   "metadata": {
    "id": "5M7stt1RmiHa",
    "outputId": "00d2d7bd-5d35-4f49-ac08-a9402687e3c0"
   },
   "outputs": [
    {
     "data": {
      "text/plain": [
       "no     200\n",
       "yes    200\n",
       "Name: y, dtype: int64"
      ]
     },
     "execution_count": 20,
     "metadata": {},
     "output_type": "execute_result"
    }
   ],
   "source": [
    "bank_sample = bank.groupby(['y']).apply(lambda x: x.sample(n=200,random_state=123))\n",
    "bank_sample['y'].value_counts()"
   ]
  },
  {
   "cell_type": "markdown",
   "metadata": {
    "id": "XFXFdjh8miHb"
   },
   "source": [
    "**Jadi jumlah sample yang dibutuhkan ada 400 sample, dengan 200 untuk masing-masing conversion group (yes/no).**"
   ]
  },
  {
   "cell_type": "markdown",
   "metadata": {},
   "source": [
    "durasi experiment akan dilakukan selama 7 hari"
   ]
  },
  {
   "cell_type": "markdown",
   "metadata": {
    "id": "WLTuVY24miHb"
   },
   "source": [
    "### 2. Pengujian Hipotesis"
   ]
  },
  {
   "cell_type": "markdown",
   "metadata": {
    "id": "eKK3WUJTmiHb"
   },
   "source": [
    "#### a. Penentuan hipotesis"
   ]
  },
  {
   "cell_type": "markdown",
   "metadata": {
    "id": "raKQviKvmiHb"
   },
   "source": [
    "Apakah jumlah campaign mampu meningkatkan keinginan user untuk membuka akun deposit atau tidak?\n",
    "\n",
    "H0: rata-rata jumlah campaign nasabah yang membuka akun **sama** dengan yang tidak membuka akun  <br>\n",
    "H1: rata-rata jumlah campaign nasabah yang membuka akun **berbeda** dengan yang tidak membuka akun"
   ]
  },
  {
   "cell_type": "markdown",
   "metadata": {
    "id": "ny5sKgEBmiHc"
   },
   "source": [
    "#### b. Pengujian yang digunakan"
   ]
  },
  {
   "cell_type": "markdown",
   "metadata": {
    "id": "YyUd2f3XmiHc"
   },
   "source": [
    "Bisa menggunakan uji-t untuk setiap kategori **membuka akun** dan **tidak membuka akun**. \n",
    "(Pengujian tidak terbatas pada uji-t. Jika ada yang ingin menggunakan pengujian yang lain sangat diperbolehkan)"
   ]
  },
  {
   "cell_type": "markdown",
   "metadata": {
    "id": "m45JIlMumiHc"
   },
   "source": [
    "#### c. Deteksi asumsi beserta cara penanganannya"
   ]
  },
  {
   "cell_type": "code",
   "execution_count": 34,
   "metadata": {},
   "outputs": [],
   "source": [
    "yes = bank[bank['y']=='yes']\n",
    "no = bank[bank['y']=='no']"
   ]
  },
  {
   "cell_type": "code",
   "execution_count": 49,
   "metadata": {},
   "outputs": [
    {
     "data": {
      "text/plain": [
       "2.1410474569861977"
      ]
     },
     "execution_count": 49,
     "metadata": {},
     "output_type": "execute_result"
    }
   ],
   "source": [
    "yes['campaign'].mean()"
   ]
  },
  {
   "cell_type": "code",
   "execution_count": 50,
   "metadata": {},
   "outputs": [
    {
     "data": {
      "text/plain": [
       "2.8463503832473322"
      ]
     },
     "execution_count": 50,
     "metadata": {},
     "output_type": "execute_result"
    }
   ],
   "source": [
    "no['campaign'].mean()"
   ]
  },
  {
   "cell_type": "code",
   "execution_count": 51,
   "metadata": {},
   "outputs": [
    {
     "data": {
      "text/plain": [
       "(0.0, 10.0)"
      ]
     },
     "execution_count": 51,
     "metadata": {},
     "output_type": "execute_result"
    },
    {
     "data": {
      "image/png": "[encoded data removed]",
      "text/plain": [
       "<Figure size 1080x360 with 1 Axes>"
      ]
     },
     "metadata": {
      "needs_background": "light"
     },
     "output_type": "display_data"
    }
   ],
   "source": [
    "plt.figure(figsize=(15,5))\n",
    "\n",
    "sns.kdeplot(yes['campaign'],label = 'yes')\n",
    "sns.kdeplot(no['campaign'], label = 'no')\n",
    "\n",
    "plt.legend()\n",
    "plt.xlim(0,10)"
   ]
  },
  {
   "cell_type": "code",
   "execution_count": 43,
   "metadata": {},
   "outputs": [
    {
     "name": "stdout",
     "output_type": "stream",
     "text": [
      "banyaknya data: 45211\n"
     ]
    }
   ],
   "source": [
    "print('banyaknya data:',bank.shape[0])"
   ]
  },
  {
   "cell_type": "markdown",
   "metadata": {
    "id": "pOMIxpLYmiHc"
   },
   "source": [
    "#### d. Hasil pengujian hipotesis\n"
   ]
  },
  {
   "cell_type": "code",
   "execution_count": 53,
   "metadata": {
    "id": "HsRhxeVamiHd",
    "outputId": "1e7f07d3-193d-4c6d-c3fa-5f6910211b23"
   },
   "outputs": [
    {
     "data": {
      "text/plain": [
       "9.742452436952554e-72"
      ]
     },
     "execution_count": 53,
     "metadata": {},
     "output_type": "execute_result"
    }
   ],
   "source": [
    "# Hypothesis Testing using chi-square\n",
    "stat, p_value= st.mannwhitneyu(yes['campaign'],no['campaign'])\n",
    "p_value"
   ]
  },
  {
   "cell_type": "code",
   "execution_count": 54,
   "metadata": {
    "id": "iyKvBduimiHd",
    "outputId": "54d54d89-3ae0-4ad5-d5ab-5282904816ab"
   },
   "outputs": [
    {
     "name": "stdout",
     "output_type": "stream",
     "text": [
      "P-Value : 9.742452436952554e-72\n",
      "cukup bukti jumlah campaign mampu membedakan user untuk membuka akun atau tidak\n"
     ]
    }
   ],
   "source": [
    "alpha = 0.05\n",
    "print('P-Value :',p_value)\n",
    "\n",
    "if p_value >= alpha:\n",
    "    print('Tidak cukup bukti jumlah campaign mampu membedakan user untuk membuka akun atau tidak')\n",
    "else:\n",
    "    print('cukup bukti jumlah campaign mampu membedakan user untuk membuka akun atau tidak')"
   ]
  },
  {
   "cell_type": "markdown",
   "metadata": {
    "id": "tHbp7VUJmiHd"
   },
   "source": [
    "#### e. Kesimpulan dan interpretasi\n"
   ]
  },
  {
   "cell_type": "markdown",
   "metadata": {
    "id": "wheDTyEFmiHd"
   },
   "source": [
    "Hasil uji hipotesis menunjukkan bahwa p-value < alpha, maka kita akan mengambil keputusan bahwa jumlah campaign berpengaruh terhadap nasabah untuk membuka akun atau tidak secara signifikan. \n",
    "\n",
    "Namun berdasarkan berdasarkan rata-rata ternyata semakin banyak campaign yang diberikan ternyata user akan semakin menolak membuka akun.\n",
    "\n",
    "Jadi kesimpulannya, jumlah campaign berhubungan terbalik dengan user membuka akun."
   ]
  }
 ],
 "metadata": {
  "colab": {
   "name": "inna-statistics-hw.ipynb",
   "provenance": []
  },
  "kernelspec": {
   "display_name": "Python 3 (ipykernel)",
   "language": "python",
   "name": "python3"
  },
  "language_info": {
   "codemirror_mode": {
    "name": "ipython",
    "version": 3
   },
   "file_extension": ".py",
   "mimetype": "text/x-python",
   "name": "python",
   "nbconvert_exporter": "python",
   "pygments_lexer": "ipython3",
   "version": "3.9.13"
  }
 },
 "nbformat": 4,
 "nbformat_minor": 1
}
