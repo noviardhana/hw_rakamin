{
  "nbformat": 4,
  "nbformat_minor": 0,
  "metadata": {
    "colab": {
      "provenance": [],
      "mount_file_id": "1aOTomwCjMPx2CcG7RwNanc8XYbz7mvKi",
      "authorship_tag": "ABX9TyPVCzwmNTbnF3XJf2rFyGbE",
      "include_colab_link": true
    },
    "kernelspec": {
      "name": "python3",
      "display_name": "Python 3"
    },
    "language_info": {
      "name": "python"
    }
  },
  "cells": [
    {
      "cell_type": "markdown",
      "metadata": {
        "id": "view-in-github",
        "colab_type": "text"
      },
      "source": [
        "<a href=\"https://colab.research.google.com/github/noviardhana/hw_rakamin/blob/main/HW_Python_Programming.ipynb\" target=\"_parent\"><img src=\"https://colab.research.google.com/assets/colab-badge.svg\" alt=\"Open In Colab\"/></a>"
      ]
    },
    {
      "cell_type": "code",
      "execution_count": 1,
      "metadata": {
        "id": "-tHjthgLl8mE"
      },
      "outputs": [],
      "source": [
        "import numpy as np\n",
        "import pandas as pd"
      ]
    },
    {
      "cell_type": "markdown",
      "source": [
        "## Jawaban soal no.1\n",
        "\n",
        "Menentukan jumlah plat genap dan ganjil"
      ],
      "metadata": {
        "id": "CkwSGcNTd97D"
      }
    },
    {
      "cell_type": "code",
      "source": [
        "list_plat_mobil = ['B 1234 AB', 'B 6721 TY', 'B 1233 AY', 'B 6629 DD', 'B 1111 AM', 'B 6726 D', 'D 11223 KJ', 'AE 44677 GH', 'AE 67269 AA']"
      ],
      "metadata": {
        "id": "RhlQkOadmFjN"
      },
      "execution_count": 2,
      "outputs": []
    },
    {
      "cell_type": "code",
      "source": [
        "# Function to deffinition odd and event plat\n",
        "def check(x):\n",
        "    x = int(x.split()[1]) # Get numerical values from 'number plate'\n",
        "    result = 'genap' if x % 2 == 0 else 'ganjil'\n",
        "    return result;"
      ],
      "metadata": {
        "id": "ib9-ovm7XLDn"
      },
      "execution_count": 3,
      "outputs": []
    },
    {
      "cell_type": "code",
      "source": [
        "# Initiation values\n",
        "even = 0\n",
        "odd = 0\n",
        "\n",
        "# Itteration\n",
        "for x in list_plat_mobil:\n",
        "    plat = x\n",
        "    if check(x) == 'genap': # Conditional statments counting odd and even plate\n",
        "        even += 1\n",
        "    else:\n",
        "        odd += 1\n",
        "  # print(f'plat {plat} adalah {cek(x)}')\n",
        "\n",
        "print(f'Jumlah plat Ganjil adalah {odd} dan Genap adalah {even}')"
      ],
      "metadata": {
        "colab": {
          "base_uri": "https://localhost:8080/"
        },
        "id": "FVLbtYeA4ZSJ",
        "outputId": "c512a24d-7af6-4622-db41-4ec8c969bc38"
      },
      "execution_count": 4,
      "outputs": [
        {
          "output_type": "stream",
          "name": "stdout",
          "text": [
            "Jumlah plat Ganjil adalah 7 dan Genap adalah 2\n"
          ]
        }
      ]
    },
    {
      "cell_type": "markdown",
      "source": [
        "## Jawaban soal no.2\n",
        "\n",
        "Deret Fibbonanci"
      ],
      "metadata": {
        "id": "z0FyVBfXgaZg"
      }
    },
    {
      "cell_type": "code",
      "source": [
        "# Function fibbonanci from (2, 3)\n",
        "def fibonacci(n):\n",
        "    sequence = [2, 3] # Initial values\n",
        "    while len(sequence) < n:\n",
        "        next_value = sequence[len(sequence) - 1] + sequence[len(sequence) - 2]\n",
        "        sequence.append(next_value)\n",
        "    return sequence;"
      ],
      "metadata": {
        "id": "TKJ4xY4Kj7mU"
      },
      "execution_count": 5,
      "outputs": []
    },
    {
      "cell_type": "code",
      "source": [
        "print(\"12 angka pertama dalam deret Fibonacci:\")\n",
        "print(fibonacci(12))\n"
      ],
      "metadata": {
        "colab": {
          "base_uri": "https://localhost:8080/"
        },
        "id": "rlvrZ6O-zZeg",
        "outputId": "05b228ae-8501-4743-ae1a-0a5c70a1988b"
      },
      "execution_count": 6,
      "outputs": [
        {
          "output_type": "stream",
          "name": "stdout",
          "text": [
            "12 angka pertama dalam deret Fibonacci:\n",
            "[2, 3, 5, 8, 13, 21, 34, 55, 89, 144, 233, 377]\n"
          ]
        }
      ]
    },
    {
      "cell_type": "markdown",
      "source": [
        "## Jawaban soal no.3\n",
        "\n",
        "Team Campaign PT ABC membuat promo *bundling category product*"
      ],
      "metadata": {
        "id": "12Uz2aWp13ZB"
      }
    },
    {
      "cell_type": "code",
      "source": [
        "list_id_category = ['c1', 'c2', 'c3', 'c4', 'c5', 'c6', 'c7' , 'c8', 'c9', 'c10']"
      ],
      "metadata": {
        "id": "OFpryG1i2OR2"
      },
      "execution_count": 12,
      "outputs": []
    },
    {
      "cell_type": "code",
      "source": [
        "# Empty list\n",
        "combination = []\n",
        "\n",
        "# Function to calculate combination from 10 parameter\n",
        "def comb(L, count=0):\n",
        "    for i in list_id_category:\n",
        "        for j in list_id_category:\n",
        "            for k in list_id_category:\n",
        "              list_loop = sorted([i, j, k])    \n",
        "              if list_loop not in combination and i != j != k:  \n",
        "              # Check if parameter in the indexesare not same \n",
        "                 combination.append(list_loop)\n",
        "                 count += 1 # Count combination of parameter\n",
        "    return print(f'terdapat {count} jumlah kemungkinan kombinasi');                "
      ],
      "metadata": {
        "id": "JD1jblGJ2cHD"
      },
      "execution_count": 13,
      "outputs": []
    },
    {
      "cell_type": "code",
      "source": [
        "comb(list_id_category)"
      ],
      "metadata": {
        "colab": {
          "base_uri": "https://localhost:8080/"
        },
        "id": "nDm6K9LiWp38",
        "outputId": "ab9c4ab2-2cc0-4379-fbb6-a8f32aa4065d"
      },
      "execution_count": 14,
      "outputs": [
        {
          "output_type": "stream",
          "name": "stdout",
          "text": [
            "terdapat 210 jumlah kemungkinan kombinasi\n"
          ]
        }
      ]
    },
    {
      "cell_type": "markdown",
      "source": [
        "## Jawaban soal no.4\n",
        "\n",
        "function *string_processor*"
      ],
      "metadata": {
        "id": "ItBDhsYvOAZY"
      }
    },
    {
      "cell_type": "code",
      "source": [
        "def string_processor(x, process = 'num_vowels'):\n",
        "    process = process.lower()\n",
        "    x = x.lower()\n",
        "    if process == 'first_char':\n",
        "      hasil = x[0]\n",
        "    elif process == 'last_char':\n",
        "      hasil = x[-1]\n",
        "    elif process == 'num_chars':\n",
        "      hasil = len(x)\n",
        "    elif process == 'num_vowels':\n",
        "      hasil = num_vowels(x)\n",
        "    return hasil;\n",
        "\n",
        "def num_vowels(x):\n",
        "  count = 0\n",
        "  vowels = [\"a\", \"e\", \"i\", \"o\", \"u\"]\n",
        "  for i in range(len(x)):\n",
        "    if x[i] in vowels:\n",
        "        count += 1\n",
        "  return count;"
      ],
      "metadata": {
        "id": "2zKUEw1IKxNg"
      },
      "execution_count": 15,
      "outputs": []
    },
    {
      "cell_type": "code",
      "source": [
        "string_processor('The Quick Brown Fox Jumps Over The Lazy Dog')"
      ],
      "metadata": {
        "colab": {
          "base_uri": "https://localhost:8080/"
        },
        "id": "K3DxkHq0ECJ1",
        "outputId": "ea70c8f6-7316-4c5a-ce71-fd1ce828a658"
      },
      "execution_count": 16,
      "outputs": [
        {
          "output_type": "execute_result",
          "data": {
            "text/plain": [
              "11"
            ]
          },
          "metadata": {},
          "execution_count": 16
        }
      ]
    },
    {
      "cell_type": "markdown",
      "source": [
        "## Jawaban soal no.5\n",
        "\n",
        "user yang menggunakan email gmail pada tahun 2018"
      ],
      "metadata": {
        "id": "PsNqkn2-UR29"
      }
    },
    {
      "cell_type": "code",
      "source": [
        "df = pd.read_csv('/content/drive/MyDrive/0. Rakamin/rakamin_store_city_monthly.csv', delimiter = ';')\n",
        "df.head()"
      ],
      "metadata": {
        "colab": {
          "base_uri": "https://localhost:8080/",
          "height": 206
        },
        "id": "Nw_n0bYgYR-j",
        "outputId": "e6e181b7-f169-4797-dce2-0972e22fbec3"
      },
      "execution_count": 20,
      "outputs": [
        {
          "output_type": "execute_result",
          "data": {
            "text/plain": [
              "     month  user_id                 username  \\\n",
              "0  2016-01       16            Kevin Ningsih   \n",
              "1  2016-01       25            Sakti Hasaniy   \n",
              "2  2016-01       39              Izhar Halim   \n",
              "3  2016-02        8  Dikposa Yosua Krisnanto   \n",
              "4  2016-02       34          Ismail Wardhani   \n",
              "\n",
              "                               email             kota  total_visit  \\\n",
              "0         kevinningsih@roketmail.com  Jakarta Selatan           95   \n",
              "1           saktihasaniy@outlook.com    Jakarta Pusat           97   \n",
              "2               izharhalim@gmail.com    Jakarta Timur           84   \n",
              "3  dikposayosuakrisnanto@hotmail.com    Jakarta Pusat          113   \n",
              "4         ismailwardhani@hotmail.com  Jakarta Selatan           25   \n",
              "\n",
              "   total_order  total_amount  \n",
              "0           15         45724  \n",
              "1            1         26665  \n",
              "2           33        899001  \n",
              "3           11         22012  \n",
              "4            2         55620  "
            ],
            "text/html": [
              "\n",
              "  <div id=\"df-27fb1ea1-6fb1-4f78-b6cc-f80f2f6bdce4\">\n",
              "    <div class=\"colab-df-container\">\n",
              "      <div>\n",
              "<style scoped>\n",
              "    .dataframe tbody tr th:only-of-type {\n",
              "        vertical-align: middle;\n",
              "    }\n",
              "\n",
              "    .dataframe tbody tr th {\n",
              "        vertical-align: top;\n",
              "    }\n",
              "\n",
              "    .dataframe thead th {\n",
              "        text-align: right;\n",
              "    }\n",
              "</style>\n",
              "<table border=\"1\" class=\"dataframe\">\n",
              "  <thead>\n",
              "    <tr style=\"text-align: right;\">\n",
              "      <th></th>\n",
              "      <th>month</th>\n",
              "      <th>user_id</th>\n",
              "      <th>username</th>\n",
              "      <th>email</th>\n",
              "      <th>kota</th>\n",
              "      <th>total_visit</th>\n",
              "      <th>total_order</th>\n",
              "      <th>total_amount</th>\n",
              "    </tr>\n",
              "  </thead>\n",
              "  <tbody>\n",
              "    <tr>\n",
              "      <th>0</th>\n",
              "      <td>2016-01</td>\n",
              "      <td>16</td>\n",
              "      <td>Kevin Ningsih</td>\n",
              "      <td>kevinningsih@roketmail.com</td>\n",
              "      <td>Jakarta Selatan</td>\n",
              "      <td>95</td>\n",
              "      <td>15</td>\n",
              "      <td>45724</td>\n",
              "    </tr>\n",
              "    <tr>\n",
              "      <th>1</th>\n",
              "      <td>2016-01</td>\n",
              "      <td>25</td>\n",
              "      <td>Sakti Hasaniy</td>\n",
              "      <td>saktihasaniy@outlook.com</td>\n",
              "      <td>Jakarta Pusat</td>\n",
              "      <td>97</td>\n",
              "      <td>1</td>\n",
              "      <td>26665</td>\n",
              "    </tr>\n",
              "    <tr>\n",
              "      <th>2</th>\n",
              "      <td>2016-01</td>\n",
              "      <td>39</td>\n",
              "      <td>Izhar Halim</td>\n",
              "      <td>izharhalim@gmail.com</td>\n",
              "      <td>Jakarta Timur</td>\n",
              "      <td>84</td>\n",
              "      <td>33</td>\n",
              "      <td>899001</td>\n",
              "    </tr>\n",
              "    <tr>\n",
              "      <th>3</th>\n",
              "      <td>2016-02</td>\n",
              "      <td>8</td>\n",
              "      <td>Dikposa Yosua Krisnanto</td>\n",
              "      <td>dikposayosuakrisnanto@hotmail.com</td>\n",
              "      <td>Jakarta Pusat</td>\n",
              "      <td>113</td>\n",
              "      <td>11</td>\n",
              "      <td>22012</td>\n",
              "    </tr>\n",
              "    <tr>\n",
              "      <th>4</th>\n",
              "      <td>2016-02</td>\n",
              "      <td>34</td>\n",
              "      <td>Ismail Wardhani</td>\n",
              "      <td>ismailwardhani@hotmail.com</td>\n",
              "      <td>Jakarta Selatan</td>\n",
              "      <td>25</td>\n",
              "      <td>2</td>\n",
              "      <td>55620</td>\n",
              "    </tr>\n",
              "  </tbody>\n",
              "</table>\n",
              "</div>\n",
              "      <button class=\"colab-df-convert\" onclick=\"convertToInteractive('df-27fb1ea1-6fb1-4f78-b6cc-f80f2f6bdce4')\"\n",
              "              title=\"Convert this dataframe to an interactive table.\"\n",
              "              style=\"display:none;\">\n",
              "        \n",
              "  <svg xmlns=\"http://www.w3.org/2000/svg\" height=\"24px\"viewBox=\"0 0 24 24\"\n",
              "       width=\"24px\">\n",
              "    <path d=\"M0 0h24v24H0V0z\" fill=\"none\"/>\n",
              "    <path d=\"M18.56 5.44l.94 2.06.94-2.06 2.06-.94-2.06-.94-.94-2.06-.94 2.06-2.06.94zm-11 1L8.5 8.5l.94-2.06 2.06-.94-2.06-.94L8.5 2.5l-.94 2.06-2.06.94zm10 10l.94 2.06.94-2.06 2.06-.94-2.06-.94-.94-2.06-.94 2.06-2.06.94z\"/><path d=\"M17.41 7.96l-1.37-1.37c-.4-.4-.92-.59-1.43-.59-.52 0-1.04.2-1.43.59L10.3 9.45l-7.72 7.72c-.78.78-.78 2.05 0 2.83L4 21.41c.39.39.9.59 1.41.59.51 0 1.02-.2 1.41-.59l7.78-7.78 2.81-2.81c.8-.78.8-2.07 0-2.86zM5.41 20L4 18.59l7.72-7.72 1.47 1.35L5.41 20z\"/>\n",
              "  </svg>\n",
              "      </button>\n",
              "      \n",
              "  <style>\n",
              "    .colab-df-container {\n",
              "      display:flex;\n",
              "      flex-wrap:wrap;\n",
              "      gap: 12px;\n",
              "    }\n",
              "\n",
              "    .colab-df-convert {\n",
              "      background-color: #E8F0FE;\n",
              "      border: none;\n",
              "      border-radius: 50%;\n",
              "      cursor: pointer;\n",
              "      display: none;\n",
              "      fill: #1967D2;\n",
              "      height: 32px;\n",
              "      padding: 0 0 0 0;\n",
              "      width: 32px;\n",
              "    }\n",
              "\n",
              "    .colab-df-convert:hover {\n",
              "      background-color: #E2EBFA;\n",
              "      box-shadow: 0px 1px 2px rgba(60, 64, 67, 0.3), 0px 1px 3px 1px rgba(60, 64, 67, 0.15);\n",
              "      fill: #174EA6;\n",
              "    }\n",
              "\n",
              "    [theme=dark] .colab-df-convert {\n",
              "      background-color: #3B4455;\n",
              "      fill: #D2E3FC;\n",
              "    }\n",
              "\n",
              "    [theme=dark] .colab-df-convert:hover {\n",
              "      background-color: #434B5C;\n",
              "      box-shadow: 0px 1px 3px 1px rgba(0, 0, 0, 0.15);\n",
              "      filter: drop-shadow(0px 1px 2px rgba(0, 0, 0, 0.3));\n",
              "      fill: #FFFFFF;\n",
              "    }\n",
              "  </style>\n",
              "\n",
              "      <script>\n",
              "        const buttonEl =\n",
              "          document.querySelector('#df-27fb1ea1-6fb1-4f78-b6cc-f80f2f6bdce4 button.colab-df-convert');\n",
              "        buttonEl.style.display =\n",
              "          google.colab.kernel.accessAllowed ? 'block' : 'none';\n",
              "\n",
              "        async function convertToInteractive(key) {\n",
              "          const element = document.querySelector('#df-27fb1ea1-6fb1-4f78-b6cc-f80f2f6bdce4');\n",
              "          const dataTable =\n",
              "            await google.colab.kernel.invokeFunction('convertToInteractive',\n",
              "                                                     [key], {});\n",
              "          if (!dataTable) return;\n",
              "\n",
              "          const docLinkHtml = 'Like what you see? Visit the ' +\n",
              "            '<a target=\"_blank\" href=https://colab.research.google.com/notebooks/data_table.ipynb>data table notebook</a>'\n",
              "            + ' to learn more about interactive tables.';\n",
              "          element.innerHTML = '';\n",
              "          dataTable['output_type'] = 'display_data';\n",
              "          await google.colab.output.renderOutput(dataTable, element);\n",
              "          const docLink = document.createElement('div');\n",
              "          docLink.innerHTML = docLinkHtml;\n",
              "          element.appendChild(docLink);\n",
              "        }\n",
              "      </script>\n",
              "    </div>\n",
              "  </div>\n",
              "  "
            ]
          },
          "metadata": {},
          "execution_count": 20
        }
      ]
    }
  ]
}